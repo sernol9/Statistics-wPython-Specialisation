{
 "cells": [
  {
   "cell_type": "markdown",
   "metadata": {},
   "source": [
    "# Practice notebook for univariate analysis using NHANES data\n",
    "\n",
    "This notebook will give you the opportunity to perform some univariate analyses on your own using the NHANES.  These analyses are similar to what was done in the week 2 NHANES case study notebook.\n",
    "\n",
    "You can enter your code into the cells that say \"enter your code here\", and you can type responses to the questions into the cells that say \"Type Markdown and Latex\".\n",
    "\n",
    "Note that most of the code that you will need to write below is very similar to code that appears in the case study notebook.  You will need to edit code from that notebook in small ways to adapt it to the prompts below.\n",
    "\n",
    "To get started, we will use the same module imports and read the data in the same way as we did in the case study:"
   ]
  },
  {
   "cell_type": "code",
   "execution_count": 2,
   "metadata": {},
   "outputs": [],
   "source": [
    "%matplotlib inline\n",
    "import matplotlib.pyplot as plt\n",
    "import seaborn as sns\n",
    "import pandas as pd\n",
    "import statsmodels.api as sm\n",
    "import numpy as np"
   ]
  },
  {
   "cell_type": "code",
   "execution_count": 3,
   "metadata": {},
   "outputs": [],
   "source": [
    "da = pd.read_csv(\"..\\..\\\\nhanes_2015_2016.csv\")"
   ]
  },
  {
   "cell_type": "code",
   "execution_count": 4,
   "metadata": {},
   "outputs": [
    {
     "name": "stdout",
     "output_type": "stream",
     "text": [
      "Index(['SEQN', 'ALQ101', 'ALQ110', 'ALQ130', 'SMQ020', 'RIAGENDR', 'RIDAGEYR',\n",
      "       'RIDRETH1', 'DMDCITZN', 'DMDEDUC2', 'DMDMARTL', 'DMDHHSIZ', 'WTINT2YR',\n",
      "       'SDMVPSU', 'SDMVSTRA', 'INDFMPIR', 'BPXSY1', 'BPXDI1', 'BPXSY2',\n",
      "       'BPXDI2', 'BMXWT', 'BMXHT', 'BMXBMI', 'BMXLEG', 'BMXARML', 'BMXARMC',\n",
      "       'BMXWAIST', 'HIQ210'],\n",
      "      dtype='object')\n"
     ]
    },
    {
     "data": {
      "text/html": [
       "<div>\n",
       "<style scoped>\n",
       "    .dataframe tbody tr th:only-of-type {\n",
       "        vertical-align: middle;\n",
       "    }\n",
       "\n",
       "    .dataframe tbody tr th {\n",
       "        vertical-align: top;\n",
       "    }\n",
       "\n",
       "    .dataframe thead th {\n",
       "        text-align: right;\n",
       "    }\n",
       "</style>\n",
       "<table border=\"1\" class=\"dataframe\">\n",
       "  <thead>\n",
       "    <tr style=\"text-align: right;\">\n",
       "      <th></th>\n",
       "      <th>SEQN</th>\n",
       "      <th>ALQ101</th>\n",
       "      <th>ALQ110</th>\n",
       "      <th>ALQ130</th>\n",
       "      <th>SMQ020</th>\n",
       "      <th>RIAGENDR</th>\n",
       "      <th>RIDAGEYR</th>\n",
       "      <th>RIDRETH1</th>\n",
       "      <th>DMDCITZN</th>\n",
       "      <th>DMDEDUC2</th>\n",
       "      <th>...</th>\n",
       "      <th>BPXSY2</th>\n",
       "      <th>BPXDI2</th>\n",
       "      <th>BMXWT</th>\n",
       "      <th>BMXHT</th>\n",
       "      <th>BMXBMI</th>\n",
       "      <th>BMXLEG</th>\n",
       "      <th>BMXARML</th>\n",
       "      <th>BMXARMC</th>\n",
       "      <th>BMXWAIST</th>\n",
       "      <th>HIQ210</th>\n",
       "    </tr>\n",
       "  </thead>\n",
       "  <tbody>\n",
       "    <tr>\n",
       "      <th>0</th>\n",
       "      <td>83732</td>\n",
       "      <td>1.0</td>\n",
       "      <td>NaN</td>\n",
       "      <td>1.0</td>\n",
       "      <td>1</td>\n",
       "      <td>1</td>\n",
       "      <td>62</td>\n",
       "      <td>3</td>\n",
       "      <td>1.0</td>\n",
       "      <td>5.0</td>\n",
       "      <td>...</td>\n",
       "      <td>124.0</td>\n",
       "      <td>64.0</td>\n",
       "      <td>94.8</td>\n",
       "      <td>184.5</td>\n",
       "      <td>27.8</td>\n",
       "      <td>43.3</td>\n",
       "      <td>43.6</td>\n",
       "      <td>35.9</td>\n",
       "      <td>101.1</td>\n",
       "      <td>2.0</td>\n",
       "    </tr>\n",
       "    <tr>\n",
       "      <th>1</th>\n",
       "      <td>83733</td>\n",
       "      <td>1.0</td>\n",
       "      <td>NaN</td>\n",
       "      <td>6.0</td>\n",
       "      <td>1</td>\n",
       "      <td>1</td>\n",
       "      <td>53</td>\n",
       "      <td>3</td>\n",
       "      <td>2.0</td>\n",
       "      <td>3.0</td>\n",
       "      <td>...</td>\n",
       "      <td>140.0</td>\n",
       "      <td>88.0</td>\n",
       "      <td>90.4</td>\n",
       "      <td>171.4</td>\n",
       "      <td>30.8</td>\n",
       "      <td>38.0</td>\n",
       "      <td>40.0</td>\n",
       "      <td>33.2</td>\n",
       "      <td>107.9</td>\n",
       "      <td>NaN</td>\n",
       "    </tr>\n",
       "    <tr>\n",
       "      <th>2</th>\n",
       "      <td>83734</td>\n",
       "      <td>1.0</td>\n",
       "      <td>NaN</td>\n",
       "      <td>NaN</td>\n",
       "      <td>1</td>\n",
       "      <td>1</td>\n",
       "      <td>78</td>\n",
       "      <td>3</td>\n",
       "      <td>1.0</td>\n",
       "      <td>3.0</td>\n",
       "      <td>...</td>\n",
       "      <td>132.0</td>\n",
       "      <td>44.0</td>\n",
       "      <td>83.4</td>\n",
       "      <td>170.1</td>\n",
       "      <td>28.8</td>\n",
       "      <td>35.6</td>\n",
       "      <td>37.0</td>\n",
       "      <td>31.0</td>\n",
       "      <td>116.5</td>\n",
       "      <td>2.0</td>\n",
       "    </tr>\n",
       "    <tr>\n",
       "      <th>3</th>\n",
       "      <td>83735</td>\n",
       "      <td>2.0</td>\n",
       "      <td>1.0</td>\n",
       "      <td>1.0</td>\n",
       "      <td>2</td>\n",
       "      <td>2</td>\n",
       "      <td>56</td>\n",
       "      <td>3</td>\n",
       "      <td>1.0</td>\n",
       "      <td>5.0</td>\n",
       "      <td>...</td>\n",
       "      <td>134.0</td>\n",
       "      <td>68.0</td>\n",
       "      <td>109.8</td>\n",
       "      <td>160.9</td>\n",
       "      <td>42.4</td>\n",
       "      <td>38.5</td>\n",
       "      <td>37.7</td>\n",
       "      <td>38.3</td>\n",
       "      <td>110.1</td>\n",
       "      <td>2.0</td>\n",
       "    </tr>\n",
       "    <tr>\n",
       "      <th>4</th>\n",
       "      <td>83736</td>\n",
       "      <td>2.0</td>\n",
       "      <td>1.0</td>\n",
       "      <td>1.0</td>\n",
       "      <td>2</td>\n",
       "      <td>2</td>\n",
       "      <td>42</td>\n",
       "      <td>4</td>\n",
       "      <td>1.0</td>\n",
       "      <td>4.0</td>\n",
       "      <td>...</td>\n",
       "      <td>114.0</td>\n",
       "      <td>54.0</td>\n",
       "      <td>55.2</td>\n",
       "      <td>164.9</td>\n",
       "      <td>20.3</td>\n",
       "      <td>37.4</td>\n",
       "      <td>36.0</td>\n",
       "      <td>27.2</td>\n",
       "      <td>80.4</td>\n",
       "      <td>2.0</td>\n",
       "    </tr>\n",
       "    <tr>\n",
       "      <th>5</th>\n",
       "      <td>83737</td>\n",
       "      <td>2.0</td>\n",
       "      <td>2.0</td>\n",
       "      <td>NaN</td>\n",
       "      <td>2</td>\n",
       "      <td>2</td>\n",
       "      <td>72</td>\n",
       "      <td>1</td>\n",
       "      <td>2.0</td>\n",
       "      <td>2.0</td>\n",
       "      <td>...</td>\n",
       "      <td>122.0</td>\n",
       "      <td>58.0</td>\n",
       "      <td>64.4</td>\n",
       "      <td>150.0</td>\n",
       "      <td>28.6</td>\n",
       "      <td>34.4</td>\n",
       "      <td>33.5</td>\n",
       "      <td>31.4</td>\n",
       "      <td>92.9</td>\n",
       "      <td>NaN</td>\n",
       "    </tr>\n",
       "    <tr>\n",
       "      <th>6</th>\n",
       "      <td>83741</td>\n",
       "      <td>1.0</td>\n",
       "      <td>NaN</td>\n",
       "      <td>8.0</td>\n",
       "      <td>1</td>\n",
       "      <td>1</td>\n",
       "      <td>22</td>\n",
       "      <td>4</td>\n",
       "      <td>1.0</td>\n",
       "      <td>4.0</td>\n",
       "      <td>...</td>\n",
       "      <td>112.0</td>\n",
       "      <td>74.0</td>\n",
       "      <td>76.6</td>\n",
       "      <td>165.4</td>\n",
       "      <td>28.0</td>\n",
       "      <td>38.8</td>\n",
       "      <td>38.0</td>\n",
       "      <td>34.0</td>\n",
       "      <td>86.6</td>\n",
       "      <td>NaN</td>\n",
       "    </tr>\n",
       "    <tr>\n",
       "      <th>7</th>\n",
       "      <td>83742</td>\n",
       "      <td>1.0</td>\n",
       "      <td>NaN</td>\n",
       "      <td>1.0</td>\n",
       "      <td>2</td>\n",
       "      <td>2</td>\n",
       "      <td>32</td>\n",
       "      <td>1</td>\n",
       "      <td>2.0</td>\n",
       "      <td>4.0</td>\n",
       "      <td>...</td>\n",
       "      <td>114.0</td>\n",
       "      <td>70.0</td>\n",
       "      <td>64.5</td>\n",
       "      <td>151.3</td>\n",
       "      <td>28.2</td>\n",
       "      <td>34.1</td>\n",
       "      <td>33.1</td>\n",
       "      <td>31.5</td>\n",
       "      <td>93.3</td>\n",
       "      <td>2.0</td>\n",
       "    </tr>\n",
       "    <tr>\n",
       "      <th>8</th>\n",
       "      <td>83743</td>\n",
       "      <td>NaN</td>\n",
       "      <td>NaN</td>\n",
       "      <td>NaN</td>\n",
       "      <td>2</td>\n",
       "      <td>1</td>\n",
       "      <td>18</td>\n",
       "      <td>5</td>\n",
       "      <td>1.0</td>\n",
       "      <td>NaN</td>\n",
       "      <td>...</td>\n",
       "      <td>NaN</td>\n",
       "      <td>NaN</td>\n",
       "      <td>72.4</td>\n",
       "      <td>166.1</td>\n",
       "      <td>26.2</td>\n",
       "      <td>NaN</td>\n",
       "      <td>NaN</td>\n",
       "      <td>NaN</td>\n",
       "      <td>NaN</td>\n",
       "      <td>2.0</td>\n",
       "    </tr>\n",
       "    <tr>\n",
       "      <th>9</th>\n",
       "      <td>83744</td>\n",
       "      <td>1.0</td>\n",
       "      <td>NaN</td>\n",
       "      <td>NaN</td>\n",
       "      <td>2</td>\n",
       "      <td>1</td>\n",
       "      <td>56</td>\n",
       "      <td>4</td>\n",
       "      <td>1.0</td>\n",
       "      <td>3.0</td>\n",
       "      <td>...</td>\n",
       "      <td>180.0</td>\n",
       "      <td>114.0</td>\n",
       "      <td>108.3</td>\n",
       "      <td>179.4</td>\n",
       "      <td>33.6</td>\n",
       "      <td>46.0</td>\n",
       "      <td>44.1</td>\n",
       "      <td>38.5</td>\n",
       "      <td>116.0</td>\n",
       "      <td>2.0</td>\n",
       "    </tr>\n",
       "  </tbody>\n",
       "</table>\n",
       "<p>10 rows × 28 columns</p>\n",
       "</div>"
      ],
      "text/plain": [
       "    SEQN  ALQ101  ALQ110  ALQ130  SMQ020  RIAGENDR  RIDAGEYR  RIDRETH1  \\\n",
       "0  83732     1.0     NaN     1.0       1         1        62         3   \n",
       "1  83733     1.0     NaN     6.0       1         1        53         3   \n",
       "2  83734     1.0     NaN     NaN       1         1        78         3   \n",
       "3  83735     2.0     1.0     1.0       2         2        56         3   \n",
       "4  83736     2.0     1.0     1.0       2         2        42         4   \n",
       "5  83737     2.0     2.0     NaN       2         2        72         1   \n",
       "6  83741     1.0     NaN     8.0       1         1        22         4   \n",
       "7  83742     1.0     NaN     1.0       2         2        32         1   \n",
       "8  83743     NaN     NaN     NaN       2         1        18         5   \n",
       "9  83744     1.0     NaN     NaN       2         1        56         4   \n",
       "\n",
       "   DMDCITZN  DMDEDUC2  ...  BPXSY2  BPXDI2  BMXWT  BMXHT  BMXBMI  BMXLEG  \\\n",
       "0       1.0       5.0  ...   124.0    64.0   94.8  184.5    27.8    43.3   \n",
       "1       2.0       3.0  ...   140.0    88.0   90.4  171.4    30.8    38.0   \n",
       "2       1.0       3.0  ...   132.0    44.0   83.4  170.1    28.8    35.6   \n",
       "3       1.0       5.0  ...   134.0    68.0  109.8  160.9    42.4    38.5   \n",
       "4       1.0       4.0  ...   114.0    54.0   55.2  164.9    20.3    37.4   \n",
       "5       2.0       2.0  ...   122.0    58.0   64.4  150.0    28.6    34.4   \n",
       "6       1.0       4.0  ...   112.0    74.0   76.6  165.4    28.0    38.8   \n",
       "7       2.0       4.0  ...   114.0    70.0   64.5  151.3    28.2    34.1   \n",
       "8       1.0       NaN  ...     NaN     NaN   72.4  166.1    26.2     NaN   \n",
       "9       1.0       3.0  ...   180.0   114.0  108.3  179.4    33.6    46.0   \n",
       "\n",
       "   BMXARML  BMXARMC  BMXWAIST  HIQ210  \n",
       "0     43.6     35.9     101.1     2.0  \n",
       "1     40.0     33.2     107.9     NaN  \n",
       "2     37.0     31.0     116.5     2.0  \n",
       "3     37.7     38.3     110.1     2.0  \n",
       "4     36.0     27.2      80.4     2.0  \n",
       "5     33.5     31.4      92.9     NaN  \n",
       "6     38.0     34.0      86.6     NaN  \n",
       "7     33.1     31.5      93.3     2.0  \n",
       "8      NaN      NaN       NaN     2.0  \n",
       "9     44.1     38.5     116.0     2.0  \n",
       "\n",
       "[10 rows x 28 columns]"
      ]
     },
     "execution_count": 4,
     "metadata": {},
     "output_type": "execute_result"
    }
   ],
   "source": [
    "da.head()\n",
    "print(da.columns)\n",
    "da.head(10)"
   ]
  },
  {
   "cell_type": "markdown",
   "metadata": {},
   "source": [
    "## Question 1\n",
    "\n",
    "Relabel the marital status variable [DMDMARTL](https://wwwn.cdc.gov/Nchs/Nhanes/2015-2016/DEMO_I.htm#DMDMARTL) to have brief but informative character labels.  Then construct a frequency table of these values for all people, then for women only, and for men only.  Then construct these three frequency tables using only people whose age is between 30 and 40."
   ]
  },
  {
   "cell_type": "code",
   "execution_count": 7,
   "metadata": {},
   "outputs": [
    {
     "data": {
      "text/plain": [
       "2    2976\n",
       "1    2759\n",
       "Name: RIAGENDR, dtype: int64"
      ]
     },
     "execution_count": 7,
     "metadata": {},
     "output_type": "execute_result"
    }
   ],
   "source": [
    "da['DMDMARTL'].value_counts()\n",
    "da['RIAGENDR'].value_counts()"
   ]
  },
  {
   "cell_type": "code",
   "execution_count": 8,
   "metadata": {},
   "outputs": [
    {
     "name": "stdout",
     "output_type": "stream",
     "text": [
      "All people\n",
      " Married                2780\n",
      "Never married          1004\n",
      "Divorced                579\n",
      "Living whit partner     527\n",
      "Widowed                 396\n",
      "Separated               186\n",
      "Refused                   2\n",
      "Name: DMDMARTLe, dtype: int64 \n",
      "\n",
      "All females\n",
      " Married                1303\n",
      "Never married           520\n",
      "Divorced                350\n",
      "Widowed                 296\n",
      "Living whit partner     262\n",
      "Separated               118\n",
      "Refused                   1\n",
      "Name: DMDMARTLe, dtype: int64 \n",
      "\n",
      "All males\n",
      " Married                1477\n",
      "Never married           484\n",
      "Living whit partner     265\n",
      "Divorced                229\n",
      "Widowed                 100\n",
      "Separated                68\n",
      "Refused                   1\n",
      "Name: DMDMARTLe, dtype: int64 \n",
      "\n",
      "All people aged >=30 & <=40\n",
      " Married                560\n",
      "Never married          217\n",
      "Living whit partner    143\n",
      "Divorced                70\n",
      "Separated               30\n",
      "Widowed                  5\n",
      "Refused                  1\n",
      "Name: DMDMARTLe, dtype: int64 \n",
      "\n",
      "All females aged >=30 & <=40\n",
      " Married                285\n",
      "Never married          116\n",
      "Living whit partner     65\n",
      "Divorced                46\n",
      "Separated               18\n",
      "Widowed                  2\n",
      "Name: DMDMARTLe, dtype: int64 \n",
      "\n",
      "All males aged >=30 & <=40\n",
      " Married                275\n",
      "Never married          101\n",
      "Living whit partner     78\n",
      "Divorced                24\n",
      "Separated               12\n",
      "Widowed                  3\n",
      "Refused                  1\n",
      "Name: DMDMARTLe, dtype: int64\n"
     ]
    }
   ],
   "source": [
    "da['DMDMARTLe'] = da['DMDMARTL'].replace({1: \"Married\", 2: \"Widowed\", 3: \"Divorced\", 4: \"Separated\", 5: \"Never married\",\n",
    "                                      6: \"Living whit partner\", 77:\"Refused\" , 99:\"Don't know\"})\n",
    "da['RIAGENDRe'] = da['RIAGENDR'].replace({1: \"Male\", 2: \"Female\"})\n",
    "\n",
    "print(\"All people\\n\",da['DMDMARTLe'].value_counts(),\"\\n\")\n",
    "\n",
    "da_gender = da[da['RIAGENDRe']==\"Female\"]\n",
    "print(\"All females\\n\",da_gender['DMDMARTLe'].value_counts(),\"\\n\")\n",
    "\n",
    "da_gender = da[da['RIAGENDRe']==\"Male\"]\n",
    "print(\"All males\\n\",da_gender['DMDMARTLe'].value_counts(),\"\\n\")\n",
    "\n",
    "print(\"All people aged >=30 & <=40\\n\",da[(da['RIDAGEYR']>=30) & (da['RIDAGEYR']<=40)]['DMDMARTLe'].value_counts(),\"\\n\")\n",
    "\n",
    "da_gender_age = da[(da['RIAGENDRe']==\"Female\") & (da['RIDAGEYR']>=30) & (da['RIDAGEYR']<=40)]\n",
    "print(\"All females aged >=30 & <=40\\n\",da_gender_age['DMDMARTLe'].value_counts(),\"\\n\")\n",
    "\n",
    "print(\"All males aged >=30 & <=40\\n\",da[(da['RIAGENDRe']==\"Male\") & (da['RIDAGEYR']>=30) & (da['RIDAGEYR']<=40)]['DMDMARTLe'].value_counts())\n"
   ]
  },
  {
   "cell_type": "markdown",
   "metadata": {},
   "source": [
    "__Q1a.__ Briefly comment on some of the differences that you observe between the distribution of marital status between women and men, for people of all ages."
   ]
  },
  {
   "cell_type": "raw",
   "metadata": {},
   "source": [
    "More men are married and living with a partner. Whilst more women are divorced and widowed"
   ]
  },
  {
   "cell_type": "markdown",
   "metadata": {},
   "source": [
    "__Q1b.__ Briefly comment on the differences that you observe between the distribution of marital status states for women between the overall population, and for women between the ages of 30 and 40."
   ]
  },
  {
   "cell_type": "raw",
   "metadata": {},
   "source": [
    "Less widows and divorced or separated"
   ]
  },
  {
   "cell_type": "markdown",
   "metadata": {},
   "source": [
    "__Q1c.__ Repeat part b for the men."
   ]
  },
  {
   "cell_type": "raw",
   "metadata": {},
   "source": [
    "Same as above"
   ]
  },
  {
   "cell_type": "markdown",
   "metadata": {},
   "source": [
    "## Question 2\n",
    "\n",
    "Restricting to the female population, stratify the subjects into age bands no wider than ten years, and construct the distribution of marital status within each age band.  Within each age band, present the distribution in terms of proportions that must sum to 1."
   ]
  },
  {
   "cell_type": "code",
   "execution_count": 12,
   "metadata": {},
   "outputs": [
    {
     "name": "stdout",
     "output_type": "stream",
     "text": [
      "(10, 20]    340\n",
      "(20, 30]    946\n",
      "(30, 40]    932\n",
      "(40, 50]    903\n",
      "(50, 60]    924\n",
      "(60, 70]    878\n",
      "(70, 80]    812\n",
      "Name: agegrp, dtype: int64\n",
      "DMDMARTLe  Divorced  Living whit partner  Married  Never married  Refused  \\\n",
      "agegrp                                                                      \n",
      "(10, 20]      0.00%                8.00%    1.00%         30.00%    0.00%   \n",
      "(20, 30]     11.00%              106.00%  157.00%        229.00%    0.00%   \n",
      "(30, 40]     43.00%               57.00%  258.00%         97.00%    0.00%   \n",
      "(40, 50]     69.00%               37.00%  288.00%         63.00%    0.00%   \n",
      "(50, 60]     83.00%               32.00%  257.00%         42.00%    1.00%   \n",
      "(60, 70]     85.00%               19.00%  212.00%         38.00%    0.00%   \n",
      "(70, 80]     59.00%                3.00%  130.00%         21.00%    0.00%   \n",
      "\n",
      "DMDMARTLe  Separated  Widowed  \n",
      "agegrp                         \n",
      "(10, 20]       0.00%    0.00%  \n",
      "(20, 30]      11.00%    0.00%  \n",
      "(30, 40]      17.00%    2.00%  \n",
      "(40, 50]      33.00%   12.00%  \n",
      "(50, 60]      27.00%   28.00%  \n",
      "(60, 70]      22.00%   65.00%  \n",
      "(70, 80]       8.00%  189.00%  \n"
     ]
    }
   ],
   "source": [
    "# insert your code here\n",
    "da['agegrp'] = pd.cut(da['RIDAGEYR'], [10, 20, 30, 40, 50, 60, 70, 80] ) # Create age strata based on these cut points\n",
    "print(da['agegrp'].value_counts(sort=False))\n",
    "pd.options.display.float_format = '{:.2f}%'.format\n",
    "#print(da[da['RIAGENDRe']==\"Female\"].groupby(['agegrp'])['DMDMARTLe'].value_counts(normalize=True))\n",
    "print(da[da['RIAGENDRe']==\"Female\"].groupby(['agegrp'])['DMDMARTLe'].value_counts().unstack().fillna(0))\n",
    "\n"
   ]
  },
  {
   "cell_type": "markdown",
   "metadata": {},
   "source": [
    "__Q2a.__ Comment on the trends that you see in this series of marginal distributions."
   ]
  },
  {
   "cell_type": "raw",
   "metadata": {},
   "source": [
    "Before the age of 30 the majority of people are never married whilst after 30 the majority of people have a different marital status as never married. The last agre group bracket has people that is mainly widowed or married"
   ]
  },
  {
   "cell_type": "markdown",
   "metadata": {},
   "source": [
    "__Q2b.__ Repeat the construction for males."
   ]
  },
  {
   "cell_type": "code",
   "execution_count": 179,
   "metadata": {},
   "outputs": [
    {
     "data": {
      "text/plain": [
       "agegrp    DMDMARTLe          \n",
       "(10, 20]  Never married         0.90%\n",
       "          Living whit partner   0.07%\n",
       "          Married               0.03%\n",
       "(20, 30]  Never married         0.52%\n",
       "          Married               0.24%\n",
       "          Living whit partner   0.21%\n",
       "          Separated             0.02%\n",
       "          Divorced              0.00%\n",
       "          Widowed               0.00%\n",
       "(30, 40]  Married               0.56%\n",
       "          Never married         0.19%\n",
       "          Living whit partner   0.16%\n",
       "          Divorced              0.05%\n",
       "          Separated             0.03%\n",
       "          Widowed               0.00%\n",
       "          Refused               0.00%\n",
       "(40, 50]  Married               0.70%\n",
       "          Never married         0.10%\n",
       "          Divorced              0.08%\n",
       "          Living whit partner   0.08%\n",
       "          Separated             0.03%\n",
       "          Widowed               0.00%\n",
       "(50, 60]  Married               0.65%\n",
       "          Divorced              0.13%\n",
       "          Never married         0.10%\n",
       "          Living whit partner   0.07%\n",
       "          Separated             0.02%\n",
       "          Widowed               0.02%\n",
       "(60, 70]  Married               0.67%\n",
       "          Divorced              0.13%\n",
       "          Never married         0.09%\n",
       "          Living whit partner   0.05%\n",
       "          Widowed               0.04%\n",
       "          Separated             0.03%\n",
       "(70, 80]  Married               0.61%\n",
       "          Widowed               0.17%\n",
       "          Divorced              0.14%\n",
       "          Separated             0.03%\n",
       "          Living whit partner   0.02%\n",
       "          Never married         0.02%\n",
       "Name: DMDMARTLe, dtype: float64"
      ]
     },
     "execution_count": 179,
     "metadata": {},
     "output_type": "execute_result"
    }
   ],
   "source": [
    "# insert your code here\n",
    "pd.options.display.float_format = '{:.2f}%'.format\n",
    "da[da['RIAGENDRe']==\"Male\"].groupby(['agegrp'])['DMDMARTLe'].value_counts(normalize=True)"
   ]
  },
  {
   "cell_type": "markdown",
   "metadata": {},
   "source": [
    "__Q2c.__ Comment on any notable differences that you see when comparing these results for females and for males."
   ]
  },
  {
   "cell_type": "raw",
   "metadata": {},
   "source": [
    "Males tend to get married after 20 years and the majority of men in the group age 70-80 are still married compared to women. The latter is maybe because they die before their partners. throughout their entire life the majority of men stay in the married status compared to women who only 50% of them are married after the age of 30 on average"
   ]
  },
  {
   "cell_type": "markdown",
   "metadata": {},
   "source": [
    "## Question 3\n",
    "\n",
    "Construct a histogram of the distribution of heights using the BMXHT variable in the NHANES sample."
   ]
  },
  {
   "cell_type": "code",
   "execution_count": 116,
   "metadata": {},
   "outputs": [
    {
     "data": {
      "text/plain": [
       "<AxesSubplot:xlabel='BMXHT'>"
      ]
     },
     "execution_count": 116,
     "metadata": {},
     "output_type": "execute_result"
    },
    {
     "data": {
      "image/png": "[encoded data removed]",
      "text/plain": [
       "<Figure size 432x288 with 1 Axes>"
      ]
     },
     "metadata": {
      "needs_background": "light"
     },
     "output_type": "display_data"
    }
   ],
   "source": [
    "# insert your code here\n",
    "sns.distplot(da.BMXHT.dropna(), kde=False)"
   ]
  },
  {
   "cell_type": "markdown",
   "metadata": {},
   "source": [
    "__Q3a.__ Use the `bins` argument to [distplot](https://seaborn.pydata.org/generated/seaborn.distplot.html) to produce histograms with different numbers of bins.  Assess whether the default value for this argument gives a meaningful result, and comment on what happens as the number of bins grows excessively large or excessively small. "
   ]
  },
  {
   "cell_type": "code",
   "execution_count": 121,
   "metadata": {},
   "outputs": [
    {
     "data": {
      "text/plain": [
       "<AxesSubplot:xlabel='BMXHT'>"
      ]
     },
     "execution_count": 121,
     "metadata": {},
     "output_type": "execute_result"
    },
    {
     "data": {
      "image/png": "[encoded data removed]",
      "text/plain": [
       "<Figure size 432x288 with 1 Axes>"
      ]
     },
     "metadata": {
      "needs_background": "light"
     },
     "output_type": "display_data"
    }
   ],
   "source": [
    "sns.distplot(da.BMXHT.dropna(), kde=False, bins = 2000)"
   ]
  },
  {
   "cell_type": "markdown",
   "metadata": {},
   "source": [
    "__Q3b.__ Make separate histograms for the heights of women and men, then make a side-by-side boxplot showing the heights of women and men."
   ]
  },
  {
   "cell_type": "code",
   "execution_count": 180,
   "metadata": {},
   "outputs": [
    {
     "data": {
      "image/png": "[encoded data removed]",
      "text/plain": [
       "<Figure size 432x288 with 1 Axes>"
      ]
     },
     "metadata": {
      "needs_background": "light"
     },
     "output_type": "display_data"
    },
    {
     "data": {
      "image/png": "[encoded data removed]",
      "text/plain": [
       "<Figure size 432x288 with 1 Axes>"
      ]
     },
     "metadata": {
      "needs_background": "light"
     },
     "output_type": "display_data"
    },
    {
     "data": {
      "text/plain": [
       "Text(0.5, 1.0, 'BoxPlot of Male and Female Height')"
      ]
     },
     "execution_count": 180,
     "metadata": {},
     "output_type": "execute_result"
    },
    {
     "data": {
      "image/png": "[encoded data removed]",
      "text/plain": [
       "<Figure size 432x288 with 1 Axes>"
      ]
     },
     "metadata": {
      "needs_background": "light"
     },
     "output_type": "display_data"
    }
   ],
   "source": [
    "# insert your code here\n",
    "data_gender = da[da['RIAGENDRe']==\"Male\"].dropna()\n",
    "sns.distplot(a=data_gender['BMXHT'],  kde=False).set_title(\"Histogram of Male Height\")\n",
    "plt.show()\n",
    "data_gender = da[da['RIAGENDRe']==\"Female\"].dropna()\n",
    "sns.distplot(a=data_gender['BMXHT'],  kde=False).set_title(\"Histogram of Female Height\")\n",
    "plt.show()\n",
    "sns.boxplot(x=\"RIAGENDRe\", y=\"BMXHT\", data=da).set_title(\"BoxPlot of Male and Female Height\")"
   ]
  },
  {
   "cell_type": "markdown",
   "metadata": {},
   "source": [
    "__Q3c.__ Comment on what features, if any are not represented clearly in the boxplots, and what features, if any, are easier to see in the boxplots than in the histograms."
   ]
  },
  {
   "cell_type": "raw",
   "metadata": {},
   "source": [
    "In boxplot you can't infer the shape of the distribution but is easy to identify the median and the outliers"
   ]
  },
  {
   "cell_type": "markdown",
   "metadata": {},
   "source": [
    "## Question 4\n",
    "\n",
    "Make a boxplot showing the distribution of within-subject differences between the first and second systolic blood pressure measurents ([BPXSY1](https://wwwn.cdc.gov/Nchs/Nhanes/2015-2016/BPX_I.htm#BPXSY1) and [BPXSY2](https://wwwn.cdc.gov/Nchs/Nhanes/2015-2016/BPX_I.htm#BPXSY2))."
   ]
  },
  {
   "cell_type": "code",
   "execution_count": 189,
   "metadata": {},
   "outputs": [
    {
     "name": "stdout",
     "output_type": "stream",
     "text": [
      "<class 'pandas.core.series.Series'>\n"
     ]
    },
    {
     "data": {
      "image/png": "[encoded data removed]",
      "text/plain": [
       "<Figure size 432x288 with 1 Axes>"
      ]
     },
     "metadata": {
      "needs_background": "light"
     },
     "output_type": "display_data"
    }
   ],
   "source": [
    "# insert your code here\n",
    "da_diff = da['BPXSY1']-da['BPXSY2']\n",
    "print(type(da_diff))\n",
    "fig = sns.boxplot(data=da_diff).set_title(\"Boxplot of within-subject differences between the first and second systolic blood pressure measurents\")\n",
    "plt.xlabel(\"Difference\")\n",
    "plt.show()"
   ]
  },
  {
   "cell_type": "markdown",
   "metadata": {},
   "source": [
    "__Q4a.__ What proportion of the subjects have a lower SBP on the second reading compared to the first?"
   ]
  },
  {
   "cell_type": "code",
   "execution_count": 175,
   "metadata": {},
   "outputs": [
    {
     "name": "stdout",
     "output_type": "stream",
     "text": [
      "5401\n",
      "2463\n",
      "The proportion of subjects that have a lower SBP on the second reading compared to the first is:  45.60266617293094 %\n"
     ]
    }
   ],
   "source": [
    "# insert your code here\n",
    "print(da['BPXSY1'].dropna().count())\n",
    "print(da[da['BPXSY1']>da['BPXSY2']]['BPXSY1'].dropna().count())\n",
    "print(\"The proportion of subjects that have a lower SBP on the second reading compared to the first is: \",\\\n",
    "      (da[da['BPXSY1']>da['BPXSY2']]['BPXSY1'].dropna().count()/da['BPXSY1'].dropna().count())*100,\"%\")"
   ]
  },
  {
   "cell_type": "markdown",
   "metadata": {},
   "source": [
    "__Q4b.__ Make side-by-side boxplots of the two systolic blood pressure variables."
   ]
  },
  {
   "cell_type": "code",
   "execution_count": 171,
   "metadata": {},
   "outputs": [
    {
     "data": {
      "text/plain": [
       "Text(0.5, 1.0, 'Boxplot of the two systolic blood pressure readings')"
      ]
     },
     "execution_count": 171,
     "metadata": {},
     "output_type": "execute_result"
    },
    {
     "data": {
      "image/png": "[encoded data removed]",
      "text/plain": [
       "<Figure size 432x288 with 1 Axes>"
      ]
     },
     "metadata": {
      "needs_background": "light"
     },
     "output_type": "display_data"
    }
   ],
   "source": [
    "# insert your code here\n",
    "sns.boxplot(data=da.loc[:,['BPXSY2','BPXSY1']]).set_title(\"Boxplot of the two systolic blood pressure readings\")"
   ]
  },
  {
   "cell_type": "markdown",
   "metadata": {},
   "source": [
    "__Q4c.__ Comment on the variation within either the first or second systolic blood pressure measurements, and the variation in the within-subject differences between the first and second systolic blood pressure measurements."
   ]
  },
  {
   "cell_type": "raw",
   "metadata": {},
   "source": [
    "There is almost no difference between the first and the second systolic readings. The variation within-subject differences is close to zero."
   ]
  },
  {
   "cell_type": "markdown",
   "metadata": {},
   "source": [
    "## Question 5\n",
    "\n",
    "Construct a frequency table of household sizes for people within each educational attainment category (the relevant variable is [DMDEDUC2](https://wwwn.cdc.gov/Nchs/Nhanes/2015-2016/DEMO_I.htm#DMDEDUC2)).  Convert the frequencies to proportions."
   ]
  },
  {
   "cell_type": "code",
   "execution_count": 245,
   "metadata": {},
   "outputs": [
    {
     "data": {
      "text/plain": [
       "DMDEDUC2e                               DMDHHSIZ\n",
       "9th-11th Grade (12th no diploma)        2          0.22%\n",
       "                                        3          0.16%\n",
       "                                        4          0.15%\n",
       "                                        5          0.15%\n",
       "                                        1          0.12%\n",
       "                                        6          0.11%\n",
       "                                        7          0.09%\n",
       "< 9th Grade                             2          0.22%\n",
       "                                        5          0.15%\n",
       "                                        3          0.15%\n",
       "                                        4          0.13%\n",
       "                                        7          0.13%\n",
       "                                        1          0.11%\n",
       "                                        6          0.11%\n",
       "College graduate or above               2          0.35%\n",
       "                                        3          0.19%\n",
       "                                        4          0.17%\n",
       "                                        1          0.14%\n",
       "                                        5          0.10%\n",
       "                                        6          0.03%\n",
       "                                        7          0.03%\n",
       "Don't know                              2          0.67%\n",
       "                                        5          0.33%\n",
       "High school graduate/GED or equivalent  2          0.27%\n",
       "                                        3          0.17%\n",
       "                                        4          0.16%\n",
       "                                        1          0.15%\n",
       "                                        5          0.11%\n",
       "                                        7          0.07%\n",
       "                                        6          0.07%\n",
       "Missing                                 4          0.23%\n",
       "                                        3          0.21%\n",
       "                                        5          0.19%\n",
       "                                        7          0.15%\n",
       "                                        6          0.13%\n",
       "                                        2          0.08%\n",
       "                                        1          0.01%\n",
       "Some college or AA degree               2          0.27%\n",
       "                                        3          0.19%\n",
       "                                        4          0.17%\n",
       "                                        1          0.15%\n",
       "                                        5          0.12%\n",
       "                                        6          0.05%\n",
       "                                        7          0.05%\n",
       "Name: DMDHHSIZ, dtype: float64"
      ]
     },
     "execution_count": 245,
     "metadata": {},
     "output_type": "execute_result"
    }
   ],
   "source": [
    "# insert your code here\n",
    "#pd.reset_option('display.float_format')\n",
    "da['DMDEDUC2e'] = da['DMDEDUC2'].replace({1: \"< 9th Grade\", 2: \"9th-11th Grade (12th no diploma)\", 3: \"High school graduate/GED or equivalent\", 4: \"Some college or AA degree\", 5: \"College graduate or above\",\n",
    "                                   7:\"Refused\", 9:\"Don't know\"})\n",
    "da['DMDEDUC2e'].fillna('Missing', inplace = True)\n",
    "#empty=da[pd.isnull(da['DMDHHSIZ'])]\n",
    "#print(empty.shape)\n",
    "da['DMDEDUC2e'].value_counts()\n",
    "#da[da['RIAGENDRe']==\"Female\"].groupby(['agegrp'])['DMDMARTLe'].value_counts(normalize=True)\n",
    "pd.set_option('display.float_format' , '{:.2f}%'.format)\n",
    "da.groupby('DMDEDUC2e')['DMDHHSIZ'].value_counts(normalize = True)"
   ]
  },
  {
   "cell_type": "markdown",
   "metadata": {},
   "source": [
    "__Q5a.__ Comment on any major differences among the distributions."
   ]
  },
  {
   "cell_type": "raw",
   "metadata": {},
   "source": [
    "It looks like the people with higher education live with their families or a partner making 2-4 people in the household the majority. The less education the person has the number of people living in a housefold with more than 4 people increases"
   ]
  },
  {
   "cell_type": "markdown",
   "metadata": {},
   "source": [
    "__Q5b.__ Restrict the sample to people between 30 and 40 years of age.  Then calculate the median household size for women and men within each level of educational attainment."
   ]
  },
  {
   "cell_type": "code",
   "execution_count": 241,
   "metadata": {},
   "outputs": [
    {
     "name": "stdout",
     "output_type": "stream",
     "text": [
      "DMDEDUC2e                               DMDHHSIZ\n",
      "9th-11th Grade (12th no diploma)        5           31\n",
      "                                        4           26\n",
      "                                        6           23\n",
      "                                        2           16\n",
      "                                        3           13\n",
      "                                        7           10\n",
      "                                        1            4\n",
      "< 9th Grade                             7           24\n",
      "                                        5           22\n",
      "                                        6           18\n",
      "                                        4           15\n",
      "                                        3           12\n",
      "                                        2            4\n",
      "                                        1            1\n",
      "College graduate or above               4           87\n",
      "                                        3           71\n",
      "                                        2           59\n",
      "                                        5           35\n",
      "                                        1           34\n",
      "                                        6           11\n",
      "                                        7            6\n",
      "High school graduate/GED or equivalent  4           43\n",
      "                                        5           34\n",
      "                                        3           32\n",
      "                                        6           29\n",
      "                                        7           29\n",
      "                                        2           17\n",
      "                                        1           13\n",
      "Some college or AA degree               5           79\n",
      "                                        4           73\n",
      "                                        3           52\n",
      "                                        2           34\n",
      "                                        6           25\n",
      "                                        7           25\n",
      "                                        1           19\n",
      "Name: DMDHHSIZ, dtype: int64 \n",
      "\n",
      "Median household for the female population (30-40) grouped by educational level DMDEDUC2e\n",
      "9th-11th Grade (12th no diploma)          5\n",
      "< 9th Grade                               5\n",
      "College graduate or above                 3\n",
      "High school graduate/GED or equivalent    5\n",
      "Some college or AA degree                 4\n",
      "Name: DMDHHSIZ, dtype: int64 \n",
      "\n",
      "Median household for the male population (30-40) grouped by educational level DMDEDUC2e\n",
      "9th-11th Grade (12th no diploma)          4.5\n",
      "< 9th Grade                               5.0\n",
      "College graduate or above                 3.0\n",
      "High school graduate/GED or equivalent    4.0\n",
      "Some college or AA degree                 4.0\n",
      "Name: DMDHHSIZ, dtype: float64\n"
     ]
    }
   ],
   "source": [
    "# insert your code here\n",
    "print(da[(da['RIDAGEYR']>=30) & (da['RIDAGEYR']<=40)].groupby('DMDEDUC2e')['DMDHHSIZ'].value_counts(),'\\n')\n",
    "female_age_educ_hh = da[(da['RIDAGEYR']>=30) & (da['RIDAGEYR']<=40) & (da['RIAGENDRe']=='Female')].groupby('DMDEDUC2e')['DMDHHSIZ']\n",
    "male_age_educ_hh = da[(da['RIDAGEYR']>=30) & (da['RIDAGEYR']<=40) & (da['RIAGENDRe']=='Male')].groupby('DMDEDUC2e')['DMDHHSIZ']\n",
    "\n",
    "print(\"Median household for the female population (30-40) grouped by educational level\", female_age_educ_hh.median(),'\\n')\n",
    "print(\"Median household for the male population (30-40) grouped by educational level\", male_age_educ_hh.median())"
   ]
  },
  {
   "cell_type": "markdown",
   "metadata": {},
   "source": [
    "## Question 6\n",
    "\n",
    "The participants can be clustered into \"maked variance units\" (MVU) based on every combination of the variables [SDMVSTRA]\n",
    "(https://wwwn.cdc.gov/Nchs/Nhanes/2015-2016/DEMO_I.htm#SDMVSTRA) and [SDMVPSU](https://wwwn.cdc.gov/Nchs/Nhanes/2015-2016/DEMO_I.htm#SDMVPSU).  \n",
    "Calculate the mean age ([RIDAGEYR]\n",
    "                        (https://wwwn.cdc.gov/Nchs/Nhanes/2015-2016/DEMO_I.htm#RIDAGEYR)), \n",
    "                   height ([BMXHT](https://wwwn.cdc.gov/Nchs/Nhanes/2015-2016/BMX_I.htm#BMXHT)), and\n",
    "                   BMI ([BMXBMI](https://wwwn.cdc.gov/Nchs/Nhanes/2015-2016/BMX_I.htm#BMXBMI)) \n",
    "    for each gender ([RIAGENDR](https://wwwn.cdc.gov/Nchs/Nhanes/2015-2016/DEMO_I.htm#RIAGENDR)), \n",
    "    within each MVU, \n",
    " and report the ratio between the largest and smallest mean (e.g. for height) across the MVUs."
   ]
  },
  {
   "cell_type": "code",
   "execution_count": 1,
   "metadata": {},
   "outputs": [
    {
     "ename": "NameError",
     "evalue": "name 'pd' is not defined",
     "output_type": "error",
     "traceback": [
      "\u001b[1;31m---------------------------------------------------------------------------\u001b[0m",
      "\u001b[1;31mNameError\u001b[0m                                 Traceback (most recent call last)",
      "\u001b[1;32m<ipython-input-1-c83dd5388e25>\u001b[0m in \u001b[0;36m<module>\u001b[1;34m\u001b[0m\n\u001b[0;32m      1\u001b[0m \u001b[1;31m# insert your code here\u001b[0m\u001b[1;33m\u001b[0m\u001b[1;33m\u001b[0m\u001b[1;33m\u001b[0m\u001b[0m\n\u001b[1;32m----> 2\u001b[1;33m \u001b[0mpd\u001b[0m\u001b[1;33m.\u001b[0m\u001b[0mreset_option\u001b[0m\u001b[1;33m(\u001b[0m\u001b[1;34m'display.float_format'\u001b[0m\u001b[1;33m)\u001b[0m\u001b[1;33m\u001b[0m\u001b[1;33m\u001b[0m\u001b[0m\n\u001b[0m\u001b[0;32m      3\u001b[0m \u001b[0mpd\u001b[0m\u001b[1;33m.\u001b[0m\u001b[0mset_option\u001b[0m\u001b[1;33m(\u001b[0m\u001b[1;34m'display.float_format'\u001b[0m\u001b[1;33m,\u001b[0m\u001b[1;34m'{:.2f}'\u001b[0m\u001b[1;33m.\u001b[0m\u001b[0mformat\u001b[0m\u001b[1;33m)\u001b[0m\u001b[1;33m\u001b[0m\u001b[1;33m\u001b[0m\u001b[0m\n\u001b[0;32m      4\u001b[0m \u001b[0mprint\u001b[0m\u001b[1;33m(\u001b[0m\u001b[0mda\u001b[0m\u001b[1;33m.\u001b[0m\u001b[0mgroupby\u001b[0m\u001b[1;33m(\u001b[0m\u001b[1;33m[\u001b[0m\u001b[1;34m'SDMVSTRA'\u001b[0m\u001b[1;33m,\u001b[0m\u001b[1;34m'SDMVPSU'\u001b[0m\u001b[1;33m,\u001b[0m\u001b[1;34m'RIAGENDRe'\u001b[0m\u001b[1;33m]\u001b[0m\u001b[1;33m)\u001b[0m\u001b[1;33m[\u001b[0m\u001b[1;34m'RIDAGEYR'\u001b[0m\u001b[1;33m,\u001b[0m\u001b[1;34m'BMXHT'\u001b[0m\u001b[1;33m,\u001b[0m\u001b[1;34m'BMXBMI'\u001b[0m\u001b[1;33m]\u001b[0m\u001b[1;33m.\u001b[0m\u001b[0mmean\u001b[0m\u001b[1;33m(\u001b[0m\u001b[1;33m)\u001b[0m\u001b[1;33m,\u001b[0m\u001b[1;34m'\\n'\u001b[0m\u001b[1;33m)\u001b[0m\u001b[1;33m\u001b[0m\u001b[1;33m\u001b[0m\u001b[0m\n\u001b[0;32m      5\u001b[0m \u001b[0mprint\u001b[0m\u001b[1;33m(\u001b[0m\u001b[0mda\u001b[0m\u001b[1;33m.\u001b[0m\u001b[0mgroupby\u001b[0m\u001b[1;33m(\u001b[0m\u001b[1;33m[\u001b[0m\u001b[1;34m'SDMVSTRA'\u001b[0m\u001b[1;33m,\u001b[0m\u001b[1;34m'SDMVPSU'\u001b[0m\u001b[1;33m,\u001b[0m\u001b[1;34m'RIAGENDRe'\u001b[0m\u001b[1;33m]\u001b[0m\u001b[1;33m)\u001b[0m\u001b[1;33m[\u001b[0m\u001b[1;34m'RIDAGEYR'\u001b[0m\u001b[1;33m,\u001b[0m\u001b[1;34m'BMXHT'\u001b[0m\u001b[1;33m,\u001b[0m\u001b[1;34m'BMXBMI'\u001b[0m\u001b[1;33m]\u001b[0m\u001b[1;33m.\u001b[0m\u001b[0mmean\u001b[0m\u001b[1;33m(\u001b[0m\u001b[1;33m)\u001b[0m\u001b[1;33m.\u001b[0m\u001b[0mmin\u001b[0m\u001b[1;33m(\u001b[0m\u001b[1;33m)\u001b[0m\u001b[1;33m,\u001b[0m\u001b[1;34m'\\n'\u001b[0m\u001b[1;33m)\u001b[0m\u001b[1;33m\u001b[0m\u001b[1;33m\u001b[0m\u001b[0m\n",
      "\u001b[1;31mNameError\u001b[0m: name 'pd' is not defined"
     ]
    }
   ],
   "source": [
    "# insert your code here\n",
    "pd.reset_option('display.float_format')\n",
    "pd.set_option('display.float_format','{:.2f}'.format)\n",
    "print(da.groupby(['SDMVSTRA','SDMVPSU','RIAGENDRe'])['RIDAGEYR','BMXHT','BMXBMI'].mean(),'\\n')\n",
    "print(da.groupby(['SDMVSTRA','SDMVPSU','RIAGENDRe'])['RIDAGEYR','BMXHT','BMXBMI'].mean().min(),'\\n')\n",
    "print(da.groupby(['SDMVSTRA','SDMVPSU','RIAGENDRe'])['RIDAGEYR','BMXHT','BMXBMI'].mean().max(),'\\n')\n",
    "ratio = da.groupby(['SDMVSTRA','SDMVPSU','RIAGENDRe'])['RIDAGEYR','BMXHT','BMXBMI'].mean().max() / \\\n",
    "da.groupby(['SDMVSTRA','SDMVPSU','RIAGENDRe'])['RIDAGEYR','BMXHT','BMXBMI'].mean().min()\n",
    "print(ratio)"
   ]
  },
  {
   "cell_type": "markdown",
   "metadata": {},
   "source": [
    "__Q6a.__ Comment on the extent to which mean age, height, and BMI vary among the MVUs."
   ]
  },
  {
   "cell_type": "raw",
   "metadata": {},
   "source": [
    "Probably AGE is the one that variest the most amongst MVUs, "
   ]
  },
  {
   "cell_type": "markdown",
   "metadata": {},
   "source": [
    "__Q6b.__ Calculate the inter-quartile range (IQR) for age, height, and BMI for each gender and each MVU.  Report the ratio between the largest and smalles IQR across the MVUs."
   ]
  },
  {
   "cell_type": "code",
   "execution_count": 349,
   "metadata": {},
   "outputs": [
    {
     "name": "stderr",
     "output_type": "stream",
     "text": [
      "C:\\ProgramData\\Anaconda3\\lib\\site-packages\\ipykernel_launcher.py:2: FutureWarning: Indexing with multiple keys (implicitly converted to a tuple of keys) will be deprecated, use a list instead.\n",
      "  \n"
     ]
    },
    {
     "name": "stdout",
     "output_type": "stream",
     "text": [
      "<class 'numpy.ndarray'> 60\n",
      "                            RIDAGEYR  BMXHT  BMXBMI\n",
      "SDMVSTRA SDMVPSU RIAGENDRe                         \n",
      "119      1       Female        31.25   9.32    9.75\n",
      "                 Male          29.75   9.00    5.35\n",
      "         2       Female        33.50   9.95    9.35\n",
      "                 Male          29.00  11.22    5.30\n",
      "120      1       Female        26.50   8.75    8.78\n",
      "                 Male          23.75  12.13    9.40\n",
      "         2       Female        25.75  10.55    7.75\n",
      "                 Male          26.00  10.50    7.10\n",
      "121      1       Female        26.25   9.15    9.00\n",
      "                 Male          34.50  10.72    7.50\n",
      "         2       Female        26.00   9.60    8.10\n",
      "                 Male          25.50   8.60    5.70\n",
      "122      1       Female        24.00  10.40    9.88\n",
      "                 Male          29.50   9.40    7.70\n",
      "         2       Female        25.00   7.57    8.48\n",
      "                 Male          30.00  10.15    4.10\n",
      "123      1       Female        30.50   9.68   10.45\n",
      "                 Male          28.25   9.35    8.05\n",
      "         2       Female        34.50  11.20    9.97\n",
      "                 Male          31.50   9.90    8.10\n",
      "124      1       Female        27.00   8.38    8.95\n",
      "                 Male          32.00   9.80    6.10\n",
      "         2       Female        23.50   8.65    9.00\n",
      "                 Male          31.00  11.60    8.70\n",
      "125      1       Female        31.00   9.10    8.00\n",
      "                 Male          29.00  10.35    8.30\n",
      "         2       Female        32.25  10.68   10.33\n",
      "                 Male          33.50   7.93    7.90\n",
      "126      1       Female        30.25   8.50   10.68\n",
      "                 Male          36.25  10.45    8.00\n",
      "         2       Female        31.75  12.03   10.35\n",
      "                 Male          34.00   8.12    6.85\n",
      "127      1       Female        27.25   7.70   11.75\n",
      "                 Male          30.00   9.03    8.20\n",
      "         2       Female        30.00  11.60    9.20\n",
      "                 Male          28.00  10.75    5.95\n",
      "128      1       Female        28.00   9.12    8.50\n",
      "                 Male          33.00   9.95    6.68\n",
      "         2       Female        22.00  10.65    9.38\n",
      "                 Male          25.50   9.85    5.80\n",
      "129      1       Female        24.75  10.38    9.50\n",
      "                 Male          20.75  12.30    6.03\n",
      "         2       Female        26.25   8.90    9.72\n",
      "                 Male          30.75  10.70    5.80\n",
      "130      1       Female        35.50   8.65   11.20\n",
      "                 Male          36.00   9.90    6.70\n",
      "         2       Female        30.25  10.22    8.05\n",
      "                 Male          28.50   8.62    8.38\n",
      "131      1       Female        35.75  10.03   11.07\n",
      "                 Male          36.00  10.50    7.53\n",
      "         2       Female        24.00   7.57   10.62\n",
      "                 Male          28.00   7.75    7.85\n",
      "132      1       Female        30.00  10.95   10.70\n",
      "                 Male          21.25  10.60    6.60\n",
      "         2       Female        33.00  10.10   11.75\n",
      "                 Male          38.00  10.55    9.60\n",
      "133      1       Female        34.00  10.30    8.30\n",
      "                 Male          33.00   8.93    6.43\n",
      "         2       Female        28.50   9.55    9.65\n",
      "                 Male          32.25   8.85    5.90\n",
      "RIDAGEYR   1.83\n",
      "BMXHT      1.62\n",
      "BMXBMI     2.87\n",
      "dtype: float64\n"
     ]
    }
   ],
   "source": [
    "# insert your code here\n",
    "desc = da.groupby(['SDMVSTRA','SDMVPSU','RIAGENDRe'])['RIDAGEYR','BMXHT','BMXBMI'].describe()\n",
    "upper_Q = desc.loc[:,[('RIDAGEYR',   '75%'),(   'BMXHT',   '75%'),(  'BMXBMI',   '75%')]]\n",
    "lower_Q = desc.loc[:,[('RIDAGEYR',   '25%'),(   'BMXHT',   '25%'),(  'BMXBMI',   '25%')]]\n",
    "\n",
    "print(type(upper_Q.values), len(upper_Q.values))\n",
    "IQ_shape = (upper_Q.shape)\n",
    "IQ_array = np.zeros(IQ_shape)\n",
    "IQ_index = upper_Q.index\n",
    "\n",
    "for i in range(len(upper_Q.values)):\n",
    "    IQ_array[i] = upper_Q.values[i]-lower_Q.values[i]\n",
    "    \n",
    "IQ_df = pd.DataFrame(data=IQ_array, index=IQ_index, columns = ['RIDAGEYR', 'BMXHT', 'BMXBMI'])\n",
    "\n",
    "print(IQ_df)\n",
    "\n",
    "print(IQ_df.max()/IQ_df.min())\n"
   ]
  },
  {
   "cell_type": "markdown",
   "metadata": {},
   "source": [
    "__Q6c.__ Comment on the extent to which the IQR for age, height, and BMI vary among the MVUs."
   ]
  },
  {
   "cell_type": "raw",
   "metadata": {},
   "source": [
    "Age is the variable that varies the most is spread is quite large with BMI the least"
   ]
  }
 ],
 "metadata": {
  "kernelspec": {
   "display_name": "Python 3",
   "language": "python",
   "name": "python3"
  },
  "language_info": {
   "codemirror_mode": {
    "name": "ipython",
    "version": 3
   },
   "file_extension": ".py",
   "mimetype": "text/x-python",
   "name": "python",
   "nbconvert_exporter": "python",
   "pygments_lexer": "ipython3",
   "version": "3.7.9"
  }
 },
 "nbformat": 4,
 "nbformat_minor": 4
}
