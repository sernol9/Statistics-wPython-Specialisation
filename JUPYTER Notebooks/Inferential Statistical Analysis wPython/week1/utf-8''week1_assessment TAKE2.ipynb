{
 "cells": [
  {
   "cell_type": "markdown",
   "metadata": {
    "colab_type": "text",
    "id": "J5p3JZwvGQEe"
   },
   "source": [
    "You will use the values of what you find in this assignment to answer questions in the quiz that follows. You may want to open this notebook to be displayed side-by-side on screen with this next quiz."
   ]
  },
  {
   "cell_type": "markdown",
   "metadata": {
    "colab_type": "text",
    "id": "20Hp_V-eFzbI"
   },
   "source": [
    "1. Write a function that inputs an integers and returns the negative"
   ]
  },
  {
   "cell_type": "code",
   "execution_count": 1,
   "metadata": {
    "colab": {},
    "colab_type": "code",
    "id": "tFPbRKR4FzbL"
   },
   "outputs": [],
   "source": [
    "# Write your function here\n",
    "\n",
    "def negative(number):\n",
    "    return (number if number < 0 else - number)\n"
   ]
  },
  {
   "cell_type": "code",
   "execution_count": 2,
   "metadata": {
    "colab": {},
    "colab_type": "code",
    "id": "jW5MfUUnFzbQ"
   },
   "outputs": [
    {
     "name": "stdout",
     "output_type": "stream",
     "text": [
      "-4\n"
     ]
    }
   ],
   "source": [
    "# Test your function with input x\n",
    "x = 4\n",
    "print(negative(x))"
   ]
  },
  {
   "cell_type": "markdown",
   "metadata": {
    "colab_type": "text",
    "id": "f6kLOf6_FzbU"
   },
   "source": [
    "2. Write a function that inputs a list of integers and returns the minimum value"
   ]
  },
  {
   "cell_type": "code",
   "execution_count": 10,
   "metadata": {
    "colab": {},
    "colab_type": "code",
    "id": "IHV-wS_hFzbW"
   },
   "outputs": [],
   "source": [
    "# Write your function here\n",
    "def minimum(list):\n",
    "    return sorted(list, reverse=False)[0]\n",
    "    \n"
   ]
  },
  {
   "cell_type": "code",
   "execution_count": 11,
   "metadata": {
    "colab": {},
    "colab_type": "code",
    "id": "EfvSeoaOFzba"
   },
   "outputs": [
    {
     "name": "stdout",
     "output_type": "stream",
     "text": [
      "-3\n"
     ]
    }
   ],
   "source": [
    "# Test your function with input lst\n",
    "lst = [-3, 0, 2, 100, -1, 2]\n",
    "\n",
    "print(minimum (lst))\n",
    "# Create you own input list to test with"
   ]
  },
  {
   "cell_type": "markdown",
   "metadata": {
    "colab_type": "text",
    "id": "-yjvHCDuFzbd"
   },
   "source": [
    "#### Challenge problem:  \n",
    "Write a function that take in four arguments: lst1, lst2, str1, str2, and returns a pandas DataFrame that has the first column labeled str1 and the second column labaled str2, that have values lst1 and lst2 scaled to be between 0 and 1.\n",
    "\n",
    "For example\n",
    "```\n",
    "lst1 = [1, 2, 3]\n",
    "lst2 = [2, 4, 5]\n",
    "str1 = 'one'\n",
    "str2 = 'two'\n",
    "\n",
    "my_function(lst1, lst2, str1, str2)\n",
    "``` \n",
    "should return a DataFrame that looks like:\n",
    "\n",
    "\n",
    "\n",
    "|  <i></i> | one | two |\n",
    "| --- | --- | --- |\n",
    "| 0 | 0 | 0 |\n",
    "| 1 | .5 | .666 |\n",
    "| 2 | 1 | 1 |\n",
    "\n"
   ]
  },
  {
   "cell_type": "code",
   "execution_count": 22,
   "metadata": {},
   "outputs": [
    {
     "data": {
      "text/html": [
       "<div>\n",
       "<style scoped>\n",
       "    .dataframe tbody tr th:only-of-type {\n",
       "        vertical-align: middle;\n",
       "    }\n",
       "\n",
       "    .dataframe tbody tr th {\n",
       "        vertical-align: top;\n",
       "    }\n",
       "\n",
       "    .dataframe thead th {\n",
       "        text-align: right;\n",
       "    }\n",
       "</style>\n",
       "<table border=\"1\" class=\"dataframe\">\n",
       "  <thead>\n",
       "    <tr style=\"text-align: right;\">\n",
       "      <th></th>\n",
       "      <th>one</th>\n",
       "      <th>two</th>\n",
       "    </tr>\n",
       "  </thead>\n",
       "  <tbody>\n",
       "    <tr>\n",
       "      <th>0</th>\n",
       "      <td>0.0</td>\n",
       "      <td>0.000000</td>\n",
       "    </tr>\n",
       "    <tr>\n",
       "      <th>1</th>\n",
       "      <td>0.5</td>\n",
       "      <td>0.666667</td>\n",
       "    </tr>\n",
       "    <tr>\n",
       "      <th>2</th>\n",
       "      <td>1.0</td>\n",
       "      <td>1.000000</td>\n",
       "    </tr>\n",
       "  </tbody>\n",
       "</table>\n",
       "</div>"
      ],
      "text/plain": [
       "   one       two\n",
       "0  0.0  0.000000\n",
       "1  0.5  0.666667\n",
       "2  1.0  1.000000"
      ]
     },
     "execution_count": 22,
     "metadata": {},
     "output_type": "execute_result"
    }
   ],
   "source": [
    "import pandas as pd\n",
    "import numpy as np\n",
    "import matplotlib.pyplot as plt\n",
    "%matplotlib inline\n",
    "\n",
    "def my_function(lst1, lst2, str1, str2):\n",
    "    lst = list(zip(list(map(lambda x:(x - lst1[0])/(lst1[len(lst1)-1]-lst1[0]),lst1)),list(map(lambda x:(x - lst2[0])/(lst2[len(lst2)-1]-lst2[0]),lst2))))\n",
    "    df = pd.DataFrame(lst,columns=[str1, str2])\n",
    "    return df\n",
    "\n",
    "lst1 = [1, 2, 3]\n",
    "lst2 = [2, 4, 5]\n",
    "str1 = 'one'\n",
    "str2 = 'two'  \n",
    "\n",
    "my_function(lst1, lst2, str1, str2)"
   ]
  },
  {
   "cell_type": "code",
   "execution_count": 30,
   "metadata": {
    "colab": {},
    "colab_type": "code",
    "id": "0yABet-jFzbi"
   },
   "outputs": [
    {
     "name": "stdout",
     "output_type": "stream",
     "text": [
      "         one     alpha\n",
      "0   0.199130  0.079812\n",
      "1   0.627826  0.924883\n",
      "2   0.651304  0.962441\n",
      "3   0.288696  0.350548\n",
      "4   0.148696  0.241002\n",
      "..       ...       ...\n",
      "95  0.052174  0.034429\n",
      "96  0.869565  0.791862\n",
      "97  0.964348  0.953052\n",
      "98  0.511304  0.669797\n",
      "99  0.845217  0.076682\n",
      "\n",
      "[100 rows x 2 columns]\n"
     ]
    }
   ],
   "source": [
    "\n",
    "\n",
    "lst1 = np.random.randint(-234, 938, 100)\n",
    "lst2 = np.random.randint(-522, 123, 100)\n",
    "str1 = 'one'\n",
    "str2 = 'alpha'\n",
    "\n",
    "print(my_pd_function(lst1, lst2, str1, str2))"
   ]
  },
  {
   "cell_type": "code",
   "execution_count": 31,
   "metadata": {},
   "outputs": [
    {
     "data": {
      "text/plain": [
       "'that one'"
      ]
     },
     "execution_count": 31,
     "metadata": {},
     "output_type": "execute_result"
    }
   ],
   "source": [
    "my_dict = {'peaches':'cream', 'cat':'dog', 'this one':'that one'}\n",
    "my_dict['this one']"
   ]
  },
  {
   "cell_type": "code",
   "execution_count": 24,
   "metadata": {},
   "outputs": [
    {
     "data": {
      "image/png": "[encoded data removed]",
      "text/plain": [
       "<Figure size 432x288 with 1 Axes>"
      ]
     },
     "metadata": {
      "needs_background": "light"
     },
     "output_type": "display_data"
    }
   ],
   "source": [
    "\n",
    "\n",
    "def save_plot(x, y):\n",
    "  plt.plot(x, y)\n",
    "  plt.savefig('new_plot')\n",
    "    \n",
    "save_plot(3,10)"
   ]
  },
  {
   "cell_type": "code",
   "execution_count": null,
   "metadata": {},
   "outputs": [],
   "source": []
  }
 ],
 "metadata": {
  "colab": {
   "collapsed_sections": [],
   "name": "week1_assessment.ipynb",
   "provenance": [],
   "version": "0.3.2"
  },
  "kernelspec": {
   "display_name": "Python 3",
   "language": "python",
   "name": "python3"
  },
  "language_info": {
   "codemirror_mode": {
    "name": "ipython",
    "version": 3
   },
   "file_extension": ".py",
   "mimetype": "text/x-python",
   "name": "python",
   "nbconvert_exporter": "python",
   "pygments_lexer": "ipython3",
   "version": "3.8.10"
  }
 },
 "nbformat": 4,
 "nbformat_minor": 4
}
