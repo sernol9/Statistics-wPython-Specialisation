{
 "cells": [
  {
   "cell_type": "markdown",
   "metadata": {},
   "source": [
    "# Practice notebook for confidence intervals using NHANES data\n",
    "\n",
    "This notebook will give you the opportunity to practice working with confidence intervals using the NHANES data.\n",
    "\n",
    "You can enter your code into the cells that say \"enter your code here\", and you can type responses to the questions into the cells that say \"Type Markdown and Latex\".\n",
    "\n",
    "Note that most of the code that you will need to write below is very similar to code that appears in the case study notebook.  You will need to edit code from that notebook in small ways to adapt it to the prompts below.\n",
    "\n",
    "To get started, we will use the same module imports and read the data in the same way as we did in the case study:"
   ]
  },
  {
   "cell_type": "code",
   "execution_count": 242,
   "metadata": {},
   "outputs": [
    {
     "data": {
      "text/plain": [
       "261"
      ]
     },
     "execution_count": 242,
     "metadata": {},
     "output_type": "execute_result"
    }
   ],
   "source": [
    "%matplotlib inline\n",
    "import matplotlib.pyplot as plt\n",
    "import pandas as pd\n",
    "import numpy as np\n",
    "import seaborn as sns\n",
    "import statsmodels.api as sm\n",
    "\n",
    "da = pd.read_csv(\"..\\..\\\\nhanes_2015_2016.csv\")\n",
    "da.shape\n",
    "da['DMDMARTL'].isnull().sum()\n",
    "da['RIAGENDR'].isnull().sum()\n",
    "da['DMDEDUC2'].isnull().sum()"
   ]
  },
  {
   "cell_type": "markdown",
   "metadata": {},
   "source": [
    "## Question 1\n",
    "\n",
    "Restrict the sample to women between 35 and 50, then use the marital status variable [DMDMARTL](https://wwwn.cdc.gov/Nchs/Nhanes/2015-2016/DEMO_I.htm#DMDMARTL) to partition this sample into two groups - women who are currently married, and women who are not currently married.  Within each of these groups, calculate the proportion of women who have completed college.  Calculate 95% confidence intervals for each of these proportions."
   ]
  },
  {
   "cell_type": "code",
   "execution_count": 293,
   "metadata": {},
   "outputs": [
    {
     "name": "stdout",
     "output_type": "stream",
     "text": [
      "(787, 33)\n",
      "             Sample_size  College_count  College_proportion\n",
      "DMDMARTLx                                                  \n",
      "Married              449            162            0.360802\n",
      "Not Married          338             72            0.213018\n",
      "\n",
      "Married total:              449.000\n",
      "Married proportion:           0.361\n",
      "Married standard error:       0.023\n",
      "lcb:     0.316\n",
      "ucb:     0.405\n",
      "\n",
      "Not Married total:              338.000\n",
      "Not Married proportion:           0.213\n",
      "Not Married standard error:       0.022\n",
      "lcb:     0.169\n",
      "ucb:     0.257\n"
     ]
    }
   ],
   "source": [
    "# enter your code here\n",
    "da[\"DMDMARTLx\"] = da['DMDMARTL'].replace({1: \"Married\", 2: \"Not Married\", 3: \"Not Married\", 4: \"Not Married\", 5: \"Not Married\",\n",
    "                                         6: \"Not Married\", 77:\"Not Married\" , 99:\"Not Married\"})\n",
    "da['RIAGENDRx'] = da['RIAGENDR'].replace({1: \"Male\", 2:\"Female\"})\n",
    "da['DMDEDUC2x'] = da['DMDEDUC2'].replace({1: \"No college\", 2: \"No college\", 3: \"No college\", 4: \"No college\", 5: \"College\",\n",
    "                                   7:\"No college\", 9:\"No college\"})\n",
    "da['AGEGRP'] = pd.cut(da['RIDAGEYR'], [10,20,30,40,50,60,70,80] ) # Create age strata based on these cut points\n",
    "\n",
    "\n",
    "df = da.dropna(subset=['DMDMARTL', 'DMDEDUC2'])\n",
    "df=df[(df['RIAGENDRx'] == \"Female\") & (df['RIDAGEYR']>=35) & (df['RIDAGEYR']<=50)]\n",
    "print(df.shape)\n",
    "\n",
    "gb = df.groupby(['DMDMARTLx'])['DMDEDUC2x'].agg(\n",
    "        Sample_size        = np.size,\n",
    "        College_count      = lambda x: np.sum (x == 'College'), \n",
    "        College_proportion = lambda x: np.mean(x =='College')\n",
    "      )\n",
    "\n",
    "n_married = gb[\"Sample_size\"][\"Married\"]        # Total number of married women\n",
    "p_married = gb[\"College_proportion\"][\"Married\"] # Married women w/college proportion\n",
    "std_married = np.sqrt(p_married * (1 - p_married) / n_married)\n",
    "\n",
    "lcb_married  = p_married - 1.96 * std_married  \n",
    "ucb_married  = p_married + 1.96 * std_married\n",
    "\n",
    "n_not_married = gb[\"Sample_size\"][\"Not Married\"]        # Total number of non married women\n",
    "p_not_married = gb[\"College_proportion\"][\"Not Married\"] # Non Married women w/college proportion\n",
    "std_not_married = np.sqrt(p_not_married * (1 - p_not_married) / n_not_married)\n",
    "\n",
    "lcb_not_married  = p_not_married - 1.96 * std_not_married  \n",
    "ucb_not_married  = p_not_married + 1.96 * std_not_married\n",
    "\n",
    "print(gb)\n",
    "print(f\"\"\"\\nMarried total: {n_married:>20.3f}\n",
    "Married proportion: {p_married:>15.3f}\n",
    "Married standard error: {std_married:>11.3f}\n",
    "lcb:{lcb_married:>10.3f}\\nucb:{ucb_married:>10.3f}\"\"\")\n",
    "\n",
    "print(f\"\"\"\\nNot Married total: {n_not_married:>20.3f}\n",
    "Not Married proportion: {p_not_married:>15.3f}\n",
    "Not Married standard error: {std_not_married:>11.3f}\n",
    "lcb:{lcb_not_married:>10.3f}\\nucb:{ucb_not_married:>10.3f}\"\"\")\n"
   ]
  },
  {
   "cell_type": "markdown",
   "metadata": {},
   "source": [
    "__Q1a.__ Identify which of the two confidence intervals is wider, and explain why this is the case. "
   ]
  },
  {
   "cell_type": "markdown",
   "metadata": {},
   "source": [
    "\n",
    "The confidence intervals are almost identical. The difference in width will be determined by the standard error. And in this case the std is identical"
   ]
  },
  {
   "cell_type": "markdown",
   "metadata": {},
   "source": [
    "__Q1b.__ Write 1-2 sentences summarizing these findings for an audience that does not know what a confidence interval is (the goal here is to report the substance of what you learned about how marital status and educational attainment are related, not to teach a person what a confidence interval is)."
   ]
  },
  {
   "cell_type": "markdown",
   "metadata": {},
   "source": [
    "From the data with 95% confidence we can infer that the proportion of women married with a college degree is between 31% and 40% with the sample proportion being 36%.\n",
    "Equally with 95% confidence we can infer that the proportion of women not married with a college degree is between 17% and 25% with the sample proportion being 21%."
   ]
  },
  {
   "cell_type": "markdown",
   "metadata": {},
   "source": [
    "## Question 2\n",
    "\n",
    "Construct a 95% confidence interval for the proportion of smokers who are female. Construct a 95% confidence interval for the proportion of smokers who are male. Construct a 95% confidence interval for the **difference** between those two gender proportions."
   ]
  },
  {
   "cell_type": "code",
   "execution_count": 272,
   "metadata": {},
   "outputs": [
    {
     "name": "stdout",
     "output_type": "stream",
     "text": [
      "(5735, 33)\n",
      "           Sample_size  Smokers_count  Smokers_proportion\n",
      "RIAGENDRx                                                \n",
      "Female            2976            906            0.304435\n",
      "Male              2759           1413            0.512142\n",
      "\n",
      "Female total:             2976.000\n",
      "Female smokers proportion:           0.304\n",
      "Female smokers standard error:       0.008\n",
      "lcb:     0.288\n",
      "ucb:     0.321\n",
      "\n",
      "Male total:             2759.000\n",
      "Male smokers proportion:           0.512\n",
      "Male smokers standard error:       0.010\n",
      "lcb:     0.493\n",
      "ucb:     0.531\n",
      "\n",
      "\n",
      "Female-Male diff proportion:          -0.208\n",
      "Female-Male diff standard error:       0.013\n",
      "lcb:    -0.233\n",
      "ucb:    -0.183\n"
     ]
    }
   ],
   "source": [
    "# enter your code here\n",
    "\n",
    "da['SMQ020x'] = da['SMQ020'].replace({1: \"Yes\", 2:\"No\", 7:\"No\", 9:\"No\",})\n",
    "df = da.dropna(subset=['SMQ020'])\n",
    "\n",
    "print(df.shape)\n",
    "\n",
    "gb = df.groupby(['RIAGENDRx'])['SMQ020x'].agg(\n",
    "        Sample_size        = np.size,\n",
    "        Smokers_count      = lambda x: np.sum (x == 'Yes'), \n",
    "        Smokers_proportion = lambda x: np.mean(x =='Yes')\n",
    "      )\n",
    "\n",
    "n_female = gb[\"Sample_size\"][\"Female\"]                # Total number of female\n",
    "p_female_smokers = gb[\"Smokers_proportion\"][\"Female\"] # Female smokers proportion\n",
    "std_female_smokers = np.sqrt(p_female_smokers * (1 - p_female_smokers) / n_female)\n",
    "lcb_female_smokers  = p_female_smokers - 1.96 * std_female_smokers  \n",
    "ucb_female_smokers  = p_female_smokers + 1.96 * std_female_smokers\n",
    "\n",
    "n_male = gb[\"Sample_size\"][\"Male\"]                      # Total number of male\n",
    "p_male_smokers   = gb[\"Smokers_proportion\"][\"Male\"]     # Male smokers proportion\n",
    "std_male_smokers = np.sqrt(p_male_smokers * (1 - p_male_smokers) / n_male)\n",
    "lcb_male_smokers  = p_male_smokers - 1.96 * std_male_smokers  \n",
    "ucb_male_smokers  = p_male_smokers + 1.96 * std_male_smokers\n",
    "\n",
    "p_diff = p_female_smokers - p_male_smokers\n",
    "std_diff = np.sqrt((p_female_smokers * (1 - p_female_smokers) / n_female)+(p_male_smokers * (1 - p_male_smokers) / n_male))\n",
    "lcb_diff = p_diff - 1.96 * std_diff  \n",
    "ucb_diff  = p_diff + 1.96 * std_diff\n",
    "                   \n",
    "print(gb)\n",
    "print(f\"\"\"\\nFemale total: {n_female:>20.3f}\n",
    "Female smokers proportion: {p_female_smokers:>15.3f}\n",
    "Female smokers standard error: {std_female_smokers:>11.3f}\n",
    "lcb:{lcb_female_smokers:>10.3f}\\nucb:{ucb_female_smokers:>10.3f}\"\"\")\n",
    "\n",
    "print(f\"\"\"\\nMale total: {n_male:>20.3f}\n",
    "Male smokers proportion: {p_male_smokers:>15.3f}\n",
    "Male smokers standard error: {std_male_smokers:>11.3f}\n",
    "lcb:{lcb_male_smokers:>10.3f}\\nucb:{ucb_male_smokers:>10.3f}\"\"\")\n",
    "                   \n",
    "print(f\"\"\"\\n\n",
    "Female-Male diff proportion: {p_diff:>15.3f}\n",
    "Female-Male diff standard error: {std_diff:>11.3f}\n",
    "lcb:{lcb_diff:>10.3f}\\nucb:{ucb_diff:>10.3f}\"\"\")"
   ]
  },
  {
   "cell_type": "markdown",
   "metadata": {},
   "source": [
    "__Q2a.__ Why might it be relevant to report the separate gender proportions **and** the difference between the gender proportions?"
   ]
  },
  {
   "cell_type": "markdown",
   "metadata": {},
   "source": [
    "Given the difference between these two proportions we hypothesise that the difference in proportion is not zero.\n",
    "Females and Males may not have the same smoking proportion "
   ]
  },
  {
   "cell_type": "markdown",
   "metadata": {},
   "source": [
    "__Q2b.__ How does the **width** of the confidence interval for the difference between the gender proportions compare to the widths of the confidence intervals for the separate gender proportions?"
   ]
  },
  {
   "cell_type": "markdown",
   "metadata": {},
   "source": [
    "The width of the confidence internal  for the difference is wider as the std error of the difference is bigger"
   ]
  },
  {
   "cell_type": "markdown",
   "metadata": {},
   "source": [
    "## Question 3\n",
    "\n",
    "Construct a 95% interval for height ([BMXHT](https://wwwn.cdc.gov/Nchs/Nhanes/2015-2016/BMX_I.htm#BMXHT)) in centimeters.  Then convert height from centimeters to inches by dividing by 2.54, and construct a 95% confidence interval for height in inches.  Finally, convert the endpoints (the lower and upper confidence limits) of the confidence interval from inches to back to centimeters   "
   ]
  },
  {
   "cell_type": "code",
   "execution_count": 292,
   "metadata": {},
   "outputs": [
    {
     "name": "stdout",
     "output_type": "stream",
     "text": [
      "\n",
      "Height sample total:              5673.00\n",
      "CM\n",
      "Height mean :                      166.143\n",
      "Height standard error:             10.078\n",
      "lcb:   146.389\n",
      "ucb:   185.896\n",
      "\n",
      "IN\n",
      "Height mean :                       65.411\n",
      "Height standard error:              3.968\n",
      "lcb:    57.634\n",
      "ucb:    73.188\n",
      "\n",
      "Conversion of ends to cm\n",
      "lcb:   146.389\n",
      "ucb:   185.896\n",
      "\n"
     ]
    }
   ],
   "source": [
    "# enter your code here\n",
    "df = da.dropna(subset=['BMXHT'])\n",
    "df.shape\n",
    "\n",
    "mean_height_cm  = np.mean(df['BMXHT'])\n",
    "std_height_cm   = np.std(df['BMXHT'])\n",
    "count_height = df['BMXHT'].count()\n",
    "\n",
    "lcb_height_cm  = mean_height_cm - 1.96 * std_height_cm  \n",
    "ucb_height_cm  = mean_height_cm + 1.96 * std_height_cm\n",
    "\n",
    "mean_height_in  = np.mean(df['BMXHT'])/2.54\n",
    "std_height_in   = np.std(df['BMXHT'])/2.54\n",
    "count_height = df['BMXHT'].count()\n",
    "\n",
    "lcb_height_in  = mean_height_in - 1.96 * std_height_in  \n",
    "ucb_height_in  = mean_height_in + 1.96 * std_height_in\n",
    " \n",
    "lcb_to_cm = lcb_height_in * 2.54\n",
    "ucb_to_cm = ucb_height_in * 2.54\n",
    "print(f\"\"\"\\nHeight sample total: {count_height:>20.2f}\n",
    "CM\n",
    "Height mean : {mean_height_cm:>28.3f}\n",
    "Height standard error: {std_height_cm:>18.3f}\n",
    "lcb:{lcb_height_cm:>10.3f}\\nucb:{ucb_height_cm:>10.3f}\n",
    "\n",
    "IN\n",
    "Height mean : {mean_height_in:>28.3f}\n",
    "Height standard error: {std_height_in:>18.3f}\n",
    "lcb:{lcb_height_in:>10.3f}\\nucb:{ucb_height_in:>10.3f}\n",
    "\n",
    "Conversion of ends to cm\n",
    "lcb:{lcb_to_cm:>10.3f}\\nucb:{ucb_to_cm:>10.3f}\n",
    "\"\"\")"
   ]
  },
  {
   "cell_type": "markdown",
   "metadata": {},
   "source": [
    "__Q3a.__ Describe how the confidence interval constructed in centimeters relates to the confidence interval constructed in inches."
   ]
  },
  {
   "cell_type": "markdown",
   "metadata": {},
   "source": [
    "Is the same is only expressed in different units"
   ]
  },
  {
   "cell_type": "markdown",
   "metadata": {},
   "source": [
    "## Question 4\n",
    "\n",
    "Partition the sample based on 10-year age bands, i.e. the resulting groups will consist of people with ages from 18-28, 29-38, etc. Construct 95% confidence intervals for the difference between the mean BMI for females and for males within each age band."
   ]
  },
  {
   "cell_type": "code",
   "execution_count": 322,
   "metadata": {},
   "outputs": [
    {
     "name": "stdout",
     "output_type": "stream",
     "text": [
      "(5662, 33)\n",
      "          Sample_size        Mean_BMI       Std_BMI      Mean_diff Std_diff   LCB  UCB Width_interval\n",
      "RIAGENDRx      Female   Male   Female  Male  Female Male                                             \n",
      "AGEGRP                                                                                               \n",
      "(10, 20]       160.00 175.00    26.44 26.23    6.97 7.02      0.21     0.77 -1.29 1.71           3.00\n",
      "(20, 30]       511.00 426.00    28.42 27.71    7.87 6.58      0.71     0.47 -0.22 1.64           1.85\n",
      "(30, 40]       469.00 452.00    30.33 29.61    8.32 6.62      0.71     0.49 -0.26 1.68           1.94\n",
      "(40, 50]       498.00 398.00    31.16 29.72    8.08 6.41      1.44     0.48  0.49 2.38           1.90\n",
      "(50, 60]       466.00 451.00    30.74 29.23    7.58 5.91      1.51     0.45  0.63 2.39           1.76\n",
      "(60, 70]       437.00 426.00    31.07 29.39    7.60 5.93      1.68     0.46  0.77 2.59           1.82\n",
      "(70, 80]       403.00 390.00    29.14 27.96    6.28 4.97      1.18     0.40  0.39 1.97           1.58\n"
     ]
    }
   ],
   "source": [
    "# enter your code here\n",
    "df = da.dropna(subset=['BMXBMI'])\n",
    "\n",
    "print(df.shape)\n",
    "pd.set_option('display.float_format','{:.2f}'.format)\n",
    "pd.set_option('display.width',120)\n",
    "\n",
    "gb = df.groupby(['AGEGRP','RIAGENDRx'])['BMXBMI'].agg(\n",
    "        Sample_size  = np.size,\n",
    "        Mean_BMI     = np.mean, \n",
    "        Std_BMI      = np.std\n",
    "      ).unstack()\n",
    "\n",
    "gb[('Mean_diff')] = gb[('Mean_BMI', 'Female')] - gb[('Mean_BMI', 'Male')]\n",
    "gb[('Std_diff')]  = np.sqrt((gb[('Std_BMI', 'Female')]**2/gb[('Sample_size','Female')]) + (gb[('Std_BMI', 'Male')]**2/gb[('Sample_size','Male')]))\n",
    "gb[('LCB')] = gb[('Mean_diff')] - 1.96 * gb[('Std_diff')]\n",
    "gb[('UCB')] = gb[('Mean_diff')] + 1.96 * gb[('Std_diff')]\n",
    "gb[('Width_interval')] =  gb[('UCB')] - gb[('LCB')]\n",
    "print(gb)"
   ]
  },
  {
   "cell_type": "markdown",
   "metadata": {},
   "source": [
    "__Q4a.__ How do the widths of these confidence intervals differ?  Provide an explanation for any substantial diferences in the confidence interval widths that you see."
   ]
  },
  {
   "cell_type": "markdown",
   "metadata": {},
   "source": [
    "The bigger the std the wider the interval. The width difference between interval is quite small and consistent with the exception of the first and the last age group. It suggests that the difference in BMI for these two different groups remains somewhat constant"
   ]
  },
  {
   "cell_type": "markdown",
   "metadata": {},
   "source": [
    "## Question 5\n",
    "\n",
    "Construct a 95% confidence interval for the first and second systolic blood pressure measures, and for the difference between the first and second systolic blood pressure measurements within a subject."
   ]
  },
  {
   "cell_type": "code",
   "execution_count": 339,
   "metadata": {},
   "outputs": [
    {
     "name": "stdout",
     "output_type": "stream",
     "text": [
      "\n",
      "Sample total:      5369.000\n",
      "Mean Systolic 1:    125.088\n",
      "Std Systolic  1:      0.252\n",
      "lcb:   124.594\n",
      "ucb:   125.583\n",
      "\n",
      "Sample total:      5369.000\n",
      "Mean Systolic 2:    124.413\n",
      "Std Systolic  2:      0.248\n",
      "lcb:   123.919\n",
      "ucb:   124.908\n",
      "\n",
      "Sample total:         5369.000\n",
      "Mean Systolic Diff:      0.675\n",
      "Std Systolic  Diff:      0.070\n",
      "lcb:     0.538\n",
      "ucb:     0.812\n"
     ]
    }
   ],
   "source": [
    "# enter code here\n",
    "df = da.dropna(subset=['BPXSY1','BPXSY2'])\n",
    "df = df[['BPXSY1','BPXSY2']]\n",
    "\n",
    "count_sy1= np.size(df['BPXSY1'])\n",
    "mean_sy1 = np.mean(df['BPXSY1'])\n",
    "std_sy1  = np.std(df['BPXSY1'])/np.sqrt(count_sy1)\n",
    "lcb_sy1  = mean_sy1 - 1.96 * std_sy1  \n",
    "ucb_sy1  = mean_sy1 + 1.96 * std_sy1\n",
    "\n",
    "count_sy2= np.size(df['BPXSY2'])\n",
    "mean_sy2 = np.mean(df['BPXSY2'])\n",
    "std_sy2  = np.std(df['BPXSY2'])/np.sqrt(count_sy2)\n",
    "lcb_sy2  = mean_sy2 - 1.96 * std_sy1  \n",
    "ucb_sy2  = mean_sy2 + 1.96 * std_sy1\n",
    "\n",
    "mean_diff = mean_sy1 - mean_sy2\n",
    "std_diff  = np.std(df['BPXSY1']-df['BPXSY2'])/(np.sqrt(count_sy1)-1)\n",
    "lcb_diff  = mean_diff - 1.96 * std_diff  \n",
    "ucb_diff  = mean_diff + 1.96 * std_diff\n",
    "\n",
    "print(f\"\"\"\\nSample total: {count_sy1:>13.3f}\n",
    "Mean Systolic 1: {mean_sy1:>10.3f}\n",
    "Std Systolic  1: {std_sy1:>10.3f}\n",
    "lcb:{lcb_sy1:>10.3f}\\nucb:{ucb_sy1:>10.3f}\"\"\")\n",
    "\n",
    "print(f\"\"\"\\nSample total: {count_sy2:>13.3f}\n",
    "Mean Systolic 2: {mean_sy2:>10.3f}\n",
    "Std Systolic  2: {std_sy2:>10.3f}\n",
    "lcb:{lcb_sy2:>10.3f}\\nucb:{ucb_sy2:>10.3f}\"\"\")\n",
    "\n",
    "print(f\"\"\"\\nSample total: {count_sy1:>16.3f}\n",
    "Mean Systolic Diff: {mean_diff:>10.3f}\n",
    "Std Systolic  Diff: {std_diff:>10.3f}\n",
    "lcb:{lcb_diff:>10.3f}\\nucb:{ucb_diff:>10.3f}\"\"\")"
   ]
  },
  {
   "cell_type": "markdown",
   "metadata": {},
   "source": [
    "__Q5a.__ Based on these confidence intervals, would you say that a difference of zero between the population mean values of the first and second systolic blood pressure measures is consistent with the data?"
   ]
  },
  {
   "cell_type": "markdown",
   "metadata": {},
   "source": [
    "No is not. the difference of zero is not included in the confidence interval"
   ]
  },
  {
   "cell_type": "markdown",
   "metadata": {},
   "source": [
    "__Q5b.__ Discuss how the width of the confidence interval for the within-subject difference compares to the widths of the confidence intervals for the first and second measures."
   ]
  },
  {
   "cell_type": "markdown",
   "metadata": {},
   "source": [
    "The std error is what determines the width. in the case of the difference between measurements taken the std error is small and the confidence interval width is also small compared to the confidence intervals for the first and the secnd measument"
   ]
  },
  {
   "cell_type": "markdown",
   "metadata": {},
   "source": [
    "## Question 6\n",
    "\n",
    "Construct a 95% confidence interval for the mean difference between the average age of a smoker, and the average age of a non-smoker."
   ]
  },
  {
   "cell_type": "code",
   "execution_count": 357,
   "metadata": {},
   "outputs": [
    {
     "name": "stdout",
     "output_type": "stream",
     "text": [
      "         Sample_size  Mean_age  Std_age  mean_age_diff  std_age_diff    LCB   UCB\n",
      "SMQ020x                                                                          \n",
      "No              3416     45.31    18.57          -6.79         18.13 -42.32 28.74\n",
      "Yes             2319     52.10    17.46            nan           nan    nan   nan\n"
     ]
    }
   ],
   "source": [
    "# insert your code here\n",
    "df = da.dropna(subset=['SMQ020'])\n",
    "\n",
    "gb = df.groupby(['SMQ020x'])['RIDAGEYR'].agg(\n",
    "        Sample_size  = np.size,\n",
    "        Mean_age     = np.mean, \n",
    "        Std_age      = np.std\n",
    "      )\n",
    "\n",
    "\n",
    "gb.at['No','mean_age_diff'] = gb['Mean_age']['No'] - gb['Mean_age']['Yes']\n",
    "gb.at['No','std_age_diff'] = np.sqrt((((gb['Sample_size']['No']-1)*(gb['Std_age']['No']**2))+((gb['Sample_size']['Yes']-1)*(gb['Std_age']['Yes']**2)))/(df['RIDAGEYR'].count()-2))\n",
    "gb.at['No','LCB']  = gb['mean_age_diff']['No']  - 1.96 * gb['std_age_diff']['No']\n",
    "gb.at['No','UCB']  = gb['mean_age_diff']['No']  + 1.96 * gb['std_age_diff']['No']\n",
    "\n",
    "print(gb)"
   ]
  },
  {
   "cell_type": "markdown",
   "metadata": {},
   "source": [
    "__Q6a.__ Use graphical and numerical techniques to compare the variation in the ages of smokers to the variation in the ages of non-smokers.  "
   ]
  },
  {
   "cell_type": "code",
   "execution_count": 358,
   "metadata": {},
   "outputs": [
    {
     "data": {
      "image/png": "[encoded data removed]",
      "text/plain": [
       "<Figure size 432x288 with 1 Axes>"
      ]
     },
     "metadata": {
      "needs_background": "light"
     },
     "output_type": "display_data"
    }
   ],
   "source": [
    "# insert your code here\n",
    "sns.boxplot(x=\"SMQ020x\", y=\"RIDAGEYR\", data=df).set_title(\"BoxPlot of Age of Smokers and non-Smokers\")\n",
    "plt.show()"
   ]
  },
  {
   "cell_type": "markdown",
   "metadata": {},
   "source": [
    "__Q6b.__ Does it appear that uncertainty about the mean age of smokers, or uncertainty about the mean age of non-smokers contributed more to the uncertainty for the mean difference that we are focusing on here?"
   ]
  },
  {
   "cell_type": "markdown",
   "metadata": {},
   "source": [
    "It wil appear thaat the uncertainty comes from the non-smokers as the sample numbers are wider spread wider"
   ]
  }
 ],
 "metadata": {
  "kernelspec": {
   "display_name": "Python 3",
   "language": "python",
   "name": "python3"
  },
  "language_info": {
   "codemirror_mode": {
    "name": "ipython",
    "version": 3
   },
   "file_extension": ".py",
   "mimetype": "text/x-python",
   "name": "python",
   "nbconvert_exporter": "python",
   "pygments_lexer": "ipython3",
   "version": "3.7.9"
  }
 },
 "nbformat": 4,
 "nbformat_minor": 4
}
