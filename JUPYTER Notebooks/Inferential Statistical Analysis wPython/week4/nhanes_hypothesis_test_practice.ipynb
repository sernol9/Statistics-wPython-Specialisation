{
 "cells": [
  {
   "cell_type": "markdown",
   "metadata": {},
   "source": [
    "# Practice notebook for hypothesis tests using NHANES data\n",
    "\n",
    "This notebook will give you the opportunity to perform some hypothesis tests with the NHANES data that are similar to\n",
    "what was done in the week 3 case study notebook.\n",
    "\n",
    "You can enter your code into the cells that say \"enter your code here\", and you can type responses to the questions into the cells that say \"Type Markdown and Latex\".\n",
    "\n",
    "Note that most of the code that you will need to write below is very similar to code that appears in the case study notebook.  You will need to edit code from that notebook in small ways to adapt it to the prompts below.\n",
    "\n",
    "To get started, we will use the same module imports and read the data in the same way as we did in the case study:"
   ]
  },
  {
   "cell_type": "code",
   "execution_count": 36,
   "metadata": {},
   "outputs": [
    {
     "data": {
      "text/plain": [
       "0"
      ]
     },
     "execution_count": 36,
     "metadata": {},
     "output_type": "execute_result"
    }
   ],
   "source": [
    "%matplotlib inline\n",
    "import matplotlib.pyplot as plt\n",
    "import seaborn as sns\n",
    "import pandas as pd\n",
    "import statsmodels.api as sm\n",
    "import numpy as np\n",
    "import scipy.stats.distributions as dist\n",
    "\n",
    "da = pd.read_csv(\"..\\..\\\\nhanes_2015_2016.csv\")\n",
    "da.head()\n",
    "da['SMQ020'].isnull().sum()"
   ]
  },
  {
   "cell_type": "markdown",
   "metadata": {},
   "source": [
    "## Question 1\n",
    "\n",
    "Conduct a hypothesis test (at the 0.05 level) for the null hypothesis that the proportion of women who smoke is equal to the proportion of men who smoke."
   ]
  },
  {
   "cell_type": "code",
   "execution_count": 74,
   "metadata": {},
   "outputs": [
    {
     "name": "stdout",
     "output_type": "stream",
     "text": [
      "           Sample_size  Smokers_count  Smokers_proportion  Smokers_std\n",
      "RIAGENDRx                                                             \n",
      "Female            2823            887            0.314205     0.008737\n",
      "Male              2583           1370            0.530391     0.009820\n",
      "(-16.100214584614243, 2.5422139858961764e-58)\n",
      "( -16.333437105490432 5.707620019127988e-60 )\n"
     ]
    },
    {
     "data": {
      "text/plain": [
       "(-16.497624020203265, 1.0775379409583657e-59, 5404.0)"
      ]
     },
     "execution_count": 74,
     "metadata": {},
     "output_type": "execute_result"
    }
   ],
   "source": [
    "# insert your code here\n",
    "da['RIAGENDRx'] = da['RIAGENDR'].replace({1: \"Male\", 2:\"Female\"})\n",
    "da['SMQ020x'] = da['SMQ020'].replace({1: \"Yes\", 2:\"No\", 7:\"No\", 9:\"No\",})\n",
    "da['DMDEDUC2x'] = da['DMDEDUC2'].replace({1: \"No college\", 2: \"No college\", 3: \"No college\", 4: \"No college\", 5: \"College\",\n",
    "                                   7:\"No college\", 9:\"No college\"})\n",
    "da['AGEGRP'] = pd.cut(da['RIDAGEYR'], [10,20,30,40,50,60,70,80] ) # Create age strata based on these cut points\n",
    "\n",
    "df = da.dropna(subset=['SMQ020','RIAGENDR','DMDEDUC2','BMXHT','RIDAGEYR','BMXBMI'])\n",
    "\n",
    "gb = df.groupby(['RIAGENDRx'])['SMQ020x'].agg(\n",
    "        Sample_size             = np.size,\n",
    "        Smokers_count           = lambda x: np.sum (x == 'Yes'), \n",
    "        Smokers_proportion      = lambda x: np.mean (x == 'Yes'), \n",
    "      )\n",
    "\n",
    "gb.at['Female','Smokers_std'] = np.sqrt(gb['Smokers_proportion']['Female']*(1-gb['Smokers_proportion']['Female'])/gb['Sample_size']['Female'])\n",
    "gb.at['Male','Smokers_std'] = np.sqrt(gb['Smokers_proportion']['Male']*(1-gb['Smokers_proportion']['Male'])/gb['Sample_size']['Male'])\n",
    "\n",
    "diff_statistic = gb['Smokers_proportion']['Female'] - gb['Smokers_proportion']['Male']\n",
    "diff_stde      = np.sqrt((gb['Smokers_std']['Female']**2) + (gb['Smokers_std']['Male']**2))\n",
    "diff_test_stat = statistic / stde\n",
    "diff_pvalue    = 2*dist.norm.cdf(-np.abs(test_stat))\n",
    "\n",
    "print(gb)\n",
    "print(sm.stats.proportions_ztest(gb['Smokers_count'],gb['Sample_size'],0,\"two-sided\"))\n",
    "print(\"\"\"(\"\"\",test_stat,pvalue,\"\"\")\"\"\")\n",
    "\n",
    "df_females = df.loc[df['RIAGENDRx']==\"Female\", \"SMQ020x\"].replace({\"Yes\": 1, \"No\": 0})\n",
    "df_males = df.loc[df['RIAGENDRx']==\"Male\", \"SMQ020x\"].replace({\"Yes\": 1, \"No\": 0})\n",
    "sm.stats.ttest_ind(df_females, df_males)"
   ]
  },
  {
   "cell_type": "markdown",
   "metadata": {},
   "source": [
    "__Q1a.__ Write 1-2 sentences explaining the substance of your findings to someone who does not know anything about statistical hypothesis tests."
   ]
  },
  {
   "cell_type": "markdown",
   "metadata": {},
   "source": [
    "The T value is so big that is extremely unlikely that any random sample would have given a difference in proportion so big. Hence we have enough information to reject the null hypothesis"
   ]
  },
  {
   "cell_type": "markdown",
   "metadata": {},
   "source": [
    "__Q1b.__ Construct three 95% confidence intervals: one for the proportion of women who smoke, one for the proportion of men who smoke, and one for the difference in the rates of smoking between women and men."
   ]
  },
  {
   "cell_type": "code",
   "execution_count": 66,
   "metadata": {},
   "outputs": [
    {
     "name": "stdout",
     "output_type": "stream",
     "text": [
      "Female confint: ( 0.2968680021260818 0.33109659964382976 )\n",
      "Male confint  : ( 0.5116522408093047 0.5500761542524237 )\n",
      "Diff confint  : ( -0.2426117010078803 -0.19115209228393662 )\n",
      "           Sample_size  Smokers_count  Smokers_proportion  Smokers_std\n",
      "RIAGENDRx                                                             \n",
      "Female            2825            887            0.313982     0.008732\n",
      "Male              2592           1376            0.530864     0.009802\n"
     ]
    }
   ],
   "source": [
    "# insert your code here\n",
    "wi_low, wci_upp = sm.stats.proportion_confint(gb['Smokers_count']['Female'],gb['Sample_size']['Female'])\n",
    "mi_low, mci_upp = sm.stats.proportion_confint(gb['Smokers_count']['Male'],gb['Sample_size']['Male'])\n",
    "\n",
    "diff_LCB = diff_statistic - 1.96 *diff_stde\n",
    "diff_UCB = diff_statistic + 1.96 *diff_stde\n",
    "\n",
    "print(\"\"\"Female confint: (\"\"\",wi_low, wci_upp,\"\"\")\"\"\")\n",
    "print(\"\"\"Male confint  : (\"\"\",mi_low, mci_upp,\"\"\")\"\"\")\n",
    "print(\"\"\"Diff confint  : (\"\"\",diff_LCB, diff_UCB,\"\"\")\"\"\")\n",
    "\n",
    "print(gb)"
   ]
  },
  {
   "cell_type": "markdown",
   "metadata": {},
   "source": [
    "__Q1c.__ Comment on any ways in which the confidence intervals that you found in part b reinforce, contradict, or add support to the hypothesis test conducted in part a."
   ]
  },
  {
   "cell_type": "markdown",
   "metadata": {},
   "source": [
    "The confident intervals for Female and Male do not overlap making it impossible to have similar proportion. The differenc confident interval does not even include zero"
   ]
  },
  {
   "cell_type": "markdown",
   "metadata": {},
   "source": [
    "## Question 2\n",
    "\n",
    "Partition the population into two groups based on whether a person has graduated college or not, using the educational attainment variable [DMDEDUC2](https://wwwn.cdc.gov/Nchs/Nhanes/2015-2016/DEMO_I.htm#DMDEDUC2).  Then conduct a test of the null hypothesis that the average heights (in centimeters) of the two groups are equal.  Next, convert the heights from centimeters to inches, and conduct a test of the null hypothesis that the average heights (in inches) of the two groups are equal."
   ]
  },
  {
   "cell_type": "code",
   "execution_count": 72,
   "metadata": {},
   "outputs": [
    {
     "name": "stdout",
     "output_type": "stream",
     "text": [
      "            Sample_size  Height_mean  Height_stde\n",
      "DMDEDUC2x                                        \n",
      "College          1355.0   167.855351     9.705433\n",
      "No college       4062.0   165.463959    10.172964\n",
      "CM:  (7.578706943765076, 3.4901585776605263e-14)\n",
      "IN:  (7.578706943764969, 3.4901585776634256e-14)\n"
     ]
    }
   ],
   "source": [
    "# insert your code here\n",
    "df.head()\n",
    "gb = df.groupby(['DMDEDUC2x'])['BMXHT'].agg(\n",
    "        Sample_size             = np.size,\n",
    "        Height_mean             = np.mean, \n",
    "        Height_stde             = np.std, \n",
    "      )\n",
    "\n",
    "print(gb)\n",
    "\n",
    "df_college    = df[df['DMDEDUC2x']==\"College\"][\"BMXHT\"]\n",
    "df_no_college = df[df['DMDEDUC2x']==\"No college\"][\"BMXHT\"]\n",
    "print(\"CM: \",sm.stats.ztest(df_college, df_no_college,0,'two-sided'))\n",
    "\n",
    "df_college    = df[df['DMDEDUC2x']==\"College\"][\"BMXHT\"]/2.54\n",
    "df_no_college = df[df['DMDEDUC2x']==\"No college\"][\"BMXHT\"]/2.54\n",
    "print(\"IN: \",sm.stats.ztest(df_college, df_no_college,0,'two-sided'))"
   ]
  },
  {
   "cell_type": "markdown",
   "metadata": {},
   "source": [
    "__Q2a.__ Based on the analysis performed here, are you confident that people who graduated from college have a different average height compared to people who did not graduate from college?"
   ]
  },
  {
   "cell_type": "markdown",
   "metadata": {},
   "source": [
    "We have enough evidence to reject the null hypothesis"
   ]
  },
  {
   "cell_type": "markdown",
   "metadata": {},
   "source": [
    "__Q2b:__ How do the results obtained using the heights expressed in inches compare to the results obtained using the heights expressed in centimeters?"
   ]
  },
  {
   "cell_type": "markdown",
   "metadata": {},
   "source": [
    "The units are just a scaling factor that do not modify the statistics"
   ]
  },
  {
   "cell_type": "markdown",
   "metadata": {},
   "source": [
    "## Question 3\n",
    "\n",
    "Conduct a hypothesis test of the null hypothesis that the average BMI for men between 30 and 40 is equal to the average BMI for men between 50 and 60.  Then carry out this test again after log transforming the BMI values."
   ]
  },
  {
   "cell_type": "code",
   "execution_count": 84,
   "metadata": {},
   "outputs": [
    {
     "name": "stdout",
     "output_type": "stream",
     "text": [
      "          Sample_size   BMI_mean  BMI_stde\n",
      "AGEGRP                                    \n",
      "(10, 20]         40.0  27.867500  8.618180\n",
      "(20, 30]        426.0  27.712441  6.583785\n",
      "(30, 40]        452.0  29.611726  6.622412\n",
      "(40, 50]        398.0  29.724623  6.407076\n",
      "(50, 60]        451.0  29.231486  5.914373\n",
      "(60, 70]        426.0  29.392488  5.933307\n",
      "(70, 80]        390.0  27.957692  4.974855\n",
      "Natural numbers:  (2.450434400899453, 0.01426839590995834)\n",
      "Log numbers:      (2.482594735071243, 0.013042938112072116)\n"
     ]
    }
   ],
   "source": [
    "# insert your code here\n",
    "df.head()\n",
    "gb = df[df['RIAGENDRx']==\"Male\"].groupby(['AGEGRP'])['BMXBMI'].agg(\n",
    "                                            Sample_size             = np.size,\n",
    "                                            BMI_mean             = np.mean, \n",
    "                                            BMI_stde             = np.std, \n",
    "                                          )\n",
    "\n",
    "print(gb)\n",
    "\n",
    "df_30_40   = df[(df['RIAGENDRx']==\"Male\") & (df['RIDAGEYR']>=30) & (df['RIDAGEYR']<=40)][\"BMXHT\"]\n",
    "df_50_60   = df[(df['RIAGENDRx']==\"Male\") & (df['RIDAGEYR']>=50) & (df['RIDAGEYR']<=60)][\"BMXHT\"]\n",
    "print(\"Natural numbers: \",sm.stats.ztest(df_30_40, df_50_60,0,'two-sided'))\n",
    "\n",
    "df_30_40_log   = np.log(df[(df['RIAGENDRx']==\"Male\") & (df['RIDAGEYR']>=30) & (df['RIDAGEYR']<=40)][\"BMXHT\"])\n",
    "df_50_60_log   = np.log(df[(df['RIAGENDRx']==\"Male\") & (df['RIDAGEYR']>=50) & (df['RIDAGEYR']<=60)][\"BMXHT\"])\n",
    "print(\"Log numbers:     \",sm.stats.ztest(df_30_40_log, df_50_60_log,0,'two-sided'))"
   ]
  },
  {
   "cell_type": "markdown",
   "metadata": {},
   "source": [
    "__Q3a.__ How would you characterize the evidence that mean BMI differs between these age bands, and how would you characterize the evidence that mean log BMI differs between these age bands?"
   ]
  },
  {
   "cell_type": "markdown",
   "metadata": {},
   "source": [
    "There is sufficient evidence to reject the null and infer the average is not equal. The transformation did not have any effect on the result"
   ]
  },
  {
   "cell_type": "markdown",
   "metadata": {},
   "source": [
    "## Question 4\n",
    "\n",
    "Suppose we wish to compare the mean BMI between college graduates and people who have not graduated from college, focusing on women between the ages of 30 and 40.  First, consider the variance of BMI within each of these subpopulations using graphical techniques, and through the estimated subpopulation variances.  Then, calculate pooled and unpooled estimates of the standard error for the difference between the mean BMI in the two populations being compared.  Finally, test the null hypothesis that the two population means are equal, using each of the two different standard errors."
   ]
  },
  {
   "cell_type": "code",
   "execution_count": 99,
   "metadata": {},
   "outputs": [
    {
     "name": "stdout",
     "output_type": "stream",
     "text": [
      "      DMDEDUC2x  BMXBMI\n",
      "7    No college    28.2\n",
      "12   No college    26.6\n",
      "34   No college    25.5\n",
      "50   No college    27.2\n",
      "61   No college    35.3\n",
      "65      College    27.8\n",
      "73   No college    27.4\n",
      "79      College    23.9\n",
      "82   No college    21.8\n",
      "112  No college    33.5\n",
      "            Sample_size   BMI_mean  BMI_stde\n",
      "DMDEDUC2x                                   \n",
      "College           171.0  27.808187  7.358264\n",
      "No college        354.0  31.257345  8.256083\n"
     ]
    },
    {
     "data": {
      "image/png": "[encoded data removed]",
      "text/plain": [
       "<Figure size 216x432 with 2 Axes>"
      ]
     },
     "metadata": {
      "needs_background": "light"
     },
     "output_type": "display_data"
    },
    {
     "name": "stdout",
     "output_type": "stream",
     "text": [
      "Pooled ztest   : (-4.6439084509564195, 3.418791006711758e-06)\n",
      "Pooled ttest   : (-4.643908450956429, 4.329847689653777e-06, 523.0)\n",
      "NotPooled ttest: (-4.833662355599106, 1.9620578582153497e-06, 373.1691835695286)\n"
     ]
    },
    {
     "name": "stderr",
     "output_type": "stream",
     "text": [
      "C:\\ProgramData\\Anaconda3\\lib\\site-packages\\ipykernel_launcher.py:14: UserWarning: Boolean Series key will be reindexed to match DataFrame index.\n",
      "  \n",
      "C:\\ProgramData\\Anaconda3\\lib\\site-packages\\ipykernel_launcher.py:15: UserWarning: Boolean Series key will be reindexed to match DataFrame index.\n",
      "  from ipykernel import kernelapp as app\n",
      "C:\\ProgramData\\Anaconda3\\lib\\site-packages\\ipykernel_launcher.py:16: UserWarning: Boolean Series key will be reindexed to match DataFrame index.\n",
      "  app.launch_new_instance()\n"
     ]
    }
   ],
   "source": [
    "# insert your code here\n",
    "df_bmi = df[(df['RIAGENDRx']==\"Female\") & (df['RIDAGEYR']>=30) & (df['RIDAGEYR']<=40)][['DMDEDUC2x','BMXBMI']]\n",
    "print(df_bmi.head(10))\n",
    "gb = df[(df['RIAGENDRx']==\"Female\") & (df['RIDAGEYR']>=30) & (df['RIDAGEYR']<=40)].groupby(['DMDEDUC2x'])['BMXBMI'].agg(\n",
    "        Sample_size          = np.size,\n",
    "        BMI_mean             = np.mean, \n",
    "        BMI_stde             = np.std, \n",
    "      )\n",
    "print(gb)\n",
    "g = sns.FacetGrid(df_bmi, row = \"DMDEDUC2x\")\n",
    "g = g.map(sns.histplot, \"BMXBMI\", kde = True)\n",
    "plt.show()\n",
    "\n",
    "print(\"Pooled ztest   :\",sm.stats.ztest(df_bmi[df['DMDEDUC2x']=='College']['BMXBMI'],df_bmi[df['DMDEDUC2x']=='No college']['BMXBMI'],0,'two-sided'))\n",
    "print(\"Pooled ttest   :\",sm.stats.ttest_ind(df_bmi[df['DMDEDUC2x']=='College']['BMXBMI'],df_bmi[df['DMDEDUC2x']=='No college']['BMXBMI'],alternative='two-sided',usevar = 'pooled',value=0))\n",
    "print(\"NotPooled ttest:\",sm.stats.ttest_ind(df_bmi[df['DMDEDUC2x']=='College']['BMXBMI'],df_bmi[df['DMDEDUC2x']=='No college']['BMXBMI'],alternative='two-sided',usevar = 'unequal',value=0))"
   ]
  },
  {
   "cell_type": "markdown",
   "metadata": {},
   "source": [
    "__Q4a.__ Comment on the strength of evidence against the null hypothesis that these two populations have equal mean BMI."
   ]
  },
  {
   "cell_type": "markdown",
   "metadata": {},
   "source": [
    "From a graphical perspective you can tell that the mean in College leans towards 28 whilst the No College is leaning towards 30. The two tests indicate that it will be almost impossible statistically speaking to get these values in any given sample if the null hypothesis would be true"
   ]
  },
  {
   "cell_type": "markdown",
   "metadata": {},
   "source": [
    "__Q4b.__ Comment on the degree to which the two populations have different variances, and on the extent to which the results using different approaches to estimating the standard error of the mean difference give divergent results."
   ]
  },
  {
   "cell_type": "markdown",
   "metadata": {},
   "source": [
    "There was almost no changes in the T statistic and the p-value."
   ]
  },
  {
   "cell_type": "markdown",
   "metadata": {},
   "source": [
    "## Question 5\n",
    "\n",
    "Conduct a test of the null hypothesis that the first and second diastolic blood pressure measurements within a subject have the same mean values."
   ]
  },
  {
   "cell_type": "code",
   "execution_count": null,
   "metadata": {},
   "outputs": [],
   "source": [
    "# insert your code here"
   ]
  },
  {
   "cell_type": "markdown",
   "metadata": {},
   "source": [
    "__Q5a.__ Briefly describe your findings for an audience that is not familiar with statistical hypothesis testing."
   ]
  },
  {
   "cell_type": "markdown",
   "metadata": {},
   "source": []
  },
  {
   "cell_type": "markdown",
   "metadata": {},
   "source": [
    "__Q5b.__ Pretend that the first and second diastolic blood pressure measurements were taken on different people.  Modfify the analysis above as appropriate for this setting."
   ]
  },
  {
   "cell_type": "code",
   "execution_count": null,
   "metadata": {},
   "outputs": [],
   "source": [
    "# insert your code here"
   ]
  },
  {
   "cell_type": "markdown",
   "metadata": {},
   "source": [
    "__Q5c.__ Briefly describe how the approaches used and the results obtained in the preceeding two parts of the question differ."
   ]
  },
  {
   "cell_type": "markdown",
   "metadata": {},
   "source": []
  }
 ],
 "metadata": {
  "kernelspec": {
   "display_name": "Python 3",
   "language": "python",
   "name": "python3"
  },
  "language_info": {
   "codemirror_mode": {
    "name": "ipython",
    "version": 3
   },
   "file_extension": ".py",
   "mimetype": "text/x-python",
   "name": "python",
   "nbconvert_exporter": "python",
   "pygments_lexer": "ipython3",
   "version": "3.7.9"
  }
 },
 "nbformat": 4,
 "nbformat_minor": 4
}
