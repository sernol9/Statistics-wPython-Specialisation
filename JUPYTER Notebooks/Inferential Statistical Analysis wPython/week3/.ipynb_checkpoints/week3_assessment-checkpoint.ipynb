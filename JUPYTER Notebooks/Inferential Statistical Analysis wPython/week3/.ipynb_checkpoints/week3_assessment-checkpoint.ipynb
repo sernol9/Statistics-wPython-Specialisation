{
 "cells": [
  {
   "cell_type": "markdown",
   "metadata": {
    "colab_type": "text",
    "id": "6w1_Mo78NDof"
   },
   "source": [
    "## Creating confidence intervals in python\n",
    "In this assessment, you will look at data from a study on toddler sleep habits. \n",
    "\n",
    "The confidence intervals you create and the questions you answer in this Jupyter notebook will be used to answer questions in the following graded assignment."
   ]
  },
  {
   "cell_type": "code",
   "execution_count": 56,
   "metadata": {
    "colab": {},
    "colab_type": "code",
    "id": "YNKXymB_NDoh"
   },
   "outputs": [],
   "source": [
    "import numpy as np\n",
    "import pandas as pd\n",
    "from scipy.stats import t\n",
    "pd.set_option('display.max_columns', 30) # set so can see all columns of the DataFrame"
   ]
  },
  {
   "cell_type": "markdown",
   "metadata": {
    "colab_type": "text",
    "id": "HL4-ACl_NDol"
   },
   "source": [
    "Your goal is to analyse data which is the result of a study that examined\n",
    "differences in a number of sleep variables between napping and non-napping toddlers. Some of these\n",
    "sleep variables included: Bedtime (lights-off time in decimalized time), Night Sleep Onset Time (in\n",
    "decimalized time), Wake Time (sleep end time in decimalized time), Night Sleep Duration (interval\n",
    "between sleep onset and sleep end in minutes), and Total 24-Hour Sleep Duration (in minutes). Note:\n",
    "[Decimalized time](https://en.wikipedia.org/wiki/Decimal_time) is the representation of the time of day using units which are decimally related.   \n",
    "\n",
    "\n",
    "The 20 study participants were healthy, normally developing toddlers with no sleep or behavioral\n",
    "problems. These children were categorized as napping or non-napping based upon parental report of\n",
    "children’s habitual sleep patterns. Researchers then verified napping status with data from actigraphy (a\n",
    "non-invasive method of monitoring human rest/activity cycles by wearing of a sensor on the wrist) and\n",
    "sleep diaries during the 5 days before the study assessments were made.\n",
    "\n",
    "\n",
    "You are specifically interested in the results for the Bedtime, Night Sleep Duration, and Total 24-\n",
    "Hour Sleep Duration. "
   ]
  },
  {
   "cell_type": "markdown",
   "metadata": {
    "colab_type": "text",
    "id": "XHo6lLm_NDol"
   },
   "source": [
    "Reference: Akacem LD, Simpkin CT, Carskadon MA, Wright KP Jr, Jenni OG, Achermann P, et al. (2015) The Timing of the Circadian Clock and Sleep Differ between Napping and Non-Napping Toddlers. PLoS ONE 10(4): e0125181. https://doi.org/10.1371/journal.pone.0125181"
   ]
  },
  {
   "cell_type": "code",
   "execution_count": 57,
   "metadata": {
    "colab": {},
    "colab_type": "code",
    "id": "mBcxVw04NFW9"
   },
   "outputs": [],
   "source": [
    "# Import the data\n",
    "df = pd.read_csv(\"..\\..\\\\nap_no_nap.csv\") "
   ]
  },
  {
   "cell_type": "code",
   "execution_count": 58,
   "metadata": {
    "colab": {},
    "colab_type": "code",
    "id": "TYe8b7MoNDop"
   },
   "outputs": [
    {
     "name": "stdout",
     "output_type": "stream",
     "text": [
      "Index(['id', 'sex', 'age (months)', 'dlmo time', 'days napped', 'napping',\n",
      "       'nap lights outl time', 'nap sleep onset', 'nap midsleep',\n",
      "       'nap sleep offset', 'nap wake time', 'nap duration', 'nap time in bed',\n",
      "       'night bedtime', 'night sleep onset', 'sleep onset latency',\n",
      "       'night midsleep time', 'night wake time', 'night sleep duration',\n",
      "       'night time in bed', '24 h sleep duration', 'bedtime phase difference',\n",
      "       'sleep onset phase difference', 'midsleep phase difference',\n",
      "       'wake time phase difference'],\n",
      "      dtype='object')\n",
      "(20, 25)\n",
      "    night bedtime  night sleep duration\n",
      "0           20.45                629.40\n",
      "1           19.23                672.40\n",
      "2           19.60                628.80\n",
      "3           19.46                766.60\n",
      "4           19.21                678.00\n",
      "5           19.95                602.20\n",
      "6           20.60                618.40\n",
      "7           22.01                526.80\n",
      "8           20.24                626.80\n",
      "9           20.78                549.50\n",
      "10          19.45                655.20\n",
      "11          20.18                611.20\n",
      "12          20.22                611.80\n",
      "13          20.26                618.80\n",
      "14          20.28                548.00\n",
      "15          20.46                593.25\n",
      "16          20.43                649.80\n",
      "17          20.02                573.60\n",
      "18          19.50                693.40\n",
      "19          20.18                615.33\n"
     ]
    },
    {
     "data": {
      "text/html": [
       "<div>\n",
       "<style scoped>\n",
       "    .dataframe tbody tr th:only-of-type {\n",
       "        vertical-align: middle;\n",
       "    }\n",
       "\n",
       "    .dataframe tbody tr th {\n",
       "        vertical-align: top;\n",
       "    }\n",
       "\n",
       "    .dataframe thead th {\n",
       "        text-align: right;\n",
       "    }\n",
       "</style>\n",
       "<table border=\"1\" class=\"dataframe\">\n",
       "  <thead>\n",
       "    <tr style=\"text-align: right;\">\n",
       "      <th></th>\n",
       "      <th>id</th>\n",
       "      <th>age (months)</th>\n",
       "      <th>dlmo time</th>\n",
       "      <th>days napped</th>\n",
       "      <th>napping</th>\n",
       "      <th>nap lights outl time</th>\n",
       "      <th>nap sleep onset</th>\n",
       "      <th>nap midsleep</th>\n",
       "      <th>nap sleep offset</th>\n",
       "      <th>nap wake time</th>\n",
       "      <th>nap duration</th>\n",
       "      <th>nap time in bed</th>\n",
       "      <th>night bedtime</th>\n",
       "      <th>night sleep onset</th>\n",
       "      <th>sleep onset latency</th>\n",
       "      <th>night midsleep time</th>\n",
       "      <th>night wake time</th>\n",
       "      <th>night sleep duration</th>\n",
       "      <th>night time in bed</th>\n",
       "      <th>24 h sleep duration</th>\n",
       "      <th>bedtime phase difference</th>\n",
       "      <th>sleep onset phase difference</th>\n",
       "      <th>midsleep phase difference</th>\n",
       "      <th>wake time phase difference</th>\n",
       "    </tr>\n",
       "  </thead>\n",
       "  <tbody>\n",
       "    <tr>\n",
       "      <th>count</th>\n",
       "      <td>20.00000</td>\n",
       "      <td>20.000000</td>\n",
       "      <td>20.000000</td>\n",
       "      <td>20.000000</td>\n",
       "      <td>20.000000</td>\n",
       "      <td>15.000000</td>\n",
       "      <td>15.000000</td>\n",
       "      <td>15.000000</td>\n",
       "      <td>15.000000</td>\n",
       "      <td>15.000000</td>\n",
       "      <td>15.000000</td>\n",
       "      <td>15.000000</td>\n",
       "      <td>20.000000</td>\n",
       "      <td>20.00000</td>\n",
       "      <td>20.000000</td>\n",
       "      <td>20.000000</td>\n",
       "      <td>20.000000</td>\n",
       "      <td>20.000000</td>\n",
       "      <td>20.000000</td>\n",
       "      <td>20.000000</td>\n",
       "      <td>20.000000</td>\n",
       "      <td>20.000000</td>\n",
       "      <td>20.000000</td>\n",
       "      <td>20.00000</td>\n",
       "    </tr>\n",
       "    <tr>\n",
       "      <th>mean</th>\n",
       "      <td>10.50000</td>\n",
       "      <td>34.185000</td>\n",
       "      <td>19.637500</td>\n",
       "      <td>2.700000</td>\n",
       "      <td>0.750000</td>\n",
       "      <td>13.508000</td>\n",
       "      <td>13.862667</td>\n",
       "      <td>14.716667</td>\n",
       "      <td>15.572000</td>\n",
       "      <td>15.648000</td>\n",
       "      <td>102.593333</td>\n",
       "      <td>128.404667</td>\n",
       "      <td>20.125500</td>\n",
       "      <td>20.60900</td>\n",
       "      <td>0.483000</td>\n",
       "      <td>1.804500</td>\n",
       "      <td>7.000500</td>\n",
       "      <td>623.464000</td>\n",
       "      <td>669.086500</td>\n",
       "      <td>700.409000</td>\n",
       "      <td>-0.483500</td>\n",
       "      <td>-0.973500</td>\n",
       "      <td>6.169500</td>\n",
       "      <td>11.36300</td>\n",
       "    </tr>\n",
       "    <tr>\n",
       "      <th>std</th>\n",
       "      <td>5.91608</td>\n",
       "      <td>2.029331</td>\n",
       "      <td>0.703419</td>\n",
       "      <td>1.894591</td>\n",
       "      <td>0.444262</td>\n",
       "      <td>0.763556</td>\n",
       "      <td>0.745735</td>\n",
       "      <td>0.773154</td>\n",
       "      <td>0.831773</td>\n",
       "      <td>0.660186</td>\n",
       "      <td>20.052957</td>\n",
       "      <td>23.807165</td>\n",
       "      <td>0.642089</td>\n",
       "      <td>0.78564</td>\n",
       "      <td>0.275052</td>\n",
       "      <td>0.502944</td>\n",
       "      <td>0.543889</td>\n",
       "      <td>54.908707</td>\n",
       "      <td>46.340104</td>\n",
       "      <td>45.592934</td>\n",
       "      <td>0.578994</td>\n",
       "      <td>0.588408</td>\n",
       "      <td>0.463641</td>\n",
       "      <td>0.71446</td>\n",
       "    </tr>\n",
       "    <tr>\n",
       "      <th>min</th>\n",
       "      <td>1.00000</td>\n",
       "      <td>30.000000</td>\n",
       "      <td>18.220000</td>\n",
       "      <td>0.000000</td>\n",
       "      <td>0.000000</td>\n",
       "      <td>12.470000</td>\n",
       "      <td>12.560000</td>\n",
       "      <td>13.300000</td>\n",
       "      <td>14.050000</td>\n",
       "      <td>14.250000</td>\n",
       "      <td>73.000000</td>\n",
       "      <td>80.000000</td>\n",
       "      <td>19.210000</td>\n",
       "      <td>19.48000</td>\n",
       "      <td>0.050000</td>\n",
       "      <td>1.090000</td>\n",
       "      <td>6.010000</td>\n",
       "      <td>526.800000</td>\n",
       "      <td>582.400000</td>\n",
       "      <td>628.800000</td>\n",
       "      <td>-1.730000</td>\n",
       "      <td>-2.030000</td>\n",
       "      <td>5.070000</td>\n",
       "      <td>9.85000</td>\n",
       "    </tr>\n",
       "    <tr>\n",
       "      <th>25%</th>\n",
       "      <td>5.75000</td>\n",
       "      <td>32.975000</td>\n",
       "      <td>19.270000</td>\n",
       "      <td>0.750000</td>\n",
       "      <td>0.750000</td>\n",
       "      <td>12.900000</td>\n",
       "      <td>13.425000</td>\n",
       "      <td>14.305000</td>\n",
       "      <td>15.090000</td>\n",
       "      <td>15.265000</td>\n",
       "      <td>92.500000</td>\n",
       "      <td>118.400000</td>\n",
       "      <td>19.575000</td>\n",
       "      <td>20.00750</td>\n",
       "      <td>0.280000</td>\n",
       "      <td>1.330000</td>\n",
       "      <td>6.650000</td>\n",
       "      <td>599.962500</td>\n",
       "      <td>651.100000</td>\n",
       "      <td>662.237500</td>\n",
       "      <td>-0.882500</td>\n",
       "      <td>-1.267500</td>\n",
       "      <td>5.920000</td>\n",
       "      <td>11.06000</td>\n",
       "    </tr>\n",
       "    <tr>\n",
       "      <th>50%</th>\n",
       "      <td>10.50000</td>\n",
       "      <td>33.750000</td>\n",
       "      <td>19.685000</td>\n",
       "      <td>3.000000</td>\n",
       "      <td>1.000000</td>\n",
       "      <td>13.180000</td>\n",
       "      <td>13.870000</td>\n",
       "      <td>14.490000</td>\n",
       "      <td>15.460000</td>\n",
       "      <td>15.780000</td>\n",
       "      <td>100.750000</td>\n",
       "      <td>130.670000</td>\n",
       "      <td>20.200000</td>\n",
       "      <td>20.74000</td>\n",
       "      <td>0.450000</td>\n",
       "      <td>1.905000</td>\n",
       "      <td>7.060000</td>\n",
       "      <td>618.600000</td>\n",
       "      <td>662.100000</td>\n",
       "      <td>706.065000</td>\n",
       "      <td>-0.425000</td>\n",
       "      <td>-0.995000</td>\n",
       "      <td>6.155000</td>\n",
       "      <td>11.41000</td>\n",
       "    </tr>\n",
       "    <tr>\n",
       "      <th>75%</th>\n",
       "      <td>15.25000</td>\n",
       "      <td>36.225000</td>\n",
       "      <td>19.995000</td>\n",
       "      <td>4.000000</td>\n",
       "      <td>1.000000</td>\n",
       "      <td>13.995000</td>\n",
       "      <td>14.450000</td>\n",
       "      <td>15.360000</td>\n",
       "      <td>16.050000</td>\n",
       "      <td>16.150000</td>\n",
       "      <td>108.710000</td>\n",
       "      <td>138.165000</td>\n",
       "      <td>20.435000</td>\n",
       "      <td>20.97750</td>\n",
       "      <td>0.645000</td>\n",
       "      <td>2.137500</td>\n",
       "      <td>7.217500</td>\n",
       "      <td>651.150000</td>\n",
       "      <td>696.200000</td>\n",
       "      <td>724.100000</td>\n",
       "      <td>-0.040000</td>\n",
       "      <td>-0.827500</td>\n",
       "      <td>6.347500</td>\n",
       "      <td>11.94500</td>\n",
       "    </tr>\n",
       "    <tr>\n",
       "      <th>max</th>\n",
       "      <td>20.00000</td>\n",
       "      <td>37.100000</td>\n",
       "      <td>21.060000</td>\n",
       "      <td>5.000000</td>\n",
       "      <td>1.000000</td>\n",
       "      <td>14.750000</td>\n",
       "      <td>15.030000</td>\n",
       "      <td>15.920000</td>\n",
       "      <td>17.010000</td>\n",
       "      <td>16.600000</td>\n",
       "      <td>155.500000</td>\n",
       "      <td>163.800000</td>\n",
       "      <td>22.010000</td>\n",
       "      <td>22.53000</td>\n",
       "      <td>1.190000</td>\n",
       "      <td>2.920000</td>\n",
       "      <td>8.280000</td>\n",
       "      <td>766.600000</td>\n",
       "      <td>784.000000</td>\n",
       "      <td>782.300000</td>\n",
       "      <td>0.330000</td>\n",
       "      <td>0.190000</td>\n",
       "      <td>7.050000</td>\n",
       "      <td>12.59000</td>\n",
       "    </tr>\n",
       "  </tbody>\n",
       "</table>\n",
       "</div>"
      ],
      "text/plain": [
       "             id  age (months)  dlmo time  days napped    napping  \\\n",
       "count  20.00000     20.000000  20.000000    20.000000  20.000000   \n",
       "mean   10.50000     34.185000  19.637500     2.700000   0.750000   \n",
       "std     5.91608      2.029331   0.703419     1.894591   0.444262   \n",
       "min     1.00000     30.000000  18.220000     0.000000   0.000000   \n",
       "25%     5.75000     32.975000  19.270000     0.750000   0.750000   \n",
       "50%    10.50000     33.750000  19.685000     3.000000   1.000000   \n",
       "75%    15.25000     36.225000  19.995000     4.000000   1.000000   \n",
       "max    20.00000     37.100000  21.060000     5.000000   1.000000   \n",
       "\n",
       "       nap lights outl time  nap sleep onset  nap midsleep  nap sleep offset  \\\n",
       "count             15.000000        15.000000     15.000000         15.000000   \n",
       "mean              13.508000        13.862667     14.716667         15.572000   \n",
       "std                0.763556         0.745735      0.773154          0.831773   \n",
       "min               12.470000        12.560000     13.300000         14.050000   \n",
       "25%               12.900000        13.425000     14.305000         15.090000   \n",
       "50%               13.180000        13.870000     14.490000         15.460000   \n",
       "75%               13.995000        14.450000     15.360000         16.050000   \n",
       "max               14.750000        15.030000     15.920000         17.010000   \n",
       "\n",
       "       nap wake time  nap duration  nap time in bed  night bedtime  \\\n",
       "count      15.000000     15.000000        15.000000      20.000000   \n",
       "mean       15.648000    102.593333       128.404667      20.125500   \n",
       "std         0.660186     20.052957        23.807165       0.642089   \n",
       "min        14.250000     73.000000        80.000000      19.210000   \n",
       "25%        15.265000     92.500000       118.400000      19.575000   \n",
       "50%        15.780000    100.750000       130.670000      20.200000   \n",
       "75%        16.150000    108.710000       138.165000      20.435000   \n",
       "max        16.600000    155.500000       163.800000      22.010000   \n",
       "\n",
       "       night sleep onset  sleep onset latency  night midsleep time  \\\n",
       "count           20.00000            20.000000            20.000000   \n",
       "mean            20.60900             0.483000             1.804500   \n",
       "std              0.78564             0.275052             0.502944   \n",
       "min             19.48000             0.050000             1.090000   \n",
       "25%             20.00750             0.280000             1.330000   \n",
       "50%             20.74000             0.450000             1.905000   \n",
       "75%             20.97750             0.645000             2.137500   \n",
       "max             22.53000             1.190000             2.920000   \n",
       "\n",
       "       night wake time  night sleep duration  night time in bed  \\\n",
       "count        20.000000             20.000000          20.000000   \n",
       "mean          7.000500            623.464000         669.086500   \n",
       "std           0.543889             54.908707          46.340104   \n",
       "min           6.010000            526.800000         582.400000   \n",
       "25%           6.650000            599.962500         651.100000   \n",
       "50%           7.060000            618.600000         662.100000   \n",
       "75%           7.217500            651.150000         696.200000   \n",
       "max           8.280000            766.600000         784.000000   \n",
       "\n",
       "       24 h sleep duration  bedtime phase difference  \\\n",
       "count            20.000000                 20.000000   \n",
       "mean            700.409000                 -0.483500   \n",
       "std              45.592934                  0.578994   \n",
       "min             628.800000                 -1.730000   \n",
       "25%             662.237500                 -0.882500   \n",
       "50%             706.065000                 -0.425000   \n",
       "75%             724.100000                 -0.040000   \n",
       "max             782.300000                  0.330000   \n",
       "\n",
       "       sleep onset phase difference  midsleep phase difference  \\\n",
       "count                     20.000000                  20.000000   \n",
       "mean                      -0.973500                   6.169500   \n",
       "std                        0.588408                   0.463641   \n",
       "min                       -2.030000                   5.070000   \n",
       "25%                       -1.267500                   5.920000   \n",
       "50%                       -0.995000                   6.155000   \n",
       "75%                       -0.827500                   6.347500   \n",
       "max                        0.190000                   7.050000   \n",
       "\n",
       "       wake time phase difference  \n",
       "count                    20.00000  \n",
       "mean                     11.36300  \n",
       "std                       0.71446  \n",
       "min                       9.85000  \n",
       "25%                      11.06000  \n",
       "50%                      11.41000  \n",
       "75%                      11.94500  \n",
       "max                      12.59000  "
      ]
     },
     "execution_count": 58,
     "metadata": {},
     "output_type": "execute_result"
    }
   ],
   "source": [
    "# First, look at the DataFrame to get a sense of the data\n",
    "print(df.columns)\n",
    "print(df.shape)\n",
    "print(df.loc[:,['night bedtime','night sleep duration']])\n",
    "df.describe()"
   ]
  },
  {
   "cell_type": "markdown",
   "metadata": {
    "colab_type": "text",
    "id": "VfZxEx3gNDor"
   },
   "source": [
    "**Question**: What variable is used in the column 'napping' to indicate a toddler takes a nap?\n",
    "\n",
    "\n",
    "**Question**: What is the sample size $n$?"
   ]
  },
  {
   "cell_type": "markdown",
   "metadata": {
    "colab_type": "text",
    "id": "9djLvqwJNDos"
   },
   "source": [
    "## Hypothesis testing\n",
    "We will look at two hypothesis test, each with $\\alpha = .025$:  \n",
    "\n",
    "\n",
    "1. Is the average bedtime for toddlers who nap later than the average bedtime for toddlers who don't nap?\n",
    "\n",
    "\n",
    "$$H_0: \\mu_{nap}=\\mu_{no\\ nap}, \\ H_a:\\mu_{nap}>\\mu_{no\\ nap}$$\n",
    "Or equivalently:\n",
    "$$H_0: \\mu_{nap}-\\mu_{no\\ nap}=0, \\ H_a:\\mu_{nap}-\\mu_{no\\ nap}>0$$\n",
    "\n",
    "\n",
    "2. The average 24 h sleep duration (in minutes) for napping toddlers is different from toddlers who don't nap.\n",
    "\n",
    "\n",
    "$$H_0: \\mu_{nap}=\\mu_{no\\ nap}, \\ H_a:\\mu_{nap}\\neq\\mu_{no\\ nap}$$\n",
    "Or equivalenty:\n",
    "$$H_0: \\mu_{nap}-\\mu_{no\\ nap}=0, \\ H_a:\\mu_{nap}-\\mu_{no\\ nap} \\neq 0$$\n",
    "\n",
    "Aside: This $\\alpha$ level is equivalent to $\\alpha = .05$ and then applying the [Bonferonni correction](https://en.wikipedia.org/wiki/Bonferroni_correction)."
   ]
  },
  {
   "cell_type": "markdown",
   "metadata": {
    "colab_type": "text",
    "id": "WprO1i-ONDot"
   },
   "source": [
    "Before any analysis, we will convert 'night bedtime' into decimalized time. "
   ]
  },
  {
   "cell_type": "code",
   "execution_count": 59,
   "metadata": {
    "colab": {},
    "colab_type": "code",
    "id": "KReCXeO_NDou"
   },
   "outputs": [],
   "source": [
    "# Convert 'night bedtime' into decimalized time\n",
    "df.loc[:,'night bedtime'] = np.floor(df['night bedtime'])*60 + np.round(df['night bedtime']%1,2 )*100"
   ]
  },
  {
   "cell_type": "markdown",
   "metadata": {
    "colab_type": "text",
    "id": "VJyTAzZcNDox"
   },
   "source": [
    "Now, isolate the column 'night bedtime' for those who nap into a new variable, and those who didn't nap into another new variable. "
   ]
  },
  {
   "cell_type": "code",
   "execution_count": 60,
   "metadata": {
    "colab": {},
    "colab_type": "code",
    "id": "5gZyghIbNDoy"
   },
   "outputs": [],
   "source": [
    "nap_bedtime = df[df['napping'] == 1]['night bedtime']\n",
    "no_nap_bedtime = df[df['napping'] == 0]['night bedtime']"
   ]
  },
  {
   "cell_type": "markdown",
   "metadata": {
    "colab_type": "text",
    "id": "ZEqxhPObNDo3"
   },
   "source": [
    "Now find the sample mean bedtime for nap and no_nap."
   ]
  },
  {
   "cell_type": "code",
   "execution_count": 63,
   "metadata": {
    "colab": {},
    "colab_type": "code",
    "id": "IV2eUZAtNDo9"
   },
   "outputs": [
    {
     "name": "stdout",
     "output_type": "stream",
     "text": [
      "NAP BEDTIME\n",
      " 5     1235.0\n",
      "6     1260.0\n",
      "7     1321.0\n",
      "8     1224.0\n",
      "9     1278.0\n",
      "10    1185.0\n",
      "11    1218.0\n",
      "12    1222.0\n",
      "13    1226.0\n",
      "14    1228.0\n",
      "15    1246.0\n",
      "16    1243.0\n",
      "17    1202.0\n",
      "18    1190.0\n",
      "19    1218.0\n",
      "Name: night bedtime, dtype: float64 \n",
      "\n",
      " NO NAP BEDTIME\n",
      " 0    1245.0\n",
      "1    1163.0\n",
      "2    1200.0\n",
      "3    1186.0\n",
      "4    1161.0\n",
      "Name: night bedtime, dtype: float64 \n",
      "\n",
      " nap_mean_bedtime:  1233.0666666666666 \n",
      " no_nap_mean_bedtime:  1191.0 \n",
      " nap_mean_bedtime - no_nap_mean_bedtime:  42.066666666666606\n"
     ]
    }
   ],
   "source": [
    "nap_mean_bedtime = nap_bedtime.mean()\n",
    "no_nap_mean_bedtime = no_nap_bedtime.mean()\n",
    "mean_diff = nap_mean_bedtime - no_nap_mean_bedtime\n",
    "\n",
    "print(\"NAP BEDTIME\\n\", nap_bedtime,\"\\n\\n NO NAP BEDTIME\\n\", no_nap_bedtime,\"\\n\\n nap_mean_bedtime: \",nap_mean_bedtime, \"\\n no_nap_mean_bedtime: \", no_nap_mean_bedtime, \"\\n nap_mean_bedtime - no_nap_mean_bedtime: \",mean_diff)"
   ]
  },
  {
   "cell_type": "markdown",
   "metadata": {
    "colab_type": "text",
    "id": "LFCWELIDNDo-"
   },
   "source": [
    "**Question**: What is the sample difference of mean bedtime for nappers minus no nappers?"
   ]
  },
  {
   "cell_type": "markdown",
   "metadata": {
    "colab_type": "text",
    "id": "qm-fIbluNDpA"
   },
   "source": [
    "Now find the sample standard deviation for $X_{nap}$ and $X_{no\\ nap}$."
   ]
  },
  {
   "cell_type": "code",
   "execution_count": 64,
   "metadata": {
    "colab": {},
    "colab_type": "code",
    "id": "G5X_l8-qNDpA"
   },
   "outputs": [],
   "source": [
    "nap_s_bedtime = nap_bedtime.std()\n",
    "no_nap_s_bedtime = no_nap_bedtime.std()"
   ]
  },
  {
   "cell_type": "markdown",
   "metadata": {
    "colab_type": "text",
    "id": "zikRy_GINDpF"
   },
   "source": [
    "**Question**: What is the s.e.$(\\bar{X}_{nap} - \\bar{X}_{no\\ nap})$?\n",
    "\n",
    "We expect the variance in sleep time for toddlers who nap and toddlers who don't nap to be the same. So we use a pooled standard error.\n",
    "\n",
    "Calculate the pooled standard error of $\\bar{X}_{nap} - \\bar{X}_{no\\ nap}$ using the formula below.\n",
    "\n",
    "$s.e.(\\bar{X}_{nap} - \\bar{X}_{no\\ nap}) = \\sqrt{\\frac{(n_1-1)s_1^2 + (n_2-1)s_2^2}{n_1+n_2-2}(\\frac{1}{n_1}+\\frac{1}{n_2})}$"
   ]
  },
  {
   "cell_type": "code",
   "execution_count": 66,
   "metadata": {
    "colab": {},
    "colab_type": "code",
    "id": "KZUAaqFYNDpF"
   },
   "outputs": [
    {
     "name": "stdout",
     "output_type": "stream",
     "text": [
      "17.77094313065816\n"
     ]
    }
   ],
   "source": [
    "n1 = len(nap_bedtime)\n",
    "n2 = len(no_nap_bedtime)\n",
    "pooled_se = np.sqrt(((((n1-1)*(nap_s_bedtime**2))+((n2-1)*(no_nap_s_bedtime**2)))/(n1+n2-2))*((1/n1)+(1/n2)))\n",
    "print(pooled_se)"
   ]
  },
  {
   "cell_type": "markdown",
   "metadata": {
    "colab_type": "text",
    "id": "63-jF9fmNDpI"
   },
   "source": [
    "**Question**: Given our sample size of $n$, how many degrees of freedom ($df$) are there for the associated $t$ distribution?"
   ]
  },
  {
   "cell_type": "markdown",
   "metadata": {
    "colab_type": "text",
    "id": "S3DC4b-iNDpI"
   },
   "source": [
    "Now calculate the $t$-test statistic for our first hypothesis test using  \n",
    "* pooled s.e.($\\bar{X}_{nap} - \\bar{X}_{no\\ nap}$)  \n",
    "* $\\bar{X}_{nap} - \\bar{X}_{no\\ nap}$  \n",
    "* $\\mu_{0,\\ nap} - \\mu_{0,\\ no\\ nap}=0$, the population difference in means under the null hypothesis"
   ]
  },
  {
   "cell_type": "code",
   "execution_count": 67,
   "metadata": {},
   "outputs": [
    {
     "name": "stdout",
     "output_type": "stream",
     "text": [
      "2.367160052079275\n"
     ]
    }
   ],
   "source": [
    "tstat = mean_diff/pooled_se\n",
    "print(tstat)"
   ]
  },
  {
   "cell_type": "markdown",
   "metadata": {
    "colab_type": "text",
    "id": "vpGx3jGXNDpJ"
   },
   "source": [
    "**Question**: What is the p-value for the first hypothesis test?"
   ]
  },
  {
   "cell_type": "markdown",
   "metadata": {
    "colab_type": "text",
    "id": "YSys0xG3NDpK"
   },
   "source": [
    "To find the p-value, we can use the function:\n",
    "```\n",
    "t.cdf(y, df)\n",
    "```\n",
    "Which for $X \\sim t(df)$ returns $P(X \\leq y)$.\n",
    "\n",
    "Because of the symmetry of the $t$ distrubution, we have that \n",
    "```\n",
    "1-t.cdf(y, df)\n",
    "```\n",
    "returns $P(X > y)$\n",
    "\n",
    "The function t.cdf(y, df) will give you the same value as finding the one-tailed probability of y on a t-table with the specified degrees of freedom.\n",
    "\n",
    "Use the function t.cdf(y, df) to find the p-value for the first hypothesis test."
   ]
  },
  {
   "cell_type": "code",
   "execution_count": 68,
   "metadata": {
    "colab": {},
    "colab_type": "code",
    "id": "onJwGMApNDpM"
   },
   "outputs": [
    {
     "name": "stdout",
     "output_type": "stream",
     "text": [
      "0.014667451430902756\n"
     ]
    }
   ],
   "source": [
    "pvalue = 1-t.cdf(tstat,18)\n",
    "print(pvalue)"
   ]
  },
  {
   "cell_type": "markdown",
   "metadata": {
    "colab_type": "text",
    "id": "ObOjGXrTNDpP"
   },
   "source": [
    "**Question**: What are the t-statistic and p-value for the second hypothesis test?\n",
    "\n",
    "Calculate the $t$ test statistics and corresponding p-value using the scipy function scipy.stats.ttest_ind(a, b, equal_var=True) and check with your answer. \n",
    "\n",
    "**Question**: Does scipy.stats.ttest_ind return values for a one-sided or two-sided test?\n",
    "\n",
    "**Question**: Can you think of a way to recover the results you got using 1-t.cdf from the p-value given by scipy.stats.ttest_ind?\n",
    "\n",
    "Use the scipy function scipy.stats.ttest_ind(a, b, equal_var=True) to find the $t$ test statistic and corresponding p-value for the second hypothesis test."
   ]
  },
  {
   "cell_type": "code",
   "execution_count": 81,
   "metadata": {
    "colab": {},
    "colab_type": "code",
    "id": "mOdFSpXoNDpQ"
   },
   "outputs": [
    {
     "name": "stdout",
     "output_type": "stream",
     "text": [
      "5     602.20\n",
      "6     618.40\n",
      "7     526.80\n",
      "8     626.80\n",
      "9     549.50\n",
      "10    655.20\n",
      "11    611.20\n",
      "12    611.80\n",
      "13    618.80\n",
      "14    548.00\n",
      "15    593.25\n",
      "16    649.80\n",
      "17    573.60\n",
      "18    693.40\n",
      "19    615.33\n",
      "Name: night sleep duration, dtype: float64\n",
      "0    629.4\n",
      "1    672.4\n",
      "2    628.8\n",
      "3    766.6\n",
      "4    678.0\n",
      "Name: night sleep duration, dtype: float64\n",
      "-2.8409428070482057\n",
      "0.01084088459007456\n"
     ]
    },
    {
     "data": {
      "text/plain": [
       "Ttest_indResult(statistic=-2.8409428070482057, pvalue=0.01084088459007456)"
      ]
     },
     "execution_count": 81,
     "metadata": {},
     "output_type": "execute_result"
    }
   ],
   "source": [
    "from scipy import stats\n",
    "\n",
    "nap_sleep_duration = df[df['napping'] == 1]['night sleep duration']\n",
    "no_nap_sleep_duration = df[df['napping'] == 0]['night sleep duration']\n",
    "\n",
    "print(nap_sleep_duration)\n",
    "print(no_nap_sleep_duration)\n",
    "\n",
    "nap_mean_sleep_duration = nap_sleep_duration.mean()\n",
    "no_nap_mean_sleep_duration = no_nap_sleep_duration.mean()\n",
    "mean_diff_sd = nap_mean_sleep_duration - no_nap_mean_sleep_duration\n",
    "\n",
    "nap_s_sleep_duration = nap_sleep_duration.std()\n",
    "no_nap_s_sleep_duration = no_nap_sleep_duration.std()\n",
    "\n",
    "n1 = len(nap_sleep_duration)\n",
    "n2 = len(no_nap_sleep_duration)\n",
    "pooled_se_sd = np.sqrt(((((n1-1)*(nap_s_sleep_duration**2))+((n2-1)*(no_nap_s_sleep_duration**2)))/(n1+n2-2))*((1/n1)+(1/n2)))\n",
    "\n",
    "tstat_sd = mean_diff_sd/pooled_se_sd\n",
    "pvalue_sd = (t.cdf(tstat_sd,18))*2\n",
    "print(tstat_sd)\n",
    "print(pvalue_sd)\n",
    "\n",
    "stats.ttest_ind(nap_sleep_duration, no_nap_sleep_duration)\n"
   ]
  },
  {
   "cell_type": "markdown",
   "metadata": {
    "colab_type": "text",
    "id": "ATF7D28TNDpW"
   },
   "source": [
    "**Question**: For the $\\alpha=.025$, do you reject or fail to reject the first hypothesis?\n",
    "\n",
    "**Question**: For the $\\alpha=.025$, do you reject or fail to reject the second hypothesis?"
   ]
  }
 ],
 "metadata": {
  "colab": {
   "collapsed_sections": [],
   "name": "Hypothesis testing assessment.ipynb",
   "provenance": [],
   "version": "0.3.2"
  },
  "kernelspec": {
   "display_name": "Python 3",
   "language": "python",
   "name": "python3"
  },
  "language_info": {
   "codemirror_mode": {
    "name": "ipython",
    "version": 3
   },
   "file_extension": ".py",
   "mimetype": "text/x-python",
   "name": "python",
   "nbconvert_exporter": "python",
   "pygments_lexer": "ipython3",
   "version": "3.7.9"
  }
 },
 "nbformat": 4,
 "nbformat_minor": 4
}
