{
 "cells": [
  {
   "cell_type": "markdown",
   "metadata": {},
   "source": [
    "# Practice notebook for confidence intervals using NHANES data\n",
    "\n",
    "This notebook will give you the opportunity to practice working with confidence intervals using the NHANES data.\n",
    "\n",
    "You can enter your code into the cells that say \"enter your code here\", and you can type responses to the questions into the cells that say \"Type Markdown and Latex\".\n",
    "\n",
    "Note that most of the code that you will need to write below is very similar to code that appears in the case study notebook.  You will need to edit code from that notebook in small ways to adapt it to the prompts below.\n",
    "\n",
    "To get started, we will use the same module imports and read the data in the same way as we did in the case study:"
   ]
  },
  {
   "cell_type": "code",
   "execution_count": 257,
   "metadata": {},
   "outputs": [],
   "source": [
    "%matplotlib inline\n",
    "import matplotlib.pyplot as plt\n",
    "import pandas as pd\n",
    "import numpy as np\n",
    "import seaborn as sns\n",
    "import statsmodels.api as sm\n",
    "\n",
    "da = pd.read_csv(\"\"\"..\\\\..\\\\nhanes_2015_2016.csv\"\"\")"
   ]
  },
  {
   "cell_type": "markdown",
   "metadata": {},
   "source": [
    "## Question 1\n",
    "\n",
    "Restrict the sample to women between 35 and 50, then use the marital status variable [DMDMARTL](https://wwwn.cdc.gov/Nchs/Nhanes/2015-2016/DEMO_I.htm#DMDMARTL) to partition this sample into two groups - women who are currently married, and women who are not currently married.  Within each of these groups, calculate the proportion of women who have completed college.  Calculate 95% confidence intervals for each of these proportions."
   ]
  },
  {
   "cell_type": "code",
   "execution_count": 258,
   "metadata": {},
   "outputs": [
    {
     "name": "stdout",
     "output_type": "stream",
     "text": [
      "Total na values:  12587 \n",
      " Original shape: : (5735, 35) \n",
      "\n",
      "Total na values:  0 \n",
      " After dropping na values shape: : (61, 35)\n"
     ]
    },
    {
     "data": {
      "text/html": [
       "<div>\n",
       "<style scoped>\n",
       "    .dataframe tbody tr th:only-of-type {\n",
       "        vertical-align: middle;\n",
       "    }\n",
       "\n",
       "    .dataframe tbody tr th {\n",
       "        vertical-align: top;\n",
       "    }\n",
       "\n",
       "    .dataframe thead th {\n",
       "        text-align: right;\n",
       "    }\n",
       "</style>\n",
       "<table border=\"1\" class=\"dataframe\">\n",
       "  <thead>\n",
       "    <tr style=\"text-align: right;\">\n",
       "      <th>DMDEDUC2x</th>\n",
       "      <th>9-11</th>\n",
       "      <th>College</th>\n",
       "      <th>HS/GED</th>\n",
       "      <th>Some college/AA</th>\n",
       "      <th>Total</th>\n",
       "      <th>College Proportion</th>\n",
       "      <th>std</th>\n",
       "      <th>lcb</th>\n",
       "      <th>ucb</th>\n",
       "    </tr>\n",
       "    <tr>\n",
       "      <th>DMDMARTLm</th>\n",
       "      <th></th>\n",
       "      <th></th>\n",
       "      <th></th>\n",
       "      <th></th>\n",
       "      <th></th>\n",
       "      <th></th>\n",
       "      <th></th>\n",
       "      <th></th>\n",
       "      <th></th>\n",
       "    </tr>\n",
       "  </thead>\n",
       "  <tbody>\n",
       "    <tr>\n",
       "      <th>Married</th>\n",
       "      <td>1</td>\n",
       "      <td>17</td>\n",
       "      <td>2</td>\n",
       "      <td>14</td>\n",
       "      <td>34.000</td>\n",
       "      <td>0.500</td>\n",
       "      <td>0.086</td>\n",
       "      <td>0.332</td>\n",
       "      <td>0.668</td>\n",
       "    </tr>\n",
       "    <tr>\n",
       "      <th>Not married</th>\n",
       "      <td>2</td>\n",
       "      <td>9</td>\n",
       "      <td>5</td>\n",
       "      <td>11</td>\n",
       "      <td>27.000</td>\n",
       "      <td>0.333</td>\n",
       "      <td>0.091</td>\n",
       "      <td>0.156</td>\n",
       "      <td>0.511</td>\n",
       "    </tr>\n",
       "  </tbody>\n",
       "</table>\n",
       "</div>"
      ],
      "text/plain": [
       "DMDEDUC2x    9-11  College  HS/GED  Some college/AA  Total  College Proportion   std   lcb   ucb\n",
       "DMDMARTLm                                                                                       \n",
       "Married         1       17       2               14 34.000               0.500 0.086 0.332 0.668\n",
       "Not married     2        9       5               11 27.000               0.333 0.091 0.156 0.511"
      ]
     },
     "execution_count": 258,
     "metadata": {},
     "output_type": "execute_result"
    }
   ],
   "source": [
    "# enter your code here\n",
    "da['DMDMARTLx'] = da['DMDMARTL'].replace({1: 'Married', 2:'Widowed', 3:'Divorced', 4:'Separated', 5:'Never married', 6:'Living with partner', 77:np.nan, 99:np.nan})\n",
    "\n",
    "da['DMDMARTLm'] = da['DMDMARTL'].replace(to_replace={2,3,4,5,6,77,99}, value=\"Not married\")\n",
    "da['DMDMARTLm'] = da['DMDMARTLm'].replace({1: 'Married'})\n",
    "       \n",
    "da['DMDEDUC2x'] = da['DMDEDUC2'].replace({1: \"<9\", 2: \"9-11\", 3: \"HS/GED\", 4: \"Some college/AA\", 5: \"College\", \n",
    "                                       7: \"Refused\", 9: \"Don't know\"})\n",
    "da['RIAGENDRx'] = da['RIAGENDR'].replace({1: \"Male\", 2: \"Female\"})\n",
    "\n",
    "da['SMQ020x'] = da['SMQ020'].replace({1:'Yes', 2:'No', 7:np.nan, 9:np.nan})\n",
    "\n",
    "da['agegrp'] = pd.cut(da['RIDAGEYR'],[15, 20, 25, 30, 35, 40, 45, 50, 55, 60, 65, 70, 75, 80])\n",
    "da['agegrp height'] = pd.cut(da['RIDAGEYR'],[18, 28, 38, 48, 58, 68, 80])\n",
    "\n",
    "print('Total na values: ',da.isnull().sum().sum(),'\\n','Original shape: :',da.shape,'\\n')\n",
    "\n",
    "dw = da[((da['RIDAGEYR'] >= 35) & (da['RIDAGEYR'] <= 50)) & (da['RIAGENDRx'] == 'Female')].dropna()\n",
    "dwg = dw.groupby(['DMDMARTLm'])['DMDEDUC2x'].value_counts().unstack()\n",
    "\n",
    "dwg.loc['Married','Total'] = np.sum(dwg.loc['Married'])\n",
    "dwg.loc['Not married','Total'] = np.sum(dwg.loc['Not married'])\n",
    "\n",
    "dwg.loc['Married','College Proportion'] = dwg.loc['Married','College']/dwg.loc['Married','Total']\n",
    "dwg.loc['Not married','College Proportion'] = dwg.loc['Not married','College']/dwg.loc['Not married','Total']\n",
    "dwg.loc['Married','std'] = np.sqrt((dwg.loc['Married','College Proportion'] *(1-dwg.loc['Married','College Proportion'] ))/dwg.loc['Married','Total'])\n",
    "dwg.loc['Not married','std'] = np.sqrt((dwg.loc['Not married','College Proportion'] *(1-dwg.loc['Not married','College Proportion'] ))/dwg.loc['Not married','Total'])\n",
    "\n",
    "dwg['lcb'] = dwg.loc[:, 'College Proportion'] - (1.96 * dwg.loc[:, 'std'])\n",
    "dwg['ucb'] = dwg.loc[:, 'College Proportion'] + (1.96 * dwg.loc[:, 'std'])\n",
    "print('Total na values: ',dw.isnull().sum().sum(),'\\n','After dropping na values shape: :',dw.shape)\n",
    "pd.set_option('display.float_format','{:.3f}'.format)\n",
    "pd.set_option('display.width',120)\n",
    "dwg\n",
    "#pd.reset_option('display.float_format')\n"
   ]
  },
  {
   "cell_type": "markdown",
   "metadata": {},
   "source": [
    "__Q1a.__ Identify which of the two confidence intervals is wider, and explain why this is the case. "
   ]
  },
  {
   "cell_type": "markdown",
   "metadata": {},
   "source": [
    "The confidence interval of the not married female is wider as the standard error is larger than the one from the married group. The distribution in the Married group is concentrated around the females that went to college"
   ]
  },
  {
   "cell_type": "markdown",
   "metadata": {},
   "source": [
    "__Q1b.__ Write 1-2 sentences summarizing these findings for an audience that does not know what a confidence interval is (the goal here is to report the substance of what you learned about how marital status and educational attainment are related, not to teach a person what a confidence interval is)."
   ]
  },
  {
   "cell_type": "markdown",
   "metadata": {},
   "source": [
    "With 95% confidence with a sample of 34 women  we can say that the population proportion of married women who have terminated college lies between 33% and 66%.\n",
    "With 95% confidence with a sample of 27 women  we can say that the population proportion of not married women who have terminated college lies between 15% and 51%."
   ]
  },
  {
   "cell_type": "markdown",
   "metadata": {},
   "source": [
    "## Question 2\n",
    "\n",
    "Construct a 95% confidence interval for the proportion of smokers who are female. Construct a 95% confidence interval for the proportion of smokers who are male. Construct a 95% confidence interval for the **difference** between those two gender proportions."
   ]
  },
  {
   "cell_type": "code",
   "execution_count": 259,
   "metadata": {},
   "outputs": [
    {
     "data": {
      "text/html": [
       "<div>\n",
       "<style scoped>\n",
       "    .dataframe tbody tr th:only-of-type {\n",
       "        vertical-align: middle;\n",
       "    }\n",
       "\n",
       "    .dataframe tbody tr th {\n",
       "        vertical-align: top;\n",
       "    }\n",
       "\n",
       "    .dataframe thead th {\n",
       "        text-align: right;\n",
       "    }\n",
       "</style>\n",
       "<table border=\"1\" class=\"dataframe\">\n",
       "  <thead>\n",
       "    <tr style=\"text-align: right;\">\n",
       "      <th>SMQ020x</th>\n",
       "      <th>No</th>\n",
       "      <th>Yes</th>\n",
       "      <th>Total</th>\n",
       "      <th>Yes Proportion</th>\n",
       "      <th>Std error</th>\n",
       "      <th>lcb</th>\n",
       "      <th>ucb</th>\n",
       "    </tr>\n",
       "    <tr>\n",
       "      <th>RIAGENDRx</th>\n",
       "      <th></th>\n",
       "      <th></th>\n",
       "      <th></th>\n",
       "      <th></th>\n",
       "      <th></th>\n",
       "      <th></th>\n",
       "      <th></th>\n",
       "    </tr>\n",
       "  </thead>\n",
       "  <tbody>\n",
       "    <tr>\n",
       "      <th>Female</th>\n",
       "      <td>2066.000</td>\n",
       "      <td>906.000</td>\n",
       "      <td>2972.000</td>\n",
       "      <td>0.305</td>\n",
       "      <td>0.008</td>\n",
       "      <td>0.288</td>\n",
       "      <td>0.321</td>\n",
       "    </tr>\n",
       "    <tr>\n",
       "      <th>Male</th>\n",
       "      <td>1340.000</td>\n",
       "      <td>1413.000</td>\n",
       "      <td>2753.000</td>\n",
       "      <td>0.513</td>\n",
       "      <td>0.010</td>\n",
       "      <td>0.495</td>\n",
       "      <td>0.532</td>\n",
       "    </tr>\n",
       "    <tr>\n",
       "      <th>Difference</th>\n",
       "      <td>NaN</td>\n",
       "      <td>NaN</td>\n",
       "      <td>NaN</td>\n",
       "      <td>-0.208</td>\n",
       "      <td>0.013</td>\n",
       "      <td>-0.233</td>\n",
       "      <td>-0.183</td>\n",
       "    </tr>\n",
       "  </tbody>\n",
       "</table>\n",
       "</div>"
      ],
      "text/plain": [
       "SMQ020x          No      Yes    Total  Yes Proportion  Std error    lcb    ucb\n",
       "RIAGENDRx                                                                     \n",
       "Female     2066.000  906.000 2972.000           0.305      0.008  0.288  0.321\n",
       "Male       1340.000 1413.000 2753.000           0.513      0.010  0.495  0.532\n",
       "Difference      NaN      NaN      NaN          -0.208      0.013 -0.233 -0.183"
      ]
     },
     "execution_count": 259,
     "metadata": {},
     "output_type": "execute_result"
    }
   ],
   "source": [
    "# enter your code here\n",
    "\n",
    "dsg = da.groupby(['RIAGENDRx'])['SMQ020x'].value_counts().unstack()\n",
    "dsg\n",
    "dsg.loc['Female', 'Total'] = np.sum(dsg.loc['Female'])\n",
    "dsg.loc['Male', 'Total'] = np.sum(dsg.loc['Male'])\n",
    "\n",
    "dsg['Yes Proportion'] = dsg['Yes']/dsg['Total']\n",
    "dsg['Std error'] = np.sqrt((dsg['Yes Proportion']*(1-dsg['Yes Proportion']))/dsg['Total'])\n",
    "\n",
    "dsg.loc['Difference','Yes Proportion'] = dsg.loc['Female','Yes Proportion'] - dsg.loc['Male','Yes Proportion']\n",
    "dsg.loc['Difference','Std error'] = np.sqrt(dsg.loc['Female','Std error']**2 + dsg.loc['Male','Std error']**2)\n",
    "\n",
    "dsg['lcb'] = dsg['Yes Proportion'] - (1.96 * dsg['Std error'])\n",
    "dsg['ucb'] = dsg['Yes Proportion'] + (1.96 * dsg['Std error'])\n",
    "\n",
    "dsg"
   ]
  },
  {
   "cell_type": "markdown",
   "metadata": {},
   "source": [
    "__Q2a.__ Why might it be relevant to report the separate gender proportions **and** the difference between the gender proportions?"
   ]
  },
  {
   "cell_type": "markdown",
   "metadata": {},
   "source": [
    "The proportion of females that smoke is 20% less than the male that smoke.\n",
    "The standard error from the female population is also slightly smaller than the one from the male population. Although both standard errors are relatively small. This is due to the fact that the samples are quite big.\n",
    "With 95% confidence we can say that the difference between female proportion that smoke and the male proportion that smoke is within -.23 and -.183 using a combined sample of more than 5K~. It is unlikely that the difference in the populations proportion is zero as this is not a number in the confidence interval"
   ]
  },
  {
   "cell_type": "markdown",
   "metadata": {},
   "source": [
    "__Q2b.__ How does the **width** of the confidence interval for the difference between the gender proportions compare to the widths of the confidence intervals for the separate gender proportions?"
   ]
  },
  {
   "cell_type": "markdown",
   "metadata": {},
   "source": [
    "The width of the confidence interval of the original proportions is bigger than the confidence interval of the difference of the proportions. That is because we are taking into account the standard errors of the original proportions."
   ]
  },
  {
   "cell_type": "markdown",
   "metadata": {},
   "source": [
    "## Question 3\n",
    "\n",
    "Construct a 95% interval for height ([BMXHT](https://wwwn.cdc.gov/Nchs/Nhanes/2015-2016/BMX_I.htm#BMXHT)) in centimeters.  Then convert height from centimeters to inches by dividing by 2.54, and construct a 95% confidence interval for height in inches.  Finally, convert the endpoints (the lower and upper confidence limits) of the confidence interval from inches to back to centimeters   "
   ]
  },
  {
   "cell_type": "code",
   "execution_count": 260,
   "metadata": {},
   "outputs": [
    {
     "data": {
      "text/plain": [
       "count    5673.000\n",
       "mean       65.411\n",
       "std         3.968\n",
       "min        51.063\n",
       "25%        62.480\n",
       "50%        65.354\n",
       "75%        68.307\n",
       "max        79.803\n",
       "lcb cm     65.307\n",
       "ucb cm     65.514\n",
       "lcb in    165.881\n",
       "ucb in    166.405\n",
       "Name: BMXHT, dtype: float64"
      ]
     },
     "execution_count": 260,
     "metadata": {},
     "output_type": "execute_result"
    }
   ],
   "source": [
    "# enter your code here\n",
    "da['BMXHT'].isnull().sum()\n",
    "dh = da['BMXHT'].dropna() / 2.54\n",
    "dhg = dh.describe()\n",
    "dhg['lcb cm'] = dhg['mean']-(1.96 * (dhg['std']/np.sqrt(dhg['count'])))\n",
    "dhg['ucb cm'] = dhg['mean']+(1.96 * (dhg['std']/np.sqrt(dhg['count'])))\n",
    "dhg['lcb in'] = dhg['lcb cm']*2.54\n",
    "dhg['ucb in'] = dhg['ucb cm']*2.54\n",
    "\n",
    "dhg"
   ]
  },
  {
   "cell_type": "markdown",
   "metadata": {},
   "source": [
    "__Q3a.__ Describe how the confidence interval constructed in centimeters relates to the confidence interval constructed in inches."
   ]
  },
  {
   "cell_type": "markdown",
   "metadata": {},
   "source": [
    "The confidence interval constructed in centimeters is only escalated when converted to inches however the width is exactly the same."
   ]
  },
  {
   "cell_type": "markdown",
   "metadata": {},
   "source": [
    "## Question 4\n",
    "\n",
    "Partition the sample based on 10-year age bands, i.e. the resulting groups will consist of people with ages from 18-28, 29-38, etc. Construct 95% confidence intervals for the difference between the mean BMI for females and for males within each age band."
   ]
  },
  {
   "cell_type": "code",
   "execution_count": 261,
   "metadata": {},
   "outputs": [
    {
     "data": {
      "text/html": [
       "<div>\n",
       "<style scoped>\n",
       "    .dataframe tbody tr th:only-of-type {\n",
       "        vertical-align: middle;\n",
       "    }\n",
       "\n",
       "    .dataframe tbody tr th {\n",
       "        vertical-align: top;\n",
       "    }\n",
       "\n",
       "    .dataframe thead th {\n",
       "        text-align: right;\n",
       "    }\n",
       "</style>\n",
       "<table border=\"1\" class=\"dataframe\">\n",
       "  <thead>\n",
       "    <tr style=\"text-align: right;\">\n",
       "      <th></th>\n",
       "      <th>mean_diff</th>\n",
       "      <th>std error</th>\n",
       "      <th>lcb</th>\n",
       "      <th>ucb</th>\n",
       "    </tr>\n",
       "    <tr>\n",
       "      <th>agegrp height</th>\n",
       "      <th></th>\n",
       "      <th></th>\n",
       "      <th></th>\n",
       "      <th></th>\n",
       "    </tr>\n",
       "  </thead>\n",
       "  <tbody>\n",
       "    <tr>\n",
       "      <th>(18, 28]</th>\n",
       "      <td>0.961</td>\n",
       "      <td>0.479</td>\n",
       "      <td>0.022</td>\n",
       "      <td>1.901</td>\n",
       "    </tr>\n",
       "    <tr>\n",
       "      <th>(28, 38]</th>\n",
       "      <td>0.246</td>\n",
       "      <td>0.477</td>\n",
       "      <td>-0.690</td>\n",
       "      <td>1.182</td>\n",
       "    </tr>\n",
       "    <tr>\n",
       "      <th>(38, 48]</th>\n",
       "      <td>1.489</td>\n",
       "      <td>0.470</td>\n",
       "      <td>0.567</td>\n",
       "      <td>2.411</td>\n",
       "    </tr>\n",
       "    <tr>\n",
       "      <th>(48, 58]</th>\n",
       "      <td>1.402</td>\n",
       "      <td>0.469</td>\n",
       "      <td>0.482</td>\n",
       "      <td>2.322</td>\n",
       "    </tr>\n",
       "    <tr>\n",
       "      <th>(58, 68]</th>\n",
       "      <td>1.822</td>\n",
       "      <td>0.457</td>\n",
       "      <td>0.927</td>\n",
       "      <td>2.717</td>\n",
       "    </tr>\n",
       "    <tr>\n",
       "      <th>(68, 80]</th>\n",
       "      <td>1.157</td>\n",
       "      <td>0.378</td>\n",
       "      <td>0.416</td>\n",
       "      <td>1.898</td>\n",
       "    </tr>\n",
       "  </tbody>\n",
       "</table>\n",
       "</div>"
      ],
      "text/plain": [
       "               mean_diff  std error    lcb   ucb\n",
       "agegrp height                                   \n",
       "(18, 28]           0.961      0.479  0.022 1.901\n",
       "(28, 38]           0.246      0.477 -0.690 1.182\n",
       "(38, 48]           1.489      0.470  0.567 2.411\n",
       "(48, 58]           1.402      0.469  0.482 2.322\n",
       "(58, 68]           1.822      0.457  0.927 2.717\n",
       "(68, 80]           1.157      0.378  0.416 1.898"
      ]
     },
     "execution_count": 261,
     "metadata": {},
     "output_type": "execute_result"
    }
   ],
   "source": [
    "# enter your code here\n",
    "dbg = da.groupby(['RIAGENDRx','agegrp height'])['BMXBMI'].agg(['count', 'mean', np.std])\n",
    "dbg['std error'] = dbg['std']/np.sqrt(dbg['count'])\n",
    "dbg_diff = dbg.loc['Female','mean'] - dbg.loc['Male','mean']\n",
    "dbg_diff = pd.DataFrame(data=dbg_diff)\n",
    "dbg_diff.columns=['mean_diff']\n",
    "dbg_diff['std error'] = np.sqrt(dbg.loc['Female','std error']**2 + dbg.loc['Male','std error']**2)\n",
    "dbg_diff['lcb'] = dbg_diff['mean_diff']-(1.96 * dbg_diff['std error'])\n",
    "dbg_diff['ucb'] = dbg_diff['mean_diff']+(1.96 * dbg_diff['std error'])\n",
    "dbg_diff"
   ]
  },
  {
   "cell_type": "markdown",
   "metadata": {},
   "source": [
    "__Q4a.__ How do the widths of these confidence intervals differ?  Provide an explanation for any substantial diferences in the confidence interval widths that you see."
   ]
  },
  {
   "cell_type": "markdown",
   "metadata": {},
   "source": [
    "The difference depends on the standard error, the higher the std error is the wider the interval would be."
   ]
  },
  {
   "cell_type": "markdown",
   "metadata": {},
   "source": [
    "## Question 5\n",
    "\n",
    "Construct a 95% confidence interval for the first and second systolic blood pressure measures, and for the difference between the first and second systolic blood pressure measurements within a subject."
   ]
  },
  {
   "cell_type": "code",
   "execution_count": 263,
   "metadata": {},
   "outputs": [
    {
     "data": {
      "text/html": [
       "<div>\n",
       "<style scoped>\n",
       "    .dataframe tbody tr th:only-of-type {\n",
       "        vertical-align: middle;\n",
       "    }\n",
       "\n",
       "    .dataframe tbody tr th {\n",
       "        vertical-align: top;\n",
       "    }\n",
       "\n",
       "    .dataframe thead th {\n",
       "        text-align: right;\n",
       "    }\n",
       "</style>\n",
       "<table border=\"1\" class=\"dataframe\">\n",
       "  <thead>\n",
       "    <tr style=\"text-align: right;\">\n",
       "      <th></th>\n",
       "      <th>BPXSY1</th>\n",
       "      <th>BPXSY2</th>\n",
       "      <th>Difference</th>\n",
       "    </tr>\n",
       "  </thead>\n",
       "  <tbody>\n",
       "    <tr>\n",
       "      <th>count</th>\n",
       "      <td>5369.000</td>\n",
       "      <td>5369.000</td>\n",
       "      <td>NaN</td>\n",
       "    </tr>\n",
       "    <tr>\n",
       "      <th>mean</th>\n",
       "      <td>125.088</td>\n",
       "      <td>124.413</td>\n",
       "      <td>0.675</td>\n",
       "    </tr>\n",
       "    <tr>\n",
       "      <th>std</th>\n",
       "      <td>18.494</td>\n",
       "      <td>18.192</td>\n",
       "      <td>NaN</td>\n",
       "    </tr>\n",
       "    <tr>\n",
       "      <th>min</th>\n",
       "      <td>84.000</td>\n",
       "      <td>84.000</td>\n",
       "      <td>NaN</td>\n",
       "    </tr>\n",
       "    <tr>\n",
       "      <th>25%</th>\n",
       "      <td>112.000</td>\n",
       "      <td>112.000</td>\n",
       "      <td>NaN</td>\n",
       "    </tr>\n",
       "    <tr>\n",
       "      <th>50%</th>\n",
       "      <td>122.000</td>\n",
       "      <td>122.000</td>\n",
       "      <td>NaN</td>\n",
       "    </tr>\n",
       "    <tr>\n",
       "      <th>75%</th>\n",
       "      <td>134.000</td>\n",
       "      <td>134.000</td>\n",
       "      <td>NaN</td>\n",
       "    </tr>\n",
       "    <tr>\n",
       "      <th>max</th>\n",
       "      <td>236.000</td>\n",
       "      <td>238.000</td>\n",
       "      <td>NaN</td>\n",
       "    </tr>\n",
       "    <tr>\n",
       "      <th>std error</th>\n",
       "      <td>0.252</td>\n",
       "      <td>0.248</td>\n",
       "      <td>0.354</td>\n",
       "    </tr>\n",
       "    <tr>\n",
       "      <th>lcb</th>\n",
       "      <td>124.594</td>\n",
       "      <td>123.927</td>\n",
       "      <td>-0.019</td>\n",
       "    </tr>\n",
       "    <tr>\n",
       "      <th>ucb</th>\n",
       "      <td>125.583</td>\n",
       "      <td>124.900</td>\n",
       "      <td>1.369</td>\n",
       "    </tr>\n",
       "  </tbody>\n",
       "</table>\n",
       "</div>"
      ],
      "text/plain": [
       "            BPXSY1   BPXSY2  Difference\n",
       "count     5369.000 5369.000         NaN\n",
       "mean       125.088  124.413       0.675\n",
       "std         18.494   18.192         NaN\n",
       "min         84.000   84.000         NaN\n",
       "25%        112.000  112.000         NaN\n",
       "50%        122.000  122.000         NaN\n",
       "75%        134.000  134.000         NaN\n",
       "max        236.000  238.000         NaN\n",
       "std error    0.252    0.248       0.354\n",
       "lcb        124.594  123.927      -0.019\n",
       "ucb        125.583  124.900       1.369"
      ]
     },
     "execution_count": 263,
     "metadata": {},
     "output_type": "execute_result"
    }
   ],
   "source": [
    "# enter code here\n",
    "dsp = da[['BPXSY1','BPXSY2']].dropna()\n",
    "dspg = dsp.describe()\n",
    "dspg.loc['mean','Difference'] = dspg.loc['mean','BPXSY1'] - dspg.loc['mean','BPXSY2']\n",
    "dspg.loc['std error'] = dspg.loc['std']/np.sqrt(dspg.loc['count'])\n",
    "dspg.loc['std error','Difference'] = np.sqrt(dspg.loc['std error','BPXSY1']**2 + dspg.loc['std error','BPXSY2']**2)\n",
    "dspg.loc['lcb'] = dspg.loc['mean']-(1.96 * dspg.loc['std error'])\n",
    "dspg.loc['ucb'] = dspg.loc['mean']+(1.96 * dspg.loc['std error'])\n",
    "dspg"
   ]
  },
  {
   "cell_type": "markdown",
   "metadata": {},
   "source": [
    "__Q5a.__ Based on these confidence intervals, would you say that a difference of zero between the population mean values of the first and second systolic blood pressure measures is consistent with the data?"
   ]
  },
  {
   "cell_type": "markdown",
   "metadata": {},
   "source": [
    "Yes it is, the confidence interval for the systolic blood pressure on the first and second measurement are quite close to each other. This is reflected in the difference confidence interval which has the value of zero. It is quite likely that the difference in means is actually zero as 0 is part of the confidence interval"
   ]
  },
  {
   "cell_type": "markdown",
   "metadata": {},
   "source": [
    "__Q5b.__ Discuss how the width of the confidence interval for the within-subject difference compares to the widths of the confidence intervals for the first and second measures."
   ]
  },
  {
   "cell_type": "markdown",
   "metadata": {},
   "source": [
    "The width of thhe difference confidence interval is wider than the confidence intervals from each systolic blood pressure as is dependent on the combined standard errors of both measures."
   ]
  },
  {
   "cell_type": "markdown",
   "metadata": {},
   "source": [
    "## Question 6\n",
    "\n",
    "Construct a 95% confidence interval for the mean difference between the average age of a smoker, and the average age of a non-smoker."
   ]
  },
  {
   "cell_type": "code",
   "execution_count": 279,
   "metadata": {},
   "outputs": [
    {
     "data": {
      "text/html": [
       "<div>\n",
       "<style scoped>\n",
       "    .dataframe tbody tr th:only-of-type {\n",
       "        vertical-align: middle;\n",
       "    }\n",
       "\n",
       "    .dataframe tbody tr th {\n",
       "        vertical-align: top;\n",
       "    }\n",
       "\n",
       "    .dataframe thead th {\n",
       "        text-align: right;\n",
       "    }\n",
       "</style>\n",
       "<table border=\"1\" class=\"dataframe\">\n",
       "  <thead>\n",
       "    <tr style=\"text-align: right;\">\n",
       "      <th></th>\n",
       "      <th>count</th>\n",
       "      <th>age mean</th>\n",
       "      <th>age std</th>\n",
       "      <th>age std error</th>\n",
       "      <th>lcb</th>\n",
       "      <th>ucb</th>\n",
       "    </tr>\n",
       "    <tr>\n",
       "      <th>SMQ020x</th>\n",
       "      <th></th>\n",
       "      <th></th>\n",
       "      <th></th>\n",
       "      <th></th>\n",
       "      <th></th>\n",
       "      <th></th>\n",
       "    </tr>\n",
       "  </thead>\n",
       "  <tbody>\n",
       "    <tr>\n",
       "      <th>No</th>\n",
       "      <td>3406.000</td>\n",
       "      <td>45.260</td>\n",
       "      <td>18.543</td>\n",
       "      <td>0.318</td>\n",
       "      <td>44.637</td>\n",
       "      <td>45.883</td>\n",
       "    </tr>\n",
       "    <tr>\n",
       "      <th>Yes</th>\n",
       "      <td>2319.000</td>\n",
       "      <td>52.097</td>\n",
       "      <td>17.461</td>\n",
       "      <td>0.363</td>\n",
       "      <td>51.386</td>\n",
       "      <td>52.807</td>\n",
       "    </tr>\n",
       "    <tr>\n",
       "      <th>difference</th>\n",
       "      <td>NaN</td>\n",
       "      <td>-6.837</td>\n",
       "      <td>NaN</td>\n",
       "      <td>0.681</td>\n",
       "      <td>-8.171</td>\n",
       "      <td>-5.502</td>\n",
       "    </tr>\n",
       "  </tbody>\n",
       "</table>\n",
       "</div>"
      ],
      "text/plain": [
       "              count  age mean  age std  age std error    lcb    ucb\n",
       "SMQ020x                                                            \n",
       "No         3406.000    45.260   18.543          0.318 44.637 45.883\n",
       "Yes        2319.000    52.097   17.461          0.363 51.386 52.807\n",
       "difference      NaN    -6.837      NaN          0.681 -8.171 -5.502"
      ]
     },
     "execution_count": 279,
     "metadata": {},
     "output_type": "execute_result"
    }
   ],
   "source": [
    "# insert your code here\n",
    "dsag = da.groupby(['SMQ020x'])['RIDAGEYR'].agg(['count', 'mean', np.std])\n",
    "dsag = dsag.rename(columns={\"mean\": \"age mean\", \"std\": \"age std\"})\n",
    "dsag['age std error'] = dsag['age std']/np.sqrt(dsag['count'])\n",
    "dsag.loc['difference','age mean'] = dsag.loc['No','age mean'] - dsag.loc['Yes','age mean'] \n",
    "dsag.loc['difference','age std error'] = np.sqrt(dsag.loc['No','age std error']**2 + dsag.loc['Yes','age std error'])\n",
    "dsag['lcb'] = dsag['age mean'] - (1.96 * dsag['age std error'])\n",
    "dsag['ucb'] = dsag['age mean'] + (1.96 * dsag['age std error'])\n",
    "dsag"
   ]
  },
  {
   "cell_type": "markdown",
   "metadata": {},
   "source": [
    "__Q6a.__ Use graphical and numerical techniques to compare the variation in the ages of smokers to the variation in the ages of non-smokers.  "
   ]
  },
  {
   "cell_type": "code",
   "execution_count": 274,
   "metadata": {},
   "outputs": [
    {
     "data": {
      "image/png": "[encoded data removed]",
      "text/plain": [
       "<Figure size 432x288 with 1 Axes>"
      ]
     },
     "metadata": {
      "needs_background": "light"
     },
     "output_type": "display_data"
    },
    {
     "data": {
      "image/png": "[encoded data removed]",
      "text/plain": [
       "<Figure size 432x288 with 1 Axes>"
      ]
     },
     "metadata": {
      "needs_background": "light"
     },
     "output_type": "display_data"
    }
   ],
   "source": [
    "# insert your code here\n",
    "plt.figure(figsize=(6, 4))\n",
    "a = sns.boxplot(x=da[\"SMQ020x\"], y=da[\"RIDAGEYR\"])\n",
    "plt.show()\n",
    "b = sns.violinplot(x=da[\"SMQ020x\"], y=da[\"RIDAGEYR\"])"
   ]
  },
  {
   "cell_type": "markdown",
   "metadata": {},
   "source": [
    "__Q6b.__ Does it appear that uncertainty about the mean age of smokers, or uncertainty about the mean age of non-smokers contributed more to the uncertainty for the mean difference that we are focusing on here?"
   ]
  },
  {
   "cell_type": "markdown",
   "metadata": {},
   "source": [
    "It appears that the uncertainty about the somkers mean contributed more the width of the confidence interval of the difference"
   ]
  }
 ],
 "metadata": {
  "kernelspec": {
   "display_name": "Python 3 (ipykernel)",
   "language": "python",
   "name": "python3"
  },
  "language_info": {
   "codemirror_mode": {
    "name": "ipython",
    "version": 3
   },
   "file_extension": ".py",
   "mimetype": "text/x-python",
   "name": "python",
   "nbconvert_exporter": "python",
   "pygments_lexer": "ipython3",
   "version": "3.8.11"
  }
 },
 "nbformat": 4,
 "nbformat_minor": 4
}
