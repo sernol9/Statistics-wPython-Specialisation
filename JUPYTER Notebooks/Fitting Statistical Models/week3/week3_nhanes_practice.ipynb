{
 "cells": [
  {
   "cell_type": "markdown",
   "metadata": {},
   "source": [
    "# Practice notebook for regression analysis with dependent data in NHANES\n",
    "\n",
    "This notebook will give you the opportunity to perform some analyses\n",
    "using the regression methods for dependent data that we are focusing\n",
    "on in this week of the course.\n",
    "\n",
    "Enter the code in response to each question in the boxes labeled \"enter your code here\".\n",
    "Then enter your responses to the questions in the boxes labeled \"Type\n",
    "Markdown and Latex\".\n",
    "\n",
    "This notebook is based on the NHANES case study notebook for\n",
    "regression with dependent data.  Most of the code that you will need\n",
    "to write below is very similar to code that appears in the case study\n",
    "notebook.  You will need to edit code from that notebook in small ways\n",
    "to adapt it to the prompts below.\n",
    "\n",
    "To get started, we will use the same module imports and read the data\n",
    "in the same way as we did in the case study:"
   ]
  },
  {
   "cell_type": "code",
   "execution_count": 9,
   "metadata": {},
   "outputs": [],
   "source": [
    "%matplotlib inline\n",
    "import matplotlib.pyplot as plt\n",
    "import seaborn as sns\n",
    "import pandas as pd\n",
    "import statsmodels.api as sm\n",
    "import numpy as np\n",
    "from IPython.display import display, HTML # for pretty printing\n",
    "\n",
    "url = \"..\\..\\\\nhanes_2015_2016.csv\"\n",
    "da = pd.read_csv(url)\n",
    "\n",
    "# Drop unused columns, drop rows with any missing values.\n",
    "vars = [\"BPXSY1\", \"RIDAGEYR\", \"RIAGENDR\", \"RIDRETH1\", \"DMDEDUC2\", \"BMXBMI\",\n",
    "        \"SMQ020\", \"SDMVSTRA\", \"SDMVPSU\", 'BPXDI1']\n",
    "da = da.dropna(subset = vars)\n",
    "\n",
    "da['RIAGENDRx']= da['RIAGENDR'].replace({1:'Male', 2:'Female'})\n",
    "# This is the grouping variable\n",
    "da[\"group\"] = 10*da['SDMVSTRA'] + da['SDMVPSU']"
   ]
  },
  {
   "cell_type": "markdown",
   "metadata": {},
   "source": [
    "## Question 1: \n",
    "\n",
    "Build a marginal linear model using GEE for the first measurement of diastolic blood pressure (`BPXDI1`), accounting for the grouping variable defined above.  This initial model should have no covariates, and will be used to assess the ICC of this blood pressure measure."
   ]
  },
  {
   "cell_type": "code",
   "execution_count": 10,
   "metadata": {},
   "outputs": [
    {
     "name": "stdout",
     "output_type": "stream",
     "text": [
      "BPXDI1 The correlation between two observations in the same cluster is 0.031\n",
      "BPXSY1 The correlation between two observations in the same cluster is 0.030\n"
     ]
    }
   ],
   "source": [
    "# enter your code here\n",
    "model_DI = sm.GEE.from_formula(\"BPXDI1 ~ 1\", groups=\"group\",\n",
    "           cov_struct=sm.cov_struct.Exchangeable(), data=da)\n",
    "result_DI = model_DI.fit()\n",
    "print('BPXDI1',result_DI.cov_struct.summary())\n",
    "\n",
    "model_SY = sm.GEE.from_formula(\"BPXSY1 ~ 1\", groups=\"group\",\n",
    "           cov_struct=sm.cov_struct.Exchangeable(), data=da)\n",
    "result_SY = model_SY.fit()\n",
    "print('BPXSY1', result_SY.cov_struct.summary())"
   ]
  },
  {
   "cell_type": "markdown",
   "metadata": {},
   "source": [
    "__Q1a.__ What is the ICC for diastolic blood pressure?  What can you\n",
    "  conclude by comparing it to the ICC for systolic blood pressure?"
   ]
  },
  {
   "cell_type": "markdown",
   "metadata": {},
   "source": [
    "The ICC for BPXDI1 is .031 which is exactly the same for BPXSY1"
   ]
  },
  {
   "cell_type": "markdown",
   "metadata": {},
   "source": [
    "## Question 2: \n",
    "\n",
    "Take your model from question 1, and add gender, age, and BMI to it as covariates."
   ]
  },
  {
   "cell_type": "code",
   "execution_count": 11,
   "metadata": {},
   "outputs": [
    {
     "name": "stdout",
     "output_type": "stream",
     "text": [
      "BPXDI1 ~ BMXBMI + RIDAGEYR + C(RIAGENDRx) The correlation between two observations in the same cluster is 0.030\n"
     ]
    },
    {
     "data": {
      "text/html": [
       "<table class=\"simpletable\">\n",
       "<caption>GEE Regression Results</caption>\n",
       "<tr>\n",
       "  <th>Dep. Variable:</th>               <td>BPXDI1</td>        <th>  No. Observations:  </th>   <td>5102</td>  \n",
       "</tr>\n",
       "<tr>\n",
       "  <th>Model:</th>                         <td>GEE</td>         <th>  No. clusters:      </th>    <td>30</td>   \n",
       "</tr>\n",
       "<tr>\n",
       "  <th>Method:</th>                    <td>Generalized</td>     <th>  Min. cluster size: </th>    <td>106</td>  \n",
       "</tr>\n",
       "<tr>\n",
       "  <th></th>                      <td>Estimating Equations</td> <th>  Max. cluster size: </th>    <td>226</td>  \n",
       "</tr>\n",
       "<tr>\n",
       "  <th>Family:</th>                     <td>Gaussian</td>       <th>  Mean cluster size: </th>   <td>170.1</td> \n",
       "</tr>\n",
       "<tr>\n",
       "  <th>Dependence structure:</th>     <td>Exchangeable</td>     <th>  Num. iterations:   </th>     <td>7</td>   \n",
       "</tr>\n",
       "<tr>\n",
       "  <th>Date:</th>                   <td>Sun, 08 Aug 2021</td>   <th>  Scale:             </th>  <td>158.611</td>\n",
       "</tr>\n",
       "<tr>\n",
       "  <th>Covariance type: </th>            <td>robust</td>        <th>  Time:              </th> <td>18:53:32</td>\n",
       "</tr>\n",
       "</table>\n",
       "<table class=\"simpletable\">\n",
       "<tr>\n",
       "          <td></td>             <th>coef</th>     <th>std err</th>      <th>z</th>      <th>P>|z|</th>  <th>[0.025</th>    <th>0.975]</th>  \n",
       "</tr>\n",
       "<tr>\n",
       "  <th>Intercept</th>         <td>   65.3013</td> <td>    1.235</td> <td>   52.856</td> <td> 0.000</td> <td>   62.880</td> <td>   67.723</td>\n",
       "</tr>\n",
       "<tr>\n",
       "  <th>RIAGENDRx[T.Male]</th> <td>    2.7422</td> <td>    0.402</td> <td>    6.828</td> <td> 0.000</td> <td>    1.955</td> <td>    3.529</td>\n",
       "</tr>\n",
       "<tr>\n",
       "  <th>BMXBMI</th>            <td>    0.1839</td> <td>    0.030</td> <td>    6.218</td> <td> 0.000</td> <td>    0.126</td> <td>    0.242</td>\n",
       "</tr>\n",
       "<tr>\n",
       "  <th>RIDAGEYR</th>          <td>   -0.0409</td> <td>    0.014</td> <td>   -2.845</td> <td> 0.004</td> <td>   -0.069</td> <td>   -0.013</td>\n",
       "</tr>\n",
       "</table>\n",
       "<table class=\"simpletable\">\n",
       "<tr>\n",
       "  <th>Skew:</th>          <td>     -0.6865</td> <th>  Kurtosis:          </th> <td>      3.9310</td>\n",
       "</tr>\n",
       "<tr>\n",
       "  <th>Centered skew:</th> <td>     -0.6664</td> <th>  Centered kurtosis: </th> <td>      3.9656</td>\n",
       "</tr>\n",
       "</table>"
      ],
      "text/plain": [
       "<class 'statsmodels.iolib.summary.Summary'>\n",
       "\"\"\"\n",
       "                               GEE Regression Results                              \n",
       "===================================================================================\n",
       "Dep. Variable:                      BPXDI1   No. Observations:                 5102\n",
       "Model:                                 GEE   No. clusters:                       30\n",
       "Method:                        Generalized   Min. cluster size:                 106\n",
       "                      Estimating Equations   Max. cluster size:                 226\n",
       "Family:                           Gaussian   Mean cluster size:               170.1\n",
       "Dependence structure:         Exchangeable   Num. iterations:                     7\n",
       "Date:                     Sun, 08 Aug 2021   Scale:                         158.611\n",
       "Covariance type:                    robust   Time:                         18:53:32\n",
       "=====================================================================================\n",
       "                        coef    std err          z      P>|z|      [0.025      0.975]\n",
       "-------------------------------------------------------------------------------------\n",
       "Intercept            65.3013      1.235     52.856      0.000      62.880      67.723\n",
       "RIAGENDRx[T.Male]     2.7422      0.402      6.828      0.000       1.955       3.529\n",
       "BMXBMI                0.1839      0.030      6.218      0.000       0.126       0.242\n",
       "RIDAGEYR             -0.0409      0.014     -2.845      0.004      -0.069      -0.013\n",
       "==============================================================================\n",
       "Skew:                         -0.6865   Kurtosis:                       3.9310\n",
       "Centered skew:                -0.6664   Centered kurtosis:              3.9656\n",
       "==============================================================================\n",
       "\"\"\""
      ]
     },
     "execution_count": 11,
     "metadata": {},
     "output_type": "execute_result"
    }
   ],
   "source": [
    "# enter your code here\n",
    "model_MV = sm.GEE.from_formula(\"BPXDI1 ~ BMXBMI + RIDAGEYR + RIAGENDRx\", groups=\"group\",\n",
    "           cov_struct=sm.cov_struct.Exchangeable(), data=da)\n",
    "result_MV = model_MV.fit()\n",
    "print('BPXDI1 ~ BMXBMI + RIDAGEYR + C(RIAGENDRx)',result_MV.cov_struct.summary())\n",
    "result_MV.summary()"
   ]
  },
  {
   "cell_type": "markdown",
   "metadata": {},
   "source": [
    "__Q2a.__ What is the ICC for this model?  What can you conclude by comparing it to the ICC for the model that you fit in question 1?"
   ]
  },
  {
   "cell_type": "markdown",
   "metadata": {},
   "source": [
    "The ICC is 0.030. The ICC was reduced by .001 and is possible that the other covariates or IV explained part of the ICC. So when controlling for those covariates the ICC value was reduced although negligible."
   ]
  },
  {
   "cell_type": "markdown",
   "metadata": {},
   "source": [
    "## Question 3: \n",
    "\n",
    "Split the data into separate datasets for females and for males and fit two separate marginal linear models for diastolic blood pressure, one only for females, and one only for males."
   ]
  },
  {
   "cell_type": "code",
   "execution_count": 12,
   "metadata": {},
   "outputs": [
    {
     "name": "stdout",
     "output_type": "stream",
     "text": [
      "Male: The correlation between two observations in the same cluster is 0.035\n"
     ]
    },
    {
     "data": {
      "text/html": [
       "<table class=\"simpletable\">\n",
       "<caption>GEE Regression Results</caption>\n",
       "<tr>\n",
       "  <th>Dep. Variable:</th>               <td>BPXDI1</td>        <th>  No. Observations:  </th>   <td>2462</td>  \n",
       "</tr>\n",
       "<tr>\n",
       "  <th>Model:</th>                         <td>GEE</td>         <th>  No. clusters:      </th>    <td>30</td>   \n",
       "</tr>\n",
       "<tr>\n",
       "  <th>Method:</th>                    <td>Generalized</td>     <th>  Min. cluster size: </th>    <td>38</td>   \n",
       "</tr>\n",
       "<tr>\n",
       "  <th></th>                      <td>Estimating Equations</td> <th>  Max. cluster size: </th>    <td>111</td>  \n",
       "</tr>\n",
       "<tr>\n",
       "  <th>Family:</th>                     <td>Gaussian</td>       <th>  Mean cluster size: </th>   <td>82.1</td>  \n",
       "</tr>\n",
       "<tr>\n",
       "  <th>Dependence structure:</th>     <td>Exchangeable</td>     <th>  Num. iterations:   </th>     <td>7</td>   \n",
       "</tr>\n",
       "<tr>\n",
       "  <th>Date:</th>                   <td>Sun, 08 Aug 2021</td>   <th>  Scale:             </th>  <td>173.641</td>\n",
       "</tr>\n",
       "<tr>\n",
       "  <th>Covariance type: </th>            <td>robust</td>        <th>  Time:              </th> <td>18:53:32</td>\n",
       "</tr>\n",
       "</table>\n",
       "<table class=\"simpletable\">\n",
       "<tr>\n",
       "      <td></td>         <th>coef</th>     <th>std err</th>      <th>z</th>      <th>P>|z|</th>  <th>[0.025</th>    <th>0.975]</th>  \n",
       "</tr>\n",
       "<tr>\n",
       "  <th>Intercept</th> <td>   66.8949</td> <td>    1.751</td> <td>   38.210</td> <td> 0.000</td> <td>   63.464</td> <td>   70.326</td>\n",
       "</tr>\n",
       "<tr>\n",
       "  <th>BMXBMI</th>    <td>    0.2652</td> <td>    0.055</td> <td>    4.846</td> <td> 0.000</td> <td>    0.158</td> <td>    0.372</td>\n",
       "</tr>\n",
       "<tr>\n",
       "  <th>RIDAGEYR</th>  <td>   -0.0661</td> <td>    0.017</td> <td>   -3.947</td> <td> 0.000</td> <td>   -0.099</td> <td>   -0.033</td>\n",
       "</tr>\n",
       "</table>\n",
       "<table class=\"simpletable\">\n",
       "<tr>\n",
       "  <th>Skew:</th>          <td>     -0.7533</td> <th>  Kurtosis:          </th> <td>      4.0786</td>\n",
       "</tr>\n",
       "<tr>\n",
       "  <th>Centered skew:</th> <td>     -0.7013</td> <th>  Centered kurtosis: </th> <td>      4.0070</td>\n",
       "</tr>\n",
       "</table>"
      ],
      "text/plain": [
       "<class 'statsmodels.iolib.summary.Summary'>\n",
       "\"\"\"\n",
       "                               GEE Regression Results                              \n",
       "===================================================================================\n",
       "Dep. Variable:                      BPXDI1   No. Observations:                 2462\n",
       "Model:                                 GEE   No. clusters:                       30\n",
       "Method:                        Generalized   Min. cluster size:                  38\n",
       "                      Estimating Equations   Max. cluster size:                 111\n",
       "Family:                           Gaussian   Mean cluster size:                82.1\n",
       "Dependence structure:         Exchangeable   Num. iterations:                     7\n",
       "Date:                     Sun, 08 Aug 2021   Scale:                         173.641\n",
       "Covariance type:                    robust   Time:                         18:53:32\n",
       "==============================================================================\n",
       "                 coef    std err          z      P>|z|      [0.025      0.975]\n",
       "------------------------------------------------------------------------------\n",
       "Intercept     66.8949      1.751     38.210      0.000      63.464      70.326\n",
       "BMXBMI         0.2652      0.055      4.846      0.000       0.158       0.372\n",
       "RIDAGEYR      -0.0661      0.017     -3.947      0.000      -0.099      -0.033\n",
       "==============================================================================\n",
       "Skew:                         -0.7533   Kurtosis:                       4.0786\n",
       "Centered skew:                -0.7013   Centered kurtosis:              4.0070\n",
       "==============================================================================\n",
       "\"\"\""
      ]
     },
     "metadata": {},
     "output_type": "display_data"
    },
    {
     "name": "stdout",
     "output_type": "stream",
     "text": [
      "\n",
      "Male: The correlation between two observations in the same cluster is 0.029\n"
     ]
    },
    {
     "data": {
      "text/html": [
       "<table class=\"simpletable\">\n",
       "<caption>GEE Regression Results</caption>\n",
       "<tr>\n",
       "  <th>Dep. Variable:</th>               <td>BPXDI1</td>        <th>  No. Observations:  </th>   <td>2640</td>  \n",
       "</tr>\n",
       "<tr>\n",
       "  <th>Model:</th>                         <td>GEE</td>         <th>  No. clusters:      </th>    <td>30</td>   \n",
       "</tr>\n",
       "<tr>\n",
       "  <th>Method:</th>                    <td>Generalized</td>     <th>  Min. cluster size: </th>    <td>59</td>   \n",
       "</tr>\n",
       "<tr>\n",
       "  <th></th>                      <td>Estimating Equations</td> <th>  Max. cluster size: </th>    <td>125</td>  \n",
       "</tr>\n",
       "<tr>\n",
       "  <th>Family:</th>                     <td>Gaussian</td>       <th>  Mean cluster size: </th>   <td>88.0</td>  \n",
       "</tr>\n",
       "<tr>\n",
       "  <th>Dependence structure:</th>     <td>Exchangeable</td>     <th>  Num. iterations:   </th>     <td>8</td>   \n",
       "</tr>\n",
       "<tr>\n",
       "  <th>Date:</th>                   <td>Sun, 08 Aug 2021</td>   <th>  Scale:             </th>  <td>143.982</td>\n",
       "</tr>\n",
       "<tr>\n",
       "  <th>Covariance type: </th>            <td>robust</td>        <th>  Time:              </th> <td>18:53:32</td>\n",
       "</tr>\n",
       "</table>\n",
       "<table class=\"simpletable\">\n",
       "<tr>\n",
       "      <td></td>         <th>coef</th>     <th>std err</th>      <th>z</th>      <th>P>|z|</th>  <th>[0.025</th>    <th>0.975]</th>  \n",
       "</tr>\n",
       "<tr>\n",
       "  <th>Intercept</th> <td>   65.7505</td> <td>    1.348</td> <td>   48.778</td> <td> 0.000</td> <td>   63.109</td> <td>   68.392</td>\n",
       "</tr>\n",
       "<tr>\n",
       "  <th>BMXBMI</th>    <td>    0.1324</td> <td>    0.030</td> <td>    4.374</td> <td> 0.000</td> <td>    0.073</td> <td>    0.192</td>\n",
       "</tr>\n",
       "<tr>\n",
       "  <th>RIDAGEYR</th>  <td>   -0.0192</td> <td>    0.019</td> <td>   -0.998</td> <td> 0.318</td> <td>   -0.057</td> <td>    0.019</td>\n",
       "</tr>\n",
       "</table>\n",
       "<table class=\"simpletable\">\n",
       "<tr>\n",
       "  <th>Skew:</th>          <td>     -0.6088</td> <th>  Kurtosis:          </th> <td>      3.6004</td>\n",
       "</tr>\n",
       "<tr>\n",
       "  <th>Centered skew:</th> <td>     -0.5958</td> <th>  Centered kurtosis: </th> <td>      3.6229</td>\n",
       "</tr>\n",
       "</table>"
      ],
      "text/plain": [
       "<class 'statsmodels.iolib.summary.Summary'>\n",
       "\"\"\"\n",
       "                               GEE Regression Results                              \n",
       "===================================================================================\n",
       "Dep. Variable:                      BPXDI1   No. Observations:                 2640\n",
       "Model:                                 GEE   No. clusters:                       30\n",
       "Method:                        Generalized   Min. cluster size:                  59\n",
       "                      Estimating Equations   Max. cluster size:                 125\n",
       "Family:                           Gaussian   Mean cluster size:                88.0\n",
       "Dependence structure:         Exchangeable   Num. iterations:                     8\n",
       "Date:                     Sun, 08 Aug 2021   Scale:                         143.982\n",
       "Covariance type:                    robust   Time:                         18:53:32\n",
       "==============================================================================\n",
       "                 coef    std err          z      P>|z|      [0.025      0.975]\n",
       "------------------------------------------------------------------------------\n",
       "Intercept     65.7505      1.348     48.778      0.000      63.109      68.392\n",
       "BMXBMI         0.1324      0.030      4.374      0.000       0.073       0.192\n",
       "RIDAGEYR      -0.0192      0.019     -0.998      0.318      -0.057       0.019\n",
       "==============================================================================\n",
       "Skew:                         -0.6088   Kurtosis:                       3.6004\n",
       "Centered skew:                -0.5958   Centered kurtosis:              3.6229\n",
       "==============================================================================\n",
       "\"\"\""
      ]
     },
     "metadata": {},
     "output_type": "display_data"
    }
   ],
   "source": [
    "# enter your code here\n",
    "df = da[da['RIAGENDRx'] == 'Female']\n",
    "dm = da[da['RIAGENDRx'] == 'Male']\n",
    "\n",
    "model_M = sm.GEE.from_formula(\"BPXDI1 ~ BMXBMI + RIDAGEYR\", groups=\"group\",\n",
    "           cov_struct=sm.cov_struct.Exchangeable(), data=dm)\n",
    "result_M = model_M.fit()\n",
    "print('Male:',result_M.cov_struct.summary())\n",
    "display(result_M.summary())\n",
    "\n",
    "model_F = sm.GEE.from_formula(\"BPXDI1 ~ BMXBMI + RIDAGEYR\", groups=\"group\",\n",
    "           cov_struct=sm.cov_struct.Exchangeable(), data=df)\n",
    "result_F = model_F.fit()\n",
    "print('\\nMale:',result_F.cov_struct.summary())\n",
    "display(result_F.summary())\n"
   ]
  },
  {
   "cell_type": "markdown",
   "metadata": {},
   "source": [
    "__Q3a.__ What do you learn by comparing these two fitted models?"
   ]
  },
  {
   "cell_type": "markdown",
   "metadata": {},
   "source": [
    "The ICC is indeed controlled for the gender. When controlling by gender by separating in groups the correlation drops in the female case and goes up in the male case."
   ]
  },
  {
   "cell_type": "markdown",
   "metadata": {},
   "source": [
    "## Question 4: \n",
    "\n",
    "Using the entire data set, fit a multilevel model for diastolic blood pressure, predicted by age, gender, BMI, and educational attainment.  Include a random intercept for groups."
   ]
  },
  {
   "cell_type": "code",
   "execution_count": 22,
   "metadata": {},
   "outputs": [
    {
     "name": "stdout",
     "output_type": "stream",
     "text": [
      "            Mixed Linear Model Regression Results\n",
      "=============================================================\n",
      "Model:              MixedLM  Dependent Variable:  BPXDI1     \n",
      "No. Observations:   5102     Method:              REML       \n",
      "No. Groups:         30       Scale:               155.7897   \n",
      "Min. group size:    106      Log-Likelihood:      -20145.7435\n",
      "Max. group size:    226      Converged:           Yes        \n",
      "Mean group size:    170.1                                    \n",
      "-------------------------------------------------------------\n",
      "                  Coef.  Std.Err.    z    P>|z| [0.025 0.975]\n",
      "-------------------------------------------------------------\n",
      "Intercept         70.763    0.661 107.026 0.000 69.467 72.059\n",
      "RIAGENDRx[T.Male]  2.545    0.351   7.258 0.000  1.857  3.232\n",
      "RIDAGEYR          -0.040    0.010  -3.997 0.000 -0.060 -0.021\n",
      "group Var          4.082    0.105                            \n",
      "=============================================================\n",
      "\n",
      "            Mixed Linear Model Regression Results\n",
      "=============================================================\n",
      "Model:              MixedLM  Dependent Variable:  BPXDI1     \n",
      "No. Observations:   5102     Method:              REML       \n",
      "No. Groups:         61       Scale:               142.3935   \n",
      "Min. group size:    33       Log-Likelihood:      -19961.2014\n",
      "Max. group size:    321      Converged:           Yes        \n",
      "Mean group size:    83.6                                     \n",
      "-------------------------------------------------------------\n",
      "                  Coef.  Std.Err.    z    P>|z| [0.025 0.975]\n",
      "-------------------------------------------------------------\n",
      "Intercept         68.630    0.596 115.128 0.000 67.461 69.798\n",
      "RIAGENDRx[T.Male]  2.605    0.337   7.734 0.000  1.945  3.265\n",
      "RIDAGEYR Var      18.188    0.312                            \n",
      "=============================================================\n",
      "\n"
     ]
    }
   ],
   "source": [
    "# enter your code here\n",
    "model_RI = sm.MixedLM.from_formula(\"BPXDI1 ~ RIDAGEYR + RIAGENDRx\",\n",
    "           groups=\"group\", re_formula = '1', data=da)\n",
    "result_RI = model_RI.fit()\n",
    "print(result_RI.summary())\n",
    "\n",
    "model_ARI = sm.MixedLM.from_formula(\"BPXDI1 ~ RIAGENDRx\",\n",
    "           groups=\"RIDAGEYR\", re_formula = '1', data=da)\n",
    "result_ARI = model_ARI.fit()\n",
    "print(result_ARI.summary())"
   ]
  },
  {
   "cell_type": "markdown",
   "metadata": {},
   "source": [
    "__Q4a.__ How would you describe the strength of the clustering in this analysis?"
   ]
  },
  {
   "cell_type": "markdown",
   "metadata": {},
   "source": [
    "Looking at the p value of the parameters calculated for the fixed effects, one would think that they are significant. However the log-likelihood is quite low compared to the model that incorporates age as the higher grouping level."
   ]
  },
  {
   "cell_type": "markdown",
   "metadata": {},
   "source": [
    "__Q4b:__ Include a random intercept for age, and describe your findings."
   ]
  },
  {
   "cell_type": "markdown",
   "metadata": {},
   "source": [
    "In this case the p value of the paramters calculated for fixed effects (only gender) is significant. And the variance between groups is quite high. In addition to that the log-likelihood is better than the previous model"
   ]
  }
 ],
 "metadata": {
  "kernelspec": {
   "display_name": "Python 3",
   "language": "python",
   "name": "python3"
  },
  "language_info": {
   "codemirror_mode": {
    "name": "ipython",
    "version": 3
   },
   "file_extension": ".py",
   "mimetype": "text/x-python",
   "name": "python",
   "nbconvert_exporter": "python",
   "pygments_lexer": "ipython3",
   "version": "3.8.10"
  }
 },
 "nbformat": 4,
 "nbformat_minor": 4
}
