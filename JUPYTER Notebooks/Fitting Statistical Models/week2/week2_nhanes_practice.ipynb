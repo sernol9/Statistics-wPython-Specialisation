{
 "cells": [
  {
   "cell_type": "markdown",
   "metadata": {},
   "source": [
    "# Practice notebook for regression analysis with NHANES\n",
    "\n",
    "This notebook will give you the opportunity to perform some\n",
    "regression analyses with the NHANES data that are similar to\n",
    "the analyses done in the week 2 case study notebook.\n",
    "\n",
    "You can enter your code into the cells that say \"enter your code here\",\n",
    "and you can type responses to the questions into the cells that say \"Type Markdown and Latex\".\n",
    "\n",
    "Note that most of the code that you will need to write below is very similar\n",
    "to code that appears in the case study notebook.  You will need\n",
    "to edit code from that notebook in small ways to adapt it to the\n",
    "prompts below.\n",
    "\n",
    "To get started, we will use the same module imports and\n",
    "read the data in the same way as we did in the case study:"
   ]
  },
  {
   "cell_type": "code",
   "execution_count": 106,
   "metadata": {},
   "outputs": [
    {
     "name": "stdout",
     "output_type": "stream",
     "text": [
      "(5735, 28)\n"
     ]
    },
    {
     "data": {
      "text/plain": [
       "(1561, 28)"
      ]
     },
     "execution_count": 106,
     "metadata": {},
     "output_type": "execute_result"
    }
   ],
   "source": [
    "%matplotlib inline\n",
    "import matplotlib.pyplot as plt\n",
    "import seaborn as sns\n",
    "import pandas as pd\n",
    "import statsmodels.api as sm\n",
    "import numpy as np\n",
    "\n",
    "url = \"..\\..\\\\nhanes_2015_2016.csv\"\n",
    "da = pd.read_csv(url)\n",
    "\n",
    "# Drop unused columns, drop rows with any missing values.\n",
    "vars = [\"RIDAGEYR\", \"RIAGENDR\", \"RIDRETH1\", \"BMXBMI\", \"SMQ020\",\"ALQ110\", \"DMDEDUC2\"]\n",
    "#da = da[vars].dropna()\n",
    "print(da.shape)\n",
    "da = da.dropna(subset = vars)\n",
    "da.shape"
   ]
  },
  {
   "cell_type": "markdown",
   "metadata": {},
   "source": [
    "## Question 1:\n",
    "\n",
    "Use linear regression to relate the expected body mass index (BMI) to a person's age."
   ]
  },
  {
   "cell_type": "code",
   "execution_count": 107,
   "metadata": {},
   "outputs": [
    {
     "name": "stdout",
     "output_type": "stream",
     "text": [
      "                            OLS Regression Results                            \n",
      "==============================================================================\n",
      "Dep. Variable:                 BMXBMI   R-squared:                       0.001\n",
      "Model:                            OLS   Adj. R-squared:                  0.001\n",
      "Method:                 Least Squares   F-statistic:                     2.051\n",
      "Date:                Sat, 31 Jul 2021   Prob (F-statistic):              0.152\n",
      "Time:                        01:14:21   Log-Likelihood:                -5360.5\n",
      "No. Observations:                1561   AIC:                         1.072e+04\n",
      "Df Residuals:                    1559   BIC:                         1.074e+04\n",
      "Df Model:                           1                                         \n",
      "Covariance Type:            nonrobust                                         \n",
      "==============================================================================\n",
      "                 coef    std err          t      P>|t|      [0.025      0.975]\n",
      "------------------------------------------------------------------------------\n",
      "Intercept     29.2152      0.588     49.668      0.000      28.061      30.369\n",
      "RIDAGEYR       0.0151      0.011      1.432      0.152      -0.006       0.036\n",
      "==============================================================================\n",
      "Omnibus:                      295.743   Durbin-Watson:                   2.008\n",
      "Prob(Omnibus):                  0.000   Jarque-Bera (JB):              583.734\n",
      "Skew:                           1.117   Prob(JB):                    1.75e-127\n",
      "Kurtosis:                       4.995   Cond. No.                         172.\n",
      "==============================================================================\n",
      "\n",
      "Notes:\n",
      "[1] Standard Errors assume that the covariance matrix of the errors is correctly specified.\n"
     ]
    },
    {
     "data": {
      "text/html": [
       "<div>\n",
       "<style scoped>\n",
       "    .dataframe tbody tr th:only-of-type {\n",
       "        vertical-align: middle;\n",
       "    }\n",
       "\n",
       "    .dataframe tbody tr th {\n",
       "        vertical-align: top;\n",
       "    }\n",
       "\n",
       "    .dataframe thead th {\n",
       "        text-align: right;\n",
       "    }\n",
       "</style>\n",
       "<table border=\"1\" class=\"dataframe\">\n",
       "  <thead>\n",
       "    <tr style=\"text-align: right;\">\n",
       "      <th></th>\n",
       "      <th>BMXBMI</th>\n",
       "      <th>RIDAGEYR</th>\n",
       "    </tr>\n",
       "  </thead>\n",
       "  <tbody>\n",
       "    <tr>\n",
       "      <th>BMXBMI</th>\n",
       "      <td>1.000000</td>\n",
       "      <td>0.036245</td>\n",
       "    </tr>\n",
       "    <tr>\n",
       "      <th>RIDAGEYR</th>\n",
       "      <td>0.036245</td>\n",
       "      <td>1.000000</td>\n",
       "    </tr>\n",
       "  </tbody>\n",
       "</table>\n",
       "</div>"
      ],
      "text/plain": [
       "            BMXBMI  RIDAGEYR\n",
       "BMXBMI    1.000000  0.036245\n",
       "RIDAGEYR  0.036245  1.000000"
      ]
     },
     "execution_count": 107,
     "metadata": {},
     "output_type": "execute_result"
    }
   ],
   "source": [
    "# enter your code here\n",
    "\n",
    "### OLS Model of BMXBMI with RIDAGEYR\n",
    "model = sm.OLS.from_formula(\"BMXBMI ~ RIDAGEYR\", data=da)\n",
    "result = model.fit()\n",
    "print(result.summary())\n",
    "da[['BMXBMI','RIDAGEYR']].corr()"
   ]
  },
  {
   "cell_type": "markdown",
   "metadata": {},
   "source": [
    "__Q1a.__ According to your fitted model, do older people tend to have higher or lower BMI than younger people?"
   ]
  },
  {
   "cell_type": "markdown",
   "metadata": {},
   "source": [
    "According to the model, it is almost insignificant the role of age in the BMI numbers for any age."
   ]
  },
  {
   "cell_type": "markdown",
   "metadata": {},
   "source": [
    "__Q1b.__ Based your analysis, are you confident that there is a relationship between BMI and age in the population that NHANES represents?"
   ]
  },
  {
   "cell_type": "markdown",
   "metadata": {},
   "source": [
    "Based on the analysis I am confident that there is no relationship whatsoever between these two variables. The correlation table also shows almost no correlation between these two variables."
   ]
  },
  {
   "cell_type": "markdown",
   "metadata": {},
   "source": [
    "__Q1c.__ By how much does the average BMI of a 40 year old differ from the average BMI of a 20 year old?"
   ]
  },
  {
   "cell_type": "markdown",
   "metadata": {},
   "source": [
    "by .182 BMI units"
   ]
  },
  {
   "cell_type": "markdown",
   "metadata": {},
   "source": [
    "__Q1d.__ What fraction of the variation of BMI in this population is explained by age?"
   ]
  },
  {
   "cell_type": "markdown",
   "metadata": {},
   "source": [
    ".1% which is negligible"
   ]
  },
  {
   "cell_type": "markdown",
   "metadata": {},
   "source": [
    "## Question 2: \n",
    "\n",
    "Add gender and ethnicity as additional control variables to your linear model relating BMI to age.  You will need to recode the ethnic groups based\n",
    "on the values in the codebook entry for [RIDRETH1](https://wwwn.cdc.gov/Nchs/Nhanes/2015-2016/DEMO_I.htm#RIDRETH1)."
   ]
  },
  {
   "cell_type": "code",
   "execution_count": 108,
   "metadata": {},
   "outputs": [
    {
     "name": "stdout",
     "output_type": "stream",
     "text": [
      "                            OLS Regression Results                            \n",
      "==============================================================================\n",
      "Dep. Variable:                 BMXBMI   R-squared:                       0.089\n",
      "Model:                            OLS   Adj. R-squared:                  0.086\n",
      "Method:                 Least Squares   F-statistic:                     25.37\n",
      "Date:                Sat, 31 Jul 2021   Prob (F-statistic):           7.34e-29\n",
      "Time:                        01:14:21   Log-Likelihood:                -5288.6\n",
      "No. Observations:                1561   AIC:                         1.059e+04\n",
      "Df Residuals:                    1554   BIC:                         1.063e+04\n",
      "Df Model:                           6                                         \n",
      "Covariance Type:            nonrobust                                         \n",
      "=====================================================================================\n",
      "                        coef    std err          t      P>|t|      [0.025      0.975]\n",
      "-------------------------------------------------------------------------------------\n",
      "Intercept            31.9407      0.678     47.120      0.000      30.611      33.270\n",
      "RIDRETH1x[T.NHB]     -0.8296      0.561     -1.478      0.140      -1.931       0.272\n",
      "RIDRETH1x[T.NHW]     -1.1036      0.560     -1.972      0.049      -2.201      -0.006\n",
      "RIDRETH1x[T.OH]      -1.2677      0.624     -2.031      0.042      -2.492      -0.044\n",
      "RIDRETH1x[T.OR]      -6.0535      0.581    -10.419      0.000      -7.193      -4.914\n",
      "RIAGENDRx[T.Male]    -1.0860      0.405     -2.685      0.007      -1.879      -0.292\n",
      "RIDAGEYR              0.0038      0.010      0.370      0.711      -0.016       0.024\n",
      "==============================================================================\n",
      "Omnibus:                      289.946   Durbin-Watson:                   2.013\n",
      "Prob(Omnibus):                  0.000   Jarque-Bera (JB):              588.137\n",
      "Skew:                           1.084   Prob(JB):                    1.94e-128\n",
      "Kurtosis:                       5.084   Cond. No.                         307.\n",
      "==============================================================================\n",
      "\n",
      "Notes:\n",
      "[1] Standard Errors assume that the covariance matrix of the errors is correctly specified.\n"
     ]
    }
   ],
   "source": [
    "# enter your code here\n",
    "# Create a labeled version of the gender variable\n",
    "da['RIDRETH1x']= da['RIDRETH1'].replace({1:'MA',2:'OH',3:'NHW',4:'NHB',5:'OR'})\n",
    "da['RIAGENDRx'] = da['RIAGENDR'].replace({1: \"Male\", 2: \"Female\"})\n",
    "model = sm.OLS.from_formula(\"BMXBMI ~ RIDAGEYR + RIDRETH1x + RIAGENDRx\", data=da)\n",
    "result = model.fit()\n",
    "print(result.summary())"
   ]
  },
  {
   "cell_type": "markdown",
   "metadata": {},
   "source": [
    "__Q2a.__ How did the mean relationship between BMI and age change when you added additional covariates to the model?"
   ]
  },
  {
   "cell_type": "markdown",
   "metadata": {},
   "source": [
    "It decreases"
   ]
  },
  {
   "cell_type": "markdown",
   "metadata": {},
   "source": [
    "__Q2b.__ How did the standard error for the regression parameter for age change when you added additional covariates to the model?"
   ]
  },
  {
   "cell_type": "markdown",
   "metadata": {},
   "source": [
    "There is no change"
   ]
  },
  {
   "cell_type": "markdown",
   "metadata": {},
   "source": [
    "__Q2c.__ How much additional variation in BMI is explained by age, gender, and ethnicity that is not explained by age alone?"
   ]
  },
  {
   "cell_type": "markdown",
   "metadata": {},
   "source": [
    "now the model explains 5% of the BMI values"
   ]
  },
  {
   "cell_type": "markdown",
   "metadata": {},
   "source": [
    "__Q2d.__ What reference level did the software select for the ethnicity variable?"
   ]
  },
  {
   "cell_type": "markdown",
   "metadata": {},
   "source": [
    "Mexican American Females"
   ]
  },
  {
   "cell_type": "markdown",
   "metadata": {},
   "source": [
    "__Q2e.__ What is the expected difference between the BMI of a 40 year-old non-Hispanic black man and a 30 year-old non-Hispanic black man?"
   ]
  },
  {
   "cell_type": "markdown",
   "metadata": {},
   "source": [
    "The expected difference is .065 "
   ]
  },
  {
   "cell_type": "markdown",
   "metadata": {},
   "source": [
    "__Q2f.__ What is the expected difference between the BMI of a 50 year-old Mexican American woman and a 50 year-old non-Hispanic black man?"
   ]
  },
  {
   "cell_type": "markdown",
   "metadata": {},
   "source": [
    "The expected difference is -.4499"
   ]
  },
  {
   "cell_type": "markdown",
   "metadata": {},
   "source": [
    "## Question 3: \n",
    "\n",
    "Randomly sample 25% of the NHANES data, then fit the same model you used in question 2 to this data set."
   ]
  },
  {
   "cell_type": "code",
   "execution_count": 109,
   "metadata": {},
   "outputs": [
    {
     "data": {
      "text/html": [
       "<table class=\"simpletable\">\n",
       "<caption>OLS Regression Results</caption>\n",
       "<tr>\n",
       "  <th>Dep. Variable:</th>         <td>BMXBMI</td>      <th>  R-squared:         </th> <td>   0.095</td>\n",
       "</tr>\n",
       "<tr>\n",
       "  <th>Model:</th>                   <td>OLS</td>       <th>  Adj. R-squared:    </th> <td>   0.081</td>\n",
       "</tr>\n",
       "<tr>\n",
       "  <th>Method:</th>             <td>Least Squares</td>  <th>  F-statistic:       </th> <td>   6.721</td>\n",
       "</tr>\n",
       "<tr>\n",
       "  <th>Date:</th>             <td>Sat, 31 Jul 2021</td> <th>  Prob (F-statistic):</th> <td>8.81e-07</td>\n",
       "</tr>\n",
       "<tr>\n",
       "  <th>Time:</th>                 <td>01:14:21</td>     <th>  Log-Likelihood:    </th> <td> -1302.3</td>\n",
       "</tr>\n",
       "<tr>\n",
       "  <th>No. Observations:</th>      <td>   390</td>      <th>  AIC:               </th> <td>   2619.</td>\n",
       "</tr>\n",
       "<tr>\n",
       "  <th>Df Residuals:</th>          <td>   383</td>      <th>  BIC:               </th> <td>   2646.</td>\n",
       "</tr>\n",
       "<tr>\n",
       "  <th>Df Model:</th>              <td>     6</td>      <th>                     </th>     <td> </td>   \n",
       "</tr>\n",
       "<tr>\n",
       "  <th>Covariance Type:</th>      <td>nonrobust</td>    <th>                     </th>     <td> </td>   \n",
       "</tr>\n",
       "</table>\n",
       "<table class=\"simpletable\">\n",
       "<tr>\n",
       "          <td></td>             <th>coef</th>     <th>std err</th>      <th>t</th>      <th>P>|t|</th>  <th>[0.025</th>    <th>0.975]</th>  \n",
       "</tr>\n",
       "<tr>\n",
       "  <th>Intercept</th>         <td>   30.9323</td> <td>    1.292</td> <td>   23.949</td> <td> 0.000</td> <td>   28.393</td> <td>   33.472</td>\n",
       "</tr>\n",
       "<tr>\n",
       "  <th>RIDRETH1x[T.NHB]</th>  <td>   -0.2833</td> <td>    1.051</td> <td>   -0.270</td> <td> 0.788</td> <td>   -2.349</td> <td>    1.783</td>\n",
       "</tr>\n",
       "<tr>\n",
       "  <th>RIDRETH1x[T.NHW]</th>  <td>    1.2945</td> <td>    1.076</td> <td>    1.203</td> <td> 0.230</td> <td>   -0.820</td> <td>    3.409</td>\n",
       "</tr>\n",
       "<tr>\n",
       "  <th>RIDRETH1x[T.OH]</th>   <td>    0.4918</td> <td>    1.175</td> <td>    0.418</td> <td> 0.676</td> <td>   -1.819</td> <td>    2.802</td>\n",
       "</tr>\n",
       "<tr>\n",
       "  <th>RIDRETH1x[T.OR]</th>   <td>   -4.8646</td> <td>    1.141</td> <td>   -4.263</td> <td> 0.000</td> <td>   -7.108</td> <td>   -2.621</td>\n",
       "</tr>\n",
       "<tr>\n",
       "  <th>RIAGENDRx[T.Male]</th> <td>   -1.3361</td> <td>    0.783</td> <td>   -1.707</td> <td> 0.089</td> <td>   -2.875</td> <td>    0.203</td>\n",
       "</tr>\n",
       "<tr>\n",
       "  <th>RIDAGEYR</th>          <td> 1.282e-05</td> <td>    0.020</td> <td>    0.001</td> <td> 0.999</td> <td>   -0.039</td> <td>    0.039</td>\n",
       "</tr>\n",
       "</table>\n",
       "<table class=\"simpletable\">\n",
       "<tr>\n",
       "  <th>Omnibus:</th>       <td>61.039</td> <th>  Durbin-Watson:     </th> <td>   1.988</td>\n",
       "</tr>\n",
       "<tr>\n",
       "  <th>Prob(Omnibus):</th> <td> 0.000</td> <th>  Jarque-Bera (JB):  </th> <td> 115.921</td>\n",
       "</tr>\n",
       "<tr>\n",
       "  <th>Skew:</th>          <td> 0.872</td> <th>  Prob(JB):          </th> <td>6.73e-26</td>\n",
       "</tr>\n",
       "<tr>\n",
       "  <th>Kurtosis:</th>      <td> 5.022</td> <th>  Cond. No.          </th> <td>    298.</td>\n",
       "</tr>\n",
       "</table><br/><br/>Notes:<br/>[1] Standard Errors assume that the covariance matrix of the errors is correctly specified."
      ],
      "text/plain": [
       "<class 'statsmodels.iolib.summary.Summary'>\n",
       "\"\"\"\n",
       "                            OLS Regression Results                            \n",
       "==============================================================================\n",
       "Dep. Variable:                 BMXBMI   R-squared:                       0.095\n",
       "Model:                            OLS   Adj. R-squared:                  0.081\n",
       "Method:                 Least Squares   F-statistic:                     6.721\n",
       "Date:                Sat, 31 Jul 2021   Prob (F-statistic):           8.81e-07\n",
       "Time:                        01:14:21   Log-Likelihood:                -1302.3\n",
       "No. Observations:                 390   AIC:                             2619.\n",
       "Df Residuals:                     383   BIC:                             2646.\n",
       "Df Model:                           6                                         \n",
       "Covariance Type:            nonrobust                                         \n",
       "=====================================================================================\n",
       "                        coef    std err          t      P>|t|      [0.025      0.975]\n",
       "-------------------------------------------------------------------------------------\n",
       "Intercept            30.9323      1.292     23.949      0.000      28.393      33.472\n",
       "RIDRETH1x[T.NHB]     -0.2833      1.051     -0.270      0.788      -2.349       1.783\n",
       "RIDRETH1x[T.NHW]      1.2945      1.076      1.203      0.230      -0.820       3.409\n",
       "RIDRETH1x[T.OH]       0.4918      1.175      0.418      0.676      -1.819       2.802\n",
       "RIDRETH1x[T.OR]      -4.8646      1.141     -4.263      0.000      -7.108      -2.621\n",
       "RIAGENDRx[T.Male]    -1.3361      0.783     -1.707      0.089      -2.875       0.203\n",
       "RIDAGEYR           1.282e-05      0.020      0.001      0.999      -0.039       0.039\n",
       "==============================================================================\n",
       "Omnibus:                       61.039   Durbin-Watson:                   1.988\n",
       "Prob(Omnibus):                  0.000   Jarque-Bera (JB):              115.921\n",
       "Skew:                           0.872   Prob(JB):                     6.73e-26\n",
       "Kurtosis:                       5.022   Cond. No.                         298.\n",
       "==============================================================================\n",
       "\n",
       "Notes:\n",
       "[1] Standard Errors assume that the covariance matrix of the errors is correctly specified.\n",
       "\"\"\""
      ]
     },
     "execution_count": 109,
     "metadata": {},
     "output_type": "execute_result"
    }
   ],
   "source": [
    "# enter your code here\n",
    "das = da.sample(frac=0.25)\n",
    "model = sm.OLS.from_formula(\"BMXBMI ~ RIDAGEYR + RIDRETH1x + RIAGENDRx\", data=das)\n",
    "result1 = model.fit()\n",
    "result1.summary()"
   ]
  },
  {
   "cell_type": "markdown",
   "metadata": {},
   "source": [
    "__Q3a.__ How do the estimated regression coefficients and their standard errors compare between these two models?  Do you see any systematic relationship between the two sets of results?"
   ]
  },
  {
   "cell_type": "markdown",
   "metadata": {},
   "source": [
    "The coefficients for gender and ethnicity decrease whilst the one for age increases. STD errors also increase for all of them.\n",
    "This can be explained as the sample is smaller and the data sample might be skewed towards one gender or ethnicitiy. We do not know if we have equal representations for all values."
   ]
  },
  {
   "cell_type": "markdown",
   "metadata": {},
   "source": [
    "## Question 4:\n",
    "\n",
    "Generate a scatterplot of the residuals against the fitted values for the model you fit in question 2."
   ]
  },
  {
   "cell_type": "code",
   "execution_count": 110,
   "metadata": {},
   "outputs": [
    {
     "data": {
      "text/plain": [
       "Text(0, 0.5, 'Residuals')"
      ]
     },
     "execution_count": 110,
     "metadata": {},
     "output_type": "execute_result"
    },
    {
     "data": {
      "image/png": "[encoded data removed]",
      "text/plain": [
       "<Figure size 432x288 with 1 Axes>"
      ]
     },
     "metadata": {
      "needs_background": "light"
     },
     "output_type": "display_data"
    }
   ],
   "source": [
    "# enter your code here\n",
    "pp = sns.scatterplot(x=result.fittedvalues, y=result.resid)\n",
    "pp.set_xlabel(\"Fitted values\")\n",
    "#_ = pp.set_ylabel(\"Residuals\")\n",
    "pp.set_ylabel(\"Residuals\")\n"
   ]
  },
  {
   "cell_type": "markdown",
   "metadata": {},
   "source": [
    "__Q4a.__ What mean/variance relationship do you see?"
   ]
  },
  {
   "cell_type": "markdown",
   "metadata": {},
   "source": [
    "This was a surprise. The graph clearly shows subgroups per age so the initial analysis is not correct. The data needs to be sliced and analysed per group. For each group you can see that the variance grows with age and is skewed to the right. The distribution might have a long tail on the right. There is also concentration around the mean based on the graph above."
   ]
  },
  {
   "cell_type": "markdown",
   "metadata": {},
   "source": [
    "## Question 5: \n",
    "\n",
    "Generate a plot showing the fitted mean BMI as a function of age for Mexican American men.  Include a 95% simultaneous confidence band on your graph."
   ]
  },
  {
   "cell_type": "code",
   "execution_count": 111,
   "metadata": {},
   "outputs": [
    {
     "data": {
      "image/png": "[encoded data removed]",
      "text/plain": [
       "<Figure size 432x288 with 1 Axes>"
      ]
     },
     "metadata": {
      "needs_background": "light"
     },
     "output_type": "display_data"
    }
   ],
   "source": [
    "# enter your code here\n",
    "from statsmodels.sandbox.predict_functional import predict_functional\n",
    "from statsmodels.graphics.regressionplots import plot_ccpr\n",
    "\n",
    "# Fix certain variables at reference values.  Not all of these\n",
    "# variables are used here, but we provide them with a value anyway\n",
    "# to prevent a warning message from appearing.\n",
    "ds = da[[\"RIDAGEYR\", \"RIAGENDRx\", \"RIDRETH1x\", \"BMXBMI\"]]\n",
    "model = sm.OLS.from_formula(\"BMXBMI ~ RIDAGEYR + RIDRETH1x + RIAGENDRx\", data=ds)\n",
    "result = model.fit()\n",
    "result.summary()\n",
    "\n",
    "# MALES The returned values are the predicted values (pr), the confidence bands (cb),\n",
    "# and the function values (fv).\n",
    "values = {\"RIAGENDRx\": \"Male\", 'RIDRETH1x':'MA'}\n",
    "pr, cb, fv = predict_functional(result, \"RIDAGEYR\",\n",
    "                values=values, ci_method=\"simultaneous\")\n",
    "dm=pd.DataFrame({'Age':fv,'BMI':pr})\n",
    "ax = sns.lineplot(x='Age', y='BMI', data = dm, label = 'Male')\n",
    "ax.fill_between(fv, cb[:, 0], cb[:, 1], color='grey', alpha=0.4)\n",
    "ax.set_xlabel(\"Age\")\n",
    "ax.set_ylabel(\"BMI\")\n",
    "\n",
    "# FEMALES The returned values are the predicted values (pr), the confidence bands (cb),\n",
    "# and the function values (fv).\n",
    "values = {\"RIAGENDRx\": \"Female\", 'RIDRETH1x':'MA'}\n",
    "pr, cb, fv = predict_functional(result, \"RIDAGEYR\",\n",
    "                values=values, ci_method=\"simultaneous\")\n",
    "df=pd.DataFrame({'Age':fv,'BMI':pr})\n",
    "sns.lineplot(x='Age', y='BMI', data = df, label = 'Female')\n",
    "ax.fill_between(fv, cb[:, 0], cb[:, 1], color='grey', alpha=0.4)\n",
    "ax.legend(bbox_to_anchor=(1.05, 1), loc='upper left', borderaxespad=0)\n",
    "plt.show()\n"
   ]
  },
  {
   "cell_type": "markdown",
   "metadata": {},
   "source": [
    "__Q5a.__ According to your graph, what is the longest interval starting at year 30 following which the mean BMI could be constant?  *Hint:* What is the longest horizontal line starting at age 30 that remains within the confidence band?"
   ]
  },
  {
   "cell_type": "markdown",
   "metadata": {},
   "source": [
    "Anything from 30.25 to 30.75"
   ]
  },
  {
   "cell_type": "markdown",
   "metadata": {},
   "source": [
    "__Q5b.__ Add an additional line and confidence band to the same plot, showing the relationship between age and BMI for Mexican American women.  At what ages do these intervals not overlap?"
   ]
  },
  {
   "cell_type": "markdown",
   "metadata": {},
   "source": [
    "The overlap throughout the age range. The overlap is narrower between 40 and 60 years old"
   ]
  },
  {
   "cell_type": "markdown",
   "metadata": {},
   "source": [
    "## Question 6:\n",
    "\n",
    "Use an added variable plot to assess the linearity of the relationship between BMI and age (when controlling for gender and ethnicity)."
   ]
  },
  {
   "cell_type": "code",
   "execution_count": 112,
   "metadata": {},
   "outputs": [
    {
     "name": "stdout",
     "output_type": "stream",
     "text": [
      "Bbox(x0=0.125, y0=0.125, x1=0.9, y1=0.88)\n"
     ]
    },
    {
     "data": {
      "image/png": "[encoded data removed]",
      "text/plain": [
       "<Figure size 432x288 with 1 Axes>"
      ]
     },
     "metadata": {
      "needs_background": "light"
     },
     "output_type": "display_data"
    }
   ],
   "source": [
    "# enter your code here\n",
    "ax = plt.axes()\n",
    "plot_ccpr(result, \"RIDAGEYR\", ax)\n",
    "print (ax.figbox)\n",
    "ax.lines[0].set_alpha(0.2) # Reduce overplotting with transparency\n",
    "ax.lines[1].set_color('orange')"
   ]
  },
  {
   "cell_type": "markdown",
   "metadata": {},
   "source": [
    "__Q6a.__ What is your interpretation of the added variable plot?"
   ]
  },
  {
   "cell_type": "markdown",
   "metadata": {},
   "source": [
    "This is comparing how BMI relates to age if ethnicity and gender is fixed.\n",
    "It appears that BMI distribution is evenly distributed across all ages. Distribution from the mean is even with more scatter values in the younger population. There is however an apparent clump in BMI values at the 80 year old mark, which may suggest that the BMI variance is less in this age group."
   ]
  },
  {
   "cell_type": "markdown",
   "metadata": {},
   "source": [
    "## Question 7: \n",
    "\n",
    "Generate a binary variable reflecting whether a person has had at least 12 drinks in their lifetime, based on the [ALQ110](https://wwwn.cdc.gov/Nchs/Nhanes/2015-2016/ALQ_I.htm#ALQ110) variable in NHANES.  Calculate the marginal probability, odds, and log odds of this variable for women and for men.  Then calculate the odds ratio for females relative to males."
   ]
  },
  {
   "cell_type": "code",
   "execution_count": 113,
   "metadata": {},
   "outputs": [
    {
     "data": {
      "text/html": [
       "<div>\n",
       "<style scoped>\n",
       "    .dataframe tbody tr th:only-of-type {\n",
       "        vertical-align: middle;\n",
       "    }\n",
       "\n",
       "    .dataframe tbody tr th {\n",
       "        vertical-align: top;\n",
       "    }\n",
       "\n",
       "    .dataframe thead th {\n",
       "        text-align: right;\n",
       "    }\n",
       "</style>\n",
       "<table border=\"1\" class=\"dataframe\">\n",
       "  <thead>\n",
       "    <tr style=\"text-align: right;\">\n",
       "      <th></th>\n",
       "      <th>No Drink</th>\n",
       "      <th>Drink</th>\n",
       "      <th>Odds</th>\n",
       "      <th>Log Odds</th>\n",
       "    </tr>\n",
       "    <tr>\n",
       "      <th>RIAGENDRx</th>\n",
       "      <th></th>\n",
       "      <th></th>\n",
       "      <th></th>\n",
       "      <th></th>\n",
       "    </tr>\n",
       "  </thead>\n",
       "  <tbody>\n",
       "    <tr>\n",
       "      <th>Female</th>\n",
       "      <td>0.549232</td>\n",
       "      <td>0.450768</td>\n",
       "      <td>1.218437</td>\n",
       "      <td>0.197569</td>\n",
       "    </tr>\n",
       "    <tr>\n",
       "      <th>Male</th>\n",
       "      <td>0.541203</td>\n",
       "      <td>0.458797</td>\n",
       "      <td>1.179612</td>\n",
       "      <td>0.165185</td>\n",
       "    </tr>\n",
       "  </tbody>\n",
       "</table>\n",
       "</div>"
      ],
      "text/plain": [
       "           No Drink     Drink      Odds  Log Odds\n",
       "RIAGENDRx                                        \n",
       "Female     0.549232  0.450768  1.218437  0.197569\n",
       "Male       0.541203  0.458797  1.179612  0.165185"
      ]
     },
     "execution_count": 113,
     "metadata": {},
     "output_type": "execute_result"
    }
   ],
   "source": [
    "# enter your code here\n",
    "da.columns\n",
    "da['ALQ110x'] = da['ALQ110'].replace({2: 0, 7: np.nan, 9: np.nan})\n",
    "ga = da.groupby('RIAGENDRx')['ALQ110x'].value_counts().unstack().apply(lambda x: x/x.sum(), axis=1)\n",
    "ga.columns    = ['No Drink','Drink']\n",
    "ga['Odds']    = ga['No Drink'] / ga ['Drink']\n",
    "ga['Log Odds']= np.log(ga['Odds'])\n",
    "ga"
   ]
  },
  {
   "cell_type": "markdown",
   "metadata": {},
   "source": [
    "__Q7a.__ Based on the log odds alone, do more than 50% of women drink alcohol?"
   ]
  },
  {
   "cell_type": "markdown",
   "metadata": {},
   "source": [
    "No"
   ]
  },
  {
   "cell_type": "markdown",
   "metadata": {},
   "source": [
    "__Q7b.__ Does there appear to be an important difference between the alcohol use rate of women and men?"
   ]
  },
  {
   "cell_type": "markdown",
   "metadata": {},
   "source": [
    "Not apparently. The difference is less than 1%"
   ]
  },
  {
   "cell_type": "markdown",
   "metadata": {},
   "source": [
    "## Question 8: \n",
    "\n",
    "Use logistic regression to express the log odds that a person drinks (based on the binary drinking variable that you constructed above) in terms of gender."
   ]
  },
  {
   "cell_type": "code",
   "execution_count": 114,
   "metadata": {},
   "outputs": [
    {
     "name": "stdout",
     "output_type": "stream",
     "text": [
      "                 Generalized Linear Model Regression Results                  \n",
      "==============================================================================\n",
      "Dep. Variable:                ALQ110x   No. Observations:                 1556\n",
      "Model:                            GLM   Df Residuals:                     1554\n",
      "Model Family:                Binomial   Df Model:                            1\n",
      "Link Function:                  logit   Scale:                          1.0000\n",
      "Method:                          IRLS   Log-Likelihood:                -1071.6\n",
      "Date:                Sat, 31 Jul 2021   Deviance:                       2143.3\n",
      "Time:                        01:14:22   Pearson chi2:                 1.56e+03\n",
      "No. Iterations:                     4                                         \n",
      "Covariance Type:            nonrobust                                         \n",
      "=====================================================================================\n",
      "                        coef    std err          z      P>|z|      [0.025      0.975]\n",
      "-------------------------------------------------------------------------------------\n",
      "Intercept            -0.1976      0.060     -3.271      0.001      -0.316      -0.079\n",
      "RIAGENDRx[T.Male]     0.0324      0.112      0.288      0.773      -0.188       0.253\n",
      "=====================================================================================\n",
      "0.03238351166368075\n"
     ]
    }
   ],
   "source": [
    "# enter your code here\n",
    "model = sm.GLM.from_formula(\"ALQ110x ~ RIAGENDRx\", family=sm.families.Binomial(), data=da)\n",
    "result = model.fit()\n",
    "print(result.summary())\n",
    "\n",
    "difference_lo = ga['Log Odds']['Female'] - ga['Log Odds']['Male']\n",
    "print(difference_lo)"
   ]
  },
  {
   "cell_type": "markdown",
   "metadata": {},
   "source": [
    "__Q8a.__ Is there statistical evidence that the drinking rate differs between women and men?  If so, in what direction is there a difference?"
   ]
  },
  {
   "cell_type": "markdown",
   "metadata": {},
   "source": [
    "At 95% confidence there is no significant evidence that the coeficient for being Male is bigger than 0. The P value for the coefficient is .668 much greater than .05 and the confidence interval contains the value zero.\n",
    "Assuming that there was any statistical evidence the coefficient indicates that the log odds for the male being a drinker are -.045 units lower than the log odds for the female being a drinker. "
   ]
  },
  {
   "cell_type": "markdown",
   "metadata": {},
   "source": [
    "__Q8b.__ Confirm that the log odds ratio between drinking and smoking calculated using the logistic regression model matches the log odds ratio calculated directly in question 6."
   ]
  },
  {
   "cell_type": "markdown",
   "metadata": {},
   "source": [
    "Confirmed"
   ]
  },
  {
   "cell_type": "markdown",
   "metadata": {},
   "source": [
    "## Question 9: \n",
    "\n",
    "Use logistic regression to relate drinking to age, gender, and education."
   ]
  },
  {
   "cell_type": "code",
   "execution_count": 115,
   "metadata": {},
   "outputs": [
    {
     "name": "stdout",
     "output_type": "stream",
     "text": [
      "                 Generalized Linear Model Regression Results                  \n",
      "==============================================================================\n",
      "Dep. Variable:                ALQ110x   No. Observations:                 1555\n",
      "Model:                            GLM   Df Residuals:                     1548\n",
      "Model Family:                Binomial   Df Model:                            6\n",
      "Link Function:                  logit   Scale:                          1.0000\n",
      "Method:                          IRLS   Log-Likelihood:                -1048.1\n",
      "Date:                Sat, 31 Jul 2021   Deviance:                       2096.3\n",
      "Time:                        01:14:29   Pearson chi2:                 1.56e+03\n",
      "No. Iterations:                     4                                         \n",
      "Covariance Type:            nonrobust                                         \n",
      "================================================================================================\n",
      "                                   coef    std err          z      P>|z|      [0.025      0.975]\n",
      "------------------------------------------------------------------------------------------------\n",
      "Intercept                       -0.8848      0.219     -4.038      0.000      -1.314      -0.455\n",
      "RIAGENDRx[T.Male]                0.0139      0.114      0.122      0.903      -0.210       0.238\n",
      "DMDEDUC2x[T.<9]                 -0.3943      0.195     -2.027      0.043      -0.776      -0.013\n",
      "DMDEDUC2x[T.College]             0.4549      0.183      2.489      0.013       0.097       0.813\n",
      "DMDEDUC2x[T.HS/GED]              0.3977      0.184      2.157      0.031       0.036       0.759\n",
      "DMDEDUC2x[T.Some college/AA]     0.5480      0.176      3.119      0.002       0.204       0.892\n",
      "RIDAGEYR                         0.0082      0.003      2.786      0.005       0.002       0.014\n",
      "================================================================================================\n"
     ]
    }
   ],
   "source": [
    "# enter your code here\n",
    "da['DMDEDUC2x'] = da['DMDEDUC2'].replace({1: \"<9\", 2: \"9-11\", 3: \"HS/GED\", 4: \"Some college/AA\", 5: \"College\", \n",
    "                                       7: np.nan, 9: np.nan})\n",
    "model = sm.GLM.from_formula(\"ALQ110x ~ RIDAGEYR + RIAGENDRx + DMDEDUC2x\", family=sm.families.Binomial(), data=da)\n",
    "result = model.fit()\n",
    "print(result.summary())"
   ]
  },
  {
   "cell_type": "markdown",
   "metadata": {},
   "source": [
    "__Q9a.__ Which of these predictor variables shows a statistically significant association with drinking?"
   ]
  },
  {
   "cell_type": "markdown",
   "metadata": {},
   "source": [
    "Age and Education"
   ]
  },
  {
   "cell_type": "markdown",
   "metadata": {},
   "source": [
    "__Q9b.__ What is the odds of a college educated, 50 year old woman drinking?"
   ]
  },
  {
   "cell_type": "markdown",
   "metadata": {},
   "source": [
    "The odds of 50 year old woman drinking is exp(.4549 + (.0082)*50) = 2.37"
   ]
  },
  {
   "cell_type": "markdown",
   "metadata": {},
   "source": [
    "__Q9c.__ What is the odds ratio between the drinking status for college graduates and high school graduates (with no college), holding gender and age fixed?"
   ]
  },
  {
   "cell_type": "markdown",
   "metadata": {},
   "source": [
    "exp(log odds = .4549) / exp (log odds = .3977 ) ~ exp(.4549 - .3977) = 1.05"
   ]
  },
  {
   "cell_type": "markdown",
   "metadata": {},
   "source": [
    "__Q9d.__ Did the regression parameter for gender change to a meaningful degree when age and education were added to the model?"
   ]
  },
  {
   "cell_type": "markdown",
   "metadata": {},
   "source": [
    "No, on the contrary it got even more meaningless with the p value being almost 100%"
   ]
  },
  {
   "cell_type": "markdown",
   "metadata": {},
   "source": [
    "## Question 10:\n",
    "\n",
    "Construct a CERES plot for the relationship between drinking and age (using the model that controls for gender and educational attainment)."
   ]
  },
  {
   "cell_type": "code",
   "execution_count": null,
   "metadata": {},
   "outputs": [],
   "source": [
    "# enter your code here"
   ]
  },
  {
   "cell_type": "markdown",
   "metadata": {},
   "source": [
    "__Q10a.__ Does the plot indicate any major non-linearity in the relationship between age and the log odds for drinking?"
   ]
  }
 ],
 "metadata": {
  "kernelspec": {
   "display_name": "Python 3",
   "language": "python",
   "name": "python3"
  },
  "language_info": {
   "codemirror_mode": {
    "name": "ipython",
    "version": 3
   },
   "file_extension": ".py",
   "mimetype": "text/x-python",
   "name": "python",
   "nbconvert_exporter": "python",
   "pygments_lexer": "ipython3",
   "version": "3.8.10"
  }
 },
 "nbformat": 4,
 "nbformat_minor": 4
}
